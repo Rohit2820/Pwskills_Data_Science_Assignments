{
 "cells": [
  {
   "cell_type": "code",
   "execution_count": null,
   "id": "cf64b9bc-269d-4700-b2ac-a1f0d205714a",
   "metadata": {},
   "outputs": [],
   "source": []
  },
  {
   "cell_type": "markdown",
   "id": "cfc94522-0476-424d-9525-8c8df62cb51d",
   "metadata": {},
   "source": [
    "## PYTHON BASIC DATATYPES ASSIGNMENT"
   ]
  },
  {
   "cell_type": "code",
   "execution_count": null,
   "id": "c01d330a-c090-4c6b-8311-2641c277e332",
   "metadata": {},
   "outputs": [],
   "source": []
  },
  {
   "cell_type": "markdown",
   "id": "83612696-ede9-430b-87db-f5d6f15827ad",
   "metadata": {},
   "source": [
    "1. Write a program to reverse a string."
   ]
  },
  {
   "cell_type": "code",
   "execution_count": 5,
   "id": "a989376d-250e-496f-ae99-011a46848a34",
   "metadata": {},
   "outputs": [
    {
     "name": "stdout",
     "output_type": "stream",
     "text": [
      "Reversed string is :  sllikswp\n"
     ]
    }
   ],
   "source": [
    "string = 'pwskills'\n",
    "reverse_str = string[::-1]\n",
    "print(\"Reversed string is : \" , reverse_str);"
   ]
  },
  {
   "cell_type": "code",
   "execution_count": null,
   "id": "9f5e1801-c7af-4207-8ac2-dc025a1ddceb",
   "metadata": {},
   "outputs": [],
   "source": []
  },
  {
   "cell_type": "markdown",
   "id": "7979e35a-d6ac-4000-bbfc-3fecd4fca7a8",
   "metadata": {},
   "source": [
    "2. Check if a string is a palindrome."
   ]
  },
  {
   "cell_type": "code",
   "execution_count": 7,
   "id": "aa8a5510-bc26-43fa-901a-d35df6064f3a",
   "metadata": {},
   "outputs": [
    {
     "name": "stdout",
     "output_type": "stream",
     "text": [
      "Provided string is a palindrone\n"
     ]
    }
   ],
   "source": [
    "string = 'abba'\n",
    "reversed_str = string[::-1]\n",
    "if string == reversed_str:\n",
    "    print(\"Provided string is a palindrone\");"
   ]
  },
  {
   "cell_type": "code",
   "execution_count": null,
   "id": "36ad8c28-9b90-43ef-ac16-3b953d1adf35",
   "metadata": {},
   "outputs": [],
   "source": []
  },
  {
   "cell_type": "markdown",
   "id": "369016e5-a9fa-45fb-9995-6d1859324b21",
   "metadata": {},
   "source": [
    "3. Convert a string to uppercase."
   ]
  },
  {
   "cell_type": "code",
   "execution_count": 9,
   "id": "f96f4881-ce43-4853-8c60-c120f7521f47",
   "metadata": {},
   "outputs": [
    {
     "name": "stdout",
     "output_type": "stream",
     "text": [
      "Uppercase of the given string is :  PWSKILLS\n"
     ]
    }
   ],
   "source": [
    "string = 'pwskills'\n",
    "conv_upper = string.upper()\n",
    "print('Uppercase of the given string is : ',conv_upper)"
   ]
  },
  {
   "cell_type": "code",
   "execution_count": null,
   "id": "07b80b6b-ccfe-49de-9f96-0d3f36f39790",
   "metadata": {},
   "outputs": [],
   "source": []
  },
  {
   "cell_type": "markdown",
   "id": "feb67566-e376-4a0b-989f-696ca101e804",
   "metadata": {},
   "source": [
    "4. Convert a string to lowercase."
   ]
  },
  {
   "cell_type": "code",
   "execution_count": 15,
   "id": "08306272-3d6d-4a9c-875b-badb7aafe43a",
   "metadata": {},
   "outputs": [
    {
     "name": "stdout",
     "output_type": "stream",
     "text": [
      "Lowercase of the given string is :  pwskills\n"
     ]
    }
   ],
   "source": [
    "string = 'Pwskills'\n",
    "conv_lower = string.lower()\n",
    "print('Lowercase of the given string is : ',conv_lower)"
   ]
  },
  {
   "cell_type": "code",
   "execution_count": null,
   "id": "7fdcd76c-b5c3-45a1-a8a5-2e3336ad8e32",
   "metadata": {},
   "outputs": [],
   "source": []
  },
  {
   "cell_type": "markdown",
   "id": "4bf74900-ef2c-488b-a753-0aeaec023669",
   "metadata": {},
   "source": [
    "5. Count the number of vowels in a string."
   ]
  },
  {
   "cell_type": "code",
   "execution_count": 35,
   "id": "86af73da-3451-44ba-a857-cce26a6f667f",
   "metadata": {},
   "outputs": [
    {
     "name": "stdout",
     "output_type": "stream",
     "text": [
      "vowels in a given string is  4\n"
     ]
    }
   ],
   "source": [
    "string = 'pwskillkeios'\n",
    "vowels = set('aeiou')\n",
    "string= string.lower()\n",
    "vw_count =0\n",
    "for ch in string:\n",
    "    if ch in vowels:\n",
    "        vw_count = vw_count+1\n",
    "    else:\n",
    "        continue\n",
    "        \n",
    "        \n",
    "print('vowels in a given string is ',vw_count)\n"
   ]
  },
  {
   "cell_type": "markdown",
   "id": "0f5e2e39-966c-4fb9-8657-106907e7b821",
   "metadata": {},
   "source": [
    "6. Count the number of consonants in a string."
   ]
  },
  {
   "cell_type": "code",
   "execution_count": 34,
   "id": "6bd4ec4e-8a3c-4810-b411-3cecc261bb36",
   "metadata": {},
   "outputs": [
    {
     "name": "stdout",
     "output_type": "stream",
     "text": [
      "vowels in a given string is  8\n"
     ]
    }
   ],
   "source": [
    "string = 'pwskillkeios'\n",
    "string= string.lower()\n",
    "vowels = set('aeiou')\n",
    "cons_count =0\n",
    "for ch in string:\n",
    "    if ch not in vowels:\n",
    "        cons_count = cons_count+1\n",
    "    else:\n",
    "        continue\n",
    "        \n",
    "        \n",
    "print('vowels in a given string is ',cons_count)"
   ]
  },
  {
   "cell_type": "code",
   "execution_count": null,
   "id": "5dc1b5fc-d62f-4a83-bfdd-bb47d856a523",
   "metadata": {},
   "outputs": [],
   "source": []
  },
  {
   "cell_type": "markdown",
   "id": "4e231dd9-8764-45ce-8052-f83139c04174",
   "metadata": {},
   "source": [
    "7. Remove all whitespaces from a string."
   ]
  },
  {
   "cell_type": "code",
   "execution_count": 38,
   "id": "c9dfc3a6-0e0d-44ee-8742-64db1129f7c5",
   "metadata": {},
   "outputs": [
    {
     "name": "stdout",
     "output_type": "stream",
     "text": [
      "new string is : pwskills\n"
     ]
    }
   ],
   "source": [
    "string = '  pwskil  ls ' \n",
    "new_str=''\n",
    "for ch in string:\n",
    "    if ch != ' ':\n",
    "        new_str = new_str + ch\n",
    "    else:\n",
    "        continue\n",
    "print('new string is :',new_str)"
   ]
  },
  {
   "cell_type": "code",
   "execution_count": null,
   "id": "c99b660c-0fd3-41eb-ad3d-e5383fd25563",
   "metadata": {},
   "outputs": [],
   "source": []
  },
  {
   "cell_type": "markdown",
   "id": "74f330d5-e9cd-4657-84ea-3ebc9224d11c",
   "metadata": {},
   "source": [
    "8. Find the length of a string without using the `len()` function."
   ]
  },
  {
   "cell_type": "code",
   "execution_count": 40,
   "id": "b34990b8-97f7-4148-ba88-7c15c55b04e2",
   "metadata": {},
   "outputs": [
    {
     "name": "stdout",
     "output_type": "stream",
     "text": [
      "length of string is : 10\n"
     ]
    }
   ],
   "source": [
    "string = 'pwskills'\n",
    "length =0\n",
    "for i in string:\n",
    "    length = length+1\n",
    "print('length of string is :',length)   "
   ]
  },
  {
   "cell_type": "code",
   "execution_count": null,
   "id": "f9dcdbcb-4c31-4dc5-b481-dad8633a309f",
   "metadata": {},
   "outputs": [],
   "source": []
  },
  {
   "cell_type": "markdown",
   "id": "9f539991-591e-4e5a-9636-6feca7108295",
   "metadata": {},
   "source": [
    "9. Check if a string contains a specific word."
   ]
  },
  {
   "cell_type": "code",
   "execution_count": 44,
   "id": "aac58c54-d16f-4b4a-80ba-00bb9a76206a",
   "metadata": {},
   "outputs": [
    {
     "name": "stdout",
     "output_type": "stream",
     "text": [
      "word is not present\n"
     ]
    }
   ],
   "source": [
    "string = 'pwskills'\n",
    "word = 'pwi'\n",
    "if word in string:\n",
    "    print('word is present')\n",
    "else:\n",
    "    print('word is not present')\n",
    "    \n",
    "    \n",
    "\n",
    "    "
   ]
  },
  {
   "cell_type": "code",
   "execution_count": null,
   "id": "7b740ccd-3f3a-47ed-a48d-70bf429e7fb9",
   "metadata": {},
   "outputs": [],
   "source": []
  },
  {
   "cell_type": "markdown",
   "id": "e518d467-6dcc-43b5-80ca-5e619570faa1",
   "metadata": {},
   "source": [
    "10. Replace a word in a string with another word."
   ]
  },
  {
   "cell_type": "code",
   "execution_count": 49,
   "id": "31d1c653-c3e8-435b-9e7f-70615f842b63",
   "metadata": {},
   "outputs": [
    {
     "data": {
      "text/plain": [
       "'pwskills is good edtech organisation '"
      ]
     },
     "execution_count": 49,
     "metadata": {},
     "output_type": "execute_result"
    }
   ],
   "source": [
    "string = 'pwskills is good edtech company '\n",
    "choose_word = 'company'\n",
    "replace_with ='organisation'\n",
    "string.replace(choose_word,replace_with)\n"
   ]
  },
  {
   "cell_type": "code",
   "execution_count": null,
   "id": "25f03476-2cea-4f7f-8471-146304543f30",
   "metadata": {},
   "outputs": [],
   "source": []
  },
  {
   "cell_type": "markdown",
   "id": "9d174c98-59e5-4046-88fc-617ed82c073a",
   "metadata": {},
   "source": [
    "11. Count the occurrences of a word in a string."
   ]
  },
  {
   "cell_type": "code",
   "execution_count": 53,
   "id": "8d7c897c-ba8b-4c4e-83b5-7ec9ad80913d",
   "metadata": {},
   "outputs": [
    {
     "name": "stdout",
     "output_type": "stream",
     "text": [
      "word appears in string 1 times\n"
     ]
    }
   ],
   "source": [
    "string = 'pwskills provides a lots of courses at a very affordable prices ' \n",
    "word = 'provides'\n",
    "word_occourences = string.count(word)\n",
    "print(f'word appears in string {word_occourences} times')"
   ]
  },
  {
   "cell_type": "code",
   "execution_count": null,
   "id": "4e955f69-833c-4849-b88a-d2ae04d255e0",
   "metadata": {},
   "outputs": [],
   "source": []
  },
  {
   "cell_type": "markdown",
   "id": "39a02594-dc77-489c-aff7-d0408408bcb1",
   "metadata": {},
   "source": [
    "12. Find the first occurrence of a word in a string."
   ]
  },
  {
   "cell_type": "code",
   "execution_count": 57,
   "id": "a5d2e8d2-eff3-43c9-8e1e-19cf99176cfb",
   "metadata": {},
   "outputs": [
    {
     "name": "stdout",
     "output_type": "stream",
     "text": [
      "word first appears in string at index :  9 \n"
     ]
    }
   ],
   "source": [
    "string = 'pwskills provides a lots of courses at a very affordable prices ' \n",
    "word = 'provides'\n",
    "first_occourences = string.find(word)\n",
    "print(f'word first appears in string at index :  {first_occourences} ')"
   ]
  },
  {
   "cell_type": "markdown",
   "id": "95e72e79-3127-418b-9f5e-02b7bcc2c809",
   "metadata": {},
   "source": [
    "13. Find the last occurrence of a word in a string."
   ]
  },
  {
   "cell_type": "code",
   "execution_count": 63,
   "id": "8fa94ba8-6f7c-4494-964a-568ca865953a",
   "metadata": {},
   "outputs": [
    {
     "name": "stdout",
     "output_type": "stream",
     "text": [
      "word last appears in string at index :  9 \n"
     ]
    }
   ],
   "source": [
    "string = 'pwskills provides a lots of courses at a very affordable prices ' \n",
    "word = 'provides'\n",
    "last_occourences = string.rfind('provides')\n",
    "print(f'word last appears in string at index :  {last_occourences} ')"
   ]
  },
  {
   "cell_type": "code",
   "execution_count": null,
   "id": "5e8f6dab-6810-4b1b-ae15-50b973c8c315",
   "metadata": {},
   "outputs": [],
   "source": []
  },
  {
   "cell_type": "markdown",
   "id": "e2101946-7ead-4ef0-b42f-7fae8220af9d",
   "metadata": {},
   "source": [
    "14. Split a string into a list of words."
   ]
  },
  {
   "cell_type": "code",
   "execution_count": 65,
   "id": "0d81d9b4-6309-423b-8bfa-3a93342ca857",
   "metadata": {},
   "outputs": [
    {
     "name": "stdout",
     "output_type": "stream",
     "text": [
      "list of word is :  ['pwskills', 'is', 'great']\n"
     ]
    }
   ],
   "source": [
    "string = 'pwskills is great'\n",
    "split_list = string.split()\n",
    "print('list of word is : ', split_list)"
   ]
  },
  {
   "cell_type": "code",
   "execution_count": null,
   "id": "abc359f5-a111-4ed7-907e-596471ed8228",
   "metadata": {},
   "outputs": [],
   "source": []
  },
  {
   "cell_type": "markdown",
   "id": "d305b8d0-d796-48a1-9a04-b1d13af4f3b7",
   "metadata": {},
   "source": [
    "15. Join a list of words into a string."
   ]
  },
  {
   "cell_type": "code",
   "execution_count": 72,
   "id": "5f0917b9-dba6-4dd3-85f1-36f20b110157",
   "metadata": {},
   "outputs": [
    {
     "name": "stdout",
     "output_type": "stream",
     "text": [
      "string generated from a lists of words is :  pwskills is great\n"
     ]
    }
   ],
   "source": [
    "list_words = ['pwskills', 'is', 'great']\n",
    "string = ''\n",
    "for word in list_words:\n",
    "      string = string+' '+word\n",
    "string= string.lstrip()\n",
    "print('string generated from a lists of words is : ', string)"
   ]
  },
  {
   "cell_type": "code",
   "execution_count": null,
   "id": "cdd47a2f-649c-413c-a366-f393841cd9be",
   "metadata": {},
   "outputs": [],
   "source": []
  },
  {
   "cell_type": "markdown",
   "id": "7328cd6c-4104-42e2-8e51-b11bb35a17f3",
   "metadata": {},
   "source": [
    "16. Convert a string where words are separated by spaces to one where words are separated by underscores."
   ]
  },
  {
   "cell_type": "code",
   "execution_count": 74,
   "id": "014dea3d-c2db-4196-ad63-3c0d74d9088b",
   "metadata": {},
   "outputs": [
    {
     "data": {
      "text/plain": [
       "'pwskills_provides_great_facilities'"
      ]
     },
     "execution_count": 74,
     "metadata": {},
     "output_type": "execute_result"
    }
   ],
   "source": [
    "string = 'pwskills provides great facilities'\n",
    "string.replace(' ','_')\n",
    "\n"
   ]
  },
  {
   "cell_type": "code",
   "execution_count": null,
   "id": "5078745c-c80f-449b-bf80-08cffe978a13",
   "metadata": {},
   "outputs": [],
   "source": []
  },
  {
   "cell_type": "markdown",
   "id": "b8946d4b-1ee5-4015-a5e0-8e90ce462cf7",
   "metadata": {},
   "source": [
    "17. Check if a string starts with a specific word or phrase."
   ]
  },
  {
   "cell_type": "code",
   "execution_count": 87,
   "id": "23abfef9-22de-478e-8425-f67306dbddc2",
   "metadata": {},
   "outputs": [
    {
     "name": "stdout",
     "output_type": "stream",
     "text": [
      "Is string starts with given word or phrase: True\n"
     ]
    }
   ],
   "source": [
    "string = 'pwskills provides great facilities'\n",
    "word_or_phrases='pwskills provides'\n",
    "result = string.startswith(word_or_phrases)\n",
    "print(f'Is string starts with given word or phrase: {result}')"
   ]
  },
  {
   "cell_type": "code",
   "execution_count": null,
   "id": "178bffdb-dd41-442b-aba2-5f0912a4e63d",
   "metadata": {},
   "outputs": [],
   "source": []
  },
  {
   "cell_type": "markdown",
   "id": "e9c3211f-d5d4-4304-aa4e-14cef4f82071",
   "metadata": {},
   "source": [
    "18. Check if a string ends with a specific word or phrase."
   ]
  },
  {
   "cell_type": "code",
   "execution_count": 88,
   "id": "0d2667d7-7757-43af-b1dd-bd5651ffc8e2",
   "metadata": {},
   "outputs": [
    {
     "name": "stdout",
     "output_type": "stream",
     "text": [
      "Is string ends with given word or phrase: True\n"
     ]
    }
   ],
   "source": [
    "string = 'pwskills provides great facilities'\n",
    "word_or_phrases='facilities'\n",
    "result = string.endswith(word_or_phrases)\n",
    "print(f'Is string ends with given word or phrase: {result}')"
   ]
  },
  {
   "cell_type": "code",
   "execution_count": null,
   "id": "8a660220-911a-4401-a393-3d6eb623f3f5",
   "metadata": {},
   "outputs": [],
   "source": []
  },
  {
   "cell_type": "markdown",
   "id": "5d117bf0-6740-4973-9e34-7a44b002db93",
   "metadata": {},
   "source": [
    "19. Convert a string to title case (e.g., \"hello world\" to \"Hello World\")."
   ]
  },
  {
   "cell_type": "code",
   "execution_count": 90,
   "id": "89a80968-3d1f-4ac9-bb39-8d7ea77b6c10",
   "metadata": {},
   "outputs": [
    {
     "name": "stdout",
     "output_type": "stream",
     "text": [
      "converted string is : Hello World\n"
     ]
    }
   ],
   "source": [
    "string = 'hello world'\n",
    "conv_title = string.title()\n",
    "print('converted string is :',conv_title)"
   ]
  },
  {
   "cell_type": "markdown",
   "id": "eb5e4fcd-414f-4100-8786-748c359721c1",
   "metadata": {},
   "source": [
    "20. Find the longest word in a string."
   ]
  },
  {
   "cell_type": "code",
   "execution_count": 3,
   "id": "956642b7-b3f6-4574-ac27-08c8f29b8831",
   "metadata": {},
   "outputs": [
    {
     "name": "stdout",
     "output_type": "stream",
     "text": [
      "max_length word is  greatestoffall\n"
     ]
    }
   ],
   "source": [
    "string = 'pwskills provides facilities'\n",
    "lst_split = string.split()\n",
    "max_length= 0\n",
    "max_len_word =''\n",
    "for word in lst_split :\n",
    "    \n",
    "    if len(word) > max_length:\n",
    "            max_length = len(word)\n",
    "            max_len_word = word\n",
    "    else : \n",
    "        continue\n",
    "print('max_length word is ', max_len_word)\n",
    "    \n",
    "        \n",
    "              \n"
   ]
  },
  {
   "cell_type": "code",
   "execution_count": null,
   "id": "5b1c2782-270a-4885-a83e-3a3ce3878328",
   "metadata": {},
   "outputs": [],
   "source": []
  },
  {
   "cell_type": "markdown",
   "id": "09b71957-22ca-4e29-b013-5035cbb52ce7",
   "metadata": {},
   "source": [
    "21. Find the shortest word in a string."
   ]
  },
  {
   "cell_type": "code",
   "execution_count": 12,
   "id": "ff6113e5-0499-425e-96da-b20ebeb38073",
   "metadata": {},
   "outputs": [
    {
     "name": "stdout",
     "output_type": "stream",
     "text": [
      "min_length word is :  a\n"
     ]
    }
   ],
   "source": [
    "string = 'pwskills provides a great facilities'\n",
    "lst_split = string.split()\n",
    "min_length= 1000\n",
    "min_len_word=''\n",
    "for word in lst_split :\n",
    "    if len(word) < min_length:\n",
    "            min_length = len(word)\n",
    "            min_len_word = word\n",
    "    else : \n",
    "        continue\n",
    "print('min_length word is : ', min_len_word)"
   ]
  },
  {
   "cell_type": "code",
   "execution_count": null,
   "id": "69d252de-b1f0-4ef5-b353-6b863776d044",
   "metadata": {},
   "outputs": [],
   "source": []
  },
  {
   "cell_type": "markdown",
   "id": "dbe7610d-8737-4b7e-bef7-9761ebf93c9c",
   "metadata": {},
   "source": [
    "22. Reverse the order of words in a string."
   ]
  },
  {
   "cell_type": "code",
   "execution_count": 22,
   "id": "03983b5a-96b0-4a9f-b124-825edaf7678e",
   "metadata": {},
   "outputs": [
    {
     "name": "stdout",
     "output_type": "stream",
     "text": [
      "Reverse order of words in given string is :  Rohit is name My\n"
     ]
    }
   ],
   "source": [
    "string = 'My name is Rohit'\n",
    "lst_string = string.split()\n",
    "reverse_order = lst_string[::-1]\n",
    "new_string=''\n",
    "for word in reverse_order: \n",
    "    new_string = new_string+' '+ word\n",
    "print( 'Reverse order of words in given string is :',new_string)"
   ]
  },
  {
   "cell_type": "code",
   "execution_count": null,
   "id": "d3bf828b-bff8-4b3c-8fb0-c46626585ca3",
   "metadata": {},
   "outputs": [],
   "source": []
  },
  {
   "cell_type": "markdown",
   "id": "0429fc07-4b8c-4f34-8b30-400ebfbfc95b",
   "metadata": {},
   "source": [
    "23. Check if a string is alphanumeric."
   ]
  },
  {
   "cell_type": "code",
   "execution_count": 31,
   "id": "50b50d2f-bfc9-4fb1-b4f1-cadce97ea2e1",
   "metadata": {},
   "outputs": [
    {
     "name": "stdout",
     "output_type": "stream",
     "text": [
      "The given string Rohit123 is alpha numeric : True\n"
     ]
    }
   ],
   "source": [
    "string = 'Rohit123' \n",
    "alpha_numeric = string.isalnum()\n",
    "print(f'The given string {string} is alpha numeric : {alpha_numeric}')"
   ]
  },
  {
   "cell_type": "code",
   "execution_count": null,
   "id": "22fbdc5b-73f2-4226-9427-2e5455d4625b",
   "metadata": {},
   "outputs": [],
   "source": []
  },
  {
   "cell_type": "markdown",
   "id": "a1a92389-78fc-4705-87cd-102708ddaf5a",
   "metadata": {},
   "source": [
    "24. Extract all digits from a string."
   ]
  },
  {
   "cell_type": "code",
   "execution_count": 37,
   "id": "f503402a-3919-4ddf-a89d-5beb7280ae7f",
   "metadata": {},
   "outputs": [
    {
     "name": "stdout",
     "output_type": "stream",
     "text": [
      "Extracted digits from the strings are :  ['1', '2', '3', '4']\n"
     ]
    }
   ],
   "source": [
    "string = 'Rohit Kumar12 and 34'\n",
    "lst =[]\n",
    "for ch in string:\n",
    "    if ch.isdigit():\n",
    "        lst.append(ch)\n",
    "print('Extracted digits from the strings are : ', lst)"
   ]
  },
  {
   "cell_type": "code",
   "execution_count": null,
   "id": "fbb4ec7a-b7af-4712-b134-4c92583fa350",
   "metadata": {},
   "outputs": [],
   "source": []
  },
  {
   "cell_type": "markdown",
   "id": "49cb76ca-3b89-4ee7-a4d1-b73420ddc890",
   "metadata": {},
   "source": [
    "25. Extract all alphabets from a string."
   ]
  },
  {
   "cell_type": "code",
   "execution_count": 49,
   "id": "fe82ba9c-1423-4eae-be1f-7250b920d2bf",
   "metadata": {},
   "outputs": [
    {
     "name": "stdout",
     "output_type": "stream",
     "text": [
      "All alphabets present in given strings are:  {'s', 'l', 'v', 'i', 'g', 'e', 'a', 't', 'f', 'w', 'c', 'o', 'r', 'p', 'd', 'k'}\n"
     ]
    }
   ],
   "source": [
    "string = 'pwskills provides a great facilities'\n",
    "string =string.lower()\n",
    "lst =[]\n",
    "for ch in string:\n",
    "    if ch.isalpha():\n",
    "        lst.append(ch)\n",
    "    else:\n",
    "        continue\n",
    "alpha = set(lst)\n",
    "print('All alphabets present in given strings are: ', alpha)"
   ]
  },
  {
   "cell_type": "code",
   "execution_count": null,
   "id": "d9ea3abd-9625-4b4a-8080-f3327969539c",
   "metadata": {},
   "outputs": [],
   "source": []
  },
  {
   "cell_type": "markdown",
   "id": "25671d46-8ae8-49df-9288-5d6b5a8b721b",
   "metadata": {},
   "source": [
    "26. Count the number of uppercase letters in a string."
   ]
  },
  {
   "cell_type": "code",
   "execution_count": 54,
   "id": "41d0a881-3d97-4b2c-aac9-09a3cc615e74",
   "metadata": {},
   "outputs": [
    {
     "name": "stdout",
     "output_type": "stream",
     "text": [
      "Total uppercase letter in string is : 5\n"
     ]
    }
   ],
   "source": [
    "string='Pwskills Provides A Great Facilities'\n",
    "count=0\n",
    "for ch in string:\n",
    "    if ch.isupper():\n",
    "        count= count+1\n",
    "    else:\n",
    "        continue\n",
    "print('Total uppercase letter in string is :',count)"
   ]
  },
  {
   "cell_type": "code",
   "execution_count": null,
   "id": "596af0d3-848a-4eee-b99c-b238f2fd30a7",
   "metadata": {},
   "outputs": [],
   "source": []
  },
  {
   "cell_type": "markdown",
   "id": "5ed2b57d-7a8c-4059-91d5-e6f4745fe2e0",
   "metadata": {},
   "source": [
    "27. Count the number of lowercase letters in a string."
   ]
  },
  {
   "cell_type": "code",
   "execution_count": 55,
   "id": "6a049621-4161-4ac5-9585-f2d2ea4d987a",
   "metadata": {},
   "outputs": [
    {
     "name": "stdout",
     "output_type": "stream",
     "text": [
      "Total lowercase letter in string is : 27\n"
     ]
    }
   ],
   "source": [
    "string='Pwskills Provides A Great Facilities'\n",
    "count=0\n",
    "for ch in string:\n",
    "    if ch.islower():\n",
    "        count= count+1\n",
    "    else:\n",
    "        continue\n",
    "print('Total lowercase letter in string is :',count)"
   ]
  },
  {
   "cell_type": "code",
   "execution_count": null,
   "id": "dae9bc5b-45c4-4c17-92bd-ec97161fb71c",
   "metadata": {},
   "outputs": [],
   "source": []
  },
  {
   "cell_type": "markdown",
   "id": "7d0828bc-3a12-471a-bfd2-48828836c2d0",
   "metadata": {},
   "source": [
    "28. Swap the case of each character in a string."
   ]
  },
  {
   "cell_type": "code",
   "execution_count": 57,
   "id": "e3b3b768-bce2-4c97-90b6-dd1e06386623",
   "metadata": {},
   "outputs": [
    {
     "name": "stdout",
     "output_type": "stream",
     "text": [
      "swapped case of each character in string is :  pWSKILLS pROVIDES a gREAT fACILITIES\n"
     ]
    }
   ],
   "source": [
    "string='Pwskills Provides A Great Facilities'\n",
    "new_str=''\n",
    "for ch in string:\n",
    "    if ch.isupper():\n",
    "        new_str = new_str+ch.lower()\n",
    "    elif ch.islower():\n",
    "        new_str = new_str+ch.upper()\n",
    "    else:\n",
    "        new_str=new_str+ch\n",
    "print('swapped case of each character in string is : ',new_str)\n",
    "        "
   ]
  },
  {
   "cell_type": "code",
   "execution_count": 59,
   "id": "eceb453a-4a91-4781-9190-3b7c9060cabe",
   "metadata": {},
   "outputs": [
    {
     "data": {
      "text/plain": [
       "'Pwskills Provides A  Facilities'"
      ]
     },
     "execution_count": 59,
     "metadata": {},
     "output_type": "execute_result"
    }
   ],
   "source": [
    "string='Pwskills Provides A Great Facilities'\n",
    "word = 'Great'\n",
    "new_str = string.replace(word,'')\n",
    "new_str"
   ]
  },
  {
   "cell_type": "markdown",
   "id": "6c9ba349-450a-4607-bb63-4b6f924213b4",
   "metadata": {},
   "source": [
    "30. Check if a string is a valid email address."
   ]
  },
  {
   "cell_type": "code",
   "execution_count": 60,
   "id": "00c91a5e-ce08-4246-a7cc-9528d8b77a76",
   "metadata": {},
   "outputs": [
    {
     "name": "stdout",
     "output_type": "stream",
     "text": [
      "True\n",
      "False\n"
     ]
    }
   ],
   "source": [
    "import re  # Import the regular expression module\n",
    "\n",
    "def is_valid_email(email):\n",
    "    pattern = r'^[\\w\\.-]+@[\\w\\.-]+\\.\\w+$'  # Regular expression pattern for a basic email validation\n",
    "    if re.match(pattern, email):\n",
    "        return True\n",
    "    else:\n",
    "        return False\n",
    "\n",
    "# Example email addresses\n",
    "email1 = \"example@email.com\"\n",
    "email2 = \"invalid-email\"\n",
    "result1 = is_valid_email(email1)\n",
    "result2 = is_valid_email(email2)\n",
    "print(result1)\n",
    "print(result2)\n"
   ]
  },
  {
   "cell_type": "code",
   "execution_count": null,
   "id": "97c9cb5d-ca48-475f-ba9c-217360c0c97a",
   "metadata": {},
   "outputs": [],
   "source": []
  },
  {
   "cell_type": "markdown",
   "id": "ed502b22-c646-43b6-99e9-47bfe1fa7a45",
   "metadata": {},
   "source": [
    "31. Extract the username from an email address string."
   ]
  },
  {
   "cell_type": "code",
   "execution_count": 2,
   "id": "3be82ca5-886c-4941-94bf-cb9b4d922bbb",
   "metadata": {},
   "outputs": [
    {
     "name": "stdout",
     "output_type": "stream",
     "text": [
      "username is :  anyone\n"
     ]
    }
   ],
   "source": [
    "email = 'anyone@gmail.com'\n",
    "username = email.split('@')\n",
    "print('username is : ' , username[0])"
   ]
  },
  {
   "cell_type": "code",
   "execution_count": null,
   "id": "89e1cc12-cd37-47c1-acd5-1dfd22543c07",
   "metadata": {},
   "outputs": [],
   "source": []
  },
  {
   "cell_type": "markdown",
   "id": "f17c0130-171a-4941-aca4-1d21820b5f0b",
   "metadata": {},
   "source": [
    "32. Extract the domain name from an email address string."
   ]
  },
  {
   "cell_type": "code",
   "execution_count": 6,
   "id": "bb5a3b8a-1c8a-42fd-8b46-a1f7de2388fe",
   "metadata": {},
   "outputs": [
    {
     "name": "stdout",
     "output_type": "stream",
     "text": [
      "domain name is :  gmail.com\n"
     ]
    }
   ],
   "source": [
    "email = 'anyone@gmail.com'\n",
    "domain_name = email.split('@')\n",
    "print('domain name is : ' , domain_name[1])"
   ]
  },
  {
   "cell_type": "code",
   "execution_count": null,
   "id": "733db6dd-7975-4a9d-941a-8884774476c3",
   "metadata": {},
   "outputs": [],
   "source": []
  },
  {
   "cell_type": "markdown",
   "id": "4aa1fdb6-5c51-45ba-a8ed-6f424f85ba80",
   "metadata": {},
   "source": [
    "33. Replace multiple spaces in a string with a single space."
   ]
  },
  {
   "cell_type": "code",
   "execution_count": 10,
   "id": "d4d4f2fe-5481-48f4-9778-1db23e506204",
   "metadata": {},
   "outputs": [
    {
     "data": {
      "text/plain": [
       "'hello everyone how are you'"
      ]
     },
     "execution_count": 10,
     "metadata": {},
     "output_type": "execute_result"
    }
   ],
   "source": [
    "string = 'hello      everyone   how are    you ' \n",
    "string_lst = string.split()\n",
    "new_string = ' '.join(string_lst)\n",
    "new_string"
   ]
  },
  {
   "cell_type": "code",
   "execution_count": null,
   "id": "67dda236-8e79-4092-a26b-d26aa8838867",
   "metadata": {},
   "outputs": [],
   "source": []
  },
  {
   "cell_type": "markdown",
   "id": "e59d32fc-8c6b-486f-b782-72a386e6957c",
   "metadata": {},
   "source": [
    "34. Check if a string is a valid URL."
   ]
  },
  {
   "cell_type": "code",
   "execution_count": 4,
   "id": "0c355b01-d6c4-4e58-8407-6b881cb99f51",
   "metadata": {},
   "outputs": [
    {
     "data": {
      "text/plain": [
       "'String is not a valid url'"
      ]
     },
     "execution_count": 4,
     "metadata": {},
     "output_type": "execute_result"
    }
   ],
   "source": [
    "import re\n",
    "def valid_url(pattern,string):\n",
    "    if re.match(pattern,string):\n",
    "        return \"String is a valid url\"\n",
    "    else:\n",
    "        return \"String is not a valid url\"\n",
    "\n",
    "pattern = 'https:\\/\\/[^\\.]+\\.com\\/|https:\\/\\/[^\\.]+\\.com'\n",
    "string = 'https://google.com/'\n",
    "\n",
    "valid_url(pattern,string)\n"
   ]
  },
  {
   "cell_type": "code",
   "execution_count": null,
   "id": "a91011ba-6608-4dce-a5f3-a48b81fe1fa5",
   "metadata": {},
   "outputs": [],
   "source": []
  },
  {
   "cell_type": "markdown",
   "id": "5c670ef9-a5b8-463c-88ce-82ff96655e06",
   "metadata": {},
   "source": [
    "35. Extract the protocol (http or https) from a URL string."
   ]
  },
  {
   "cell_type": "code",
   "execution_count": 31,
   "id": "bef9c667-e182-4569-9c78-258f4833d070",
   "metadata": {},
   "outputs": [
    {
     "data": {
      "text/plain": [
       "'https'"
      ]
     },
     "execution_count": 31,
     "metadata": {},
     "output_type": "execute_result"
    }
   ],
   "source": [
    "def extracting_protocol(url):\n",
    "    pattern_end_index = url.find('://')\n",
    "    if pattern_end_index!=-1:\n",
    "        protocol = url[:pattern_end_index]\n",
    "        return protocol\n",
    "    else:\n",
    "        return None\n",
    "url = 'https://google.com'\n",
    "extracting_protocol(url)"
   ]
  },
  {
   "cell_type": "code",
   "execution_count": null,
   "id": "7db99931-9e34-4af4-b043-3f6014d82353",
   "metadata": {},
   "outputs": [],
   "source": []
  },
  {
   "cell_type": "markdown",
   "id": "432c1bdb-64f9-4900-8c45-74e0ad6b7881",
   "metadata": {},
   "source": [
    "36. Find the frequency of each character in a string."
   ]
  },
  {
   "cell_type": "code",
   "execution_count": 41,
   "id": "c2b2f1f2-da3a-4f61-8ad5-b6a81cc965c1",
   "metadata": {},
   "outputs": [
    {
     "name": "stdout",
     "output_type": "stream",
     "text": [
      "I occours 1 times\n",
      "  occours 7 times\n",
      "a occours 1 times\n",
      "m occours 1 times\n",
      "t occours 2 times\n",
      "h occours 3 times\n",
      "e occours 4 times\n",
      "o occours 4 times\n",
      "n occours 1 times\n",
      "w occours 2 times\n",
      "d occours 2 times\n",
      "i occours 1 times\n",
      "s occours 1 times\n",
      "c occours 1 times\n",
      "v occours 1 times\n",
      "r occours 2 times\n",
      "l occours 1 times\n"
     ]
    }
   ],
   "source": [
    "string = 'I am the one who discover the world'\n",
    "def char_freq(string):\n",
    "    frequency = {}\n",
    "    for char in string:\n",
    "        if char in frequency:\n",
    "            frequency[char]+=1\n",
    "        else:\n",
    "            frequency[char] = 1\n",
    "    return frequency\n",
    "dict_freq = char_freq(string)\n",
    "for char,count in dict_freq.items():\n",
    "    print(f'{char} occours {count} times')"
   ]
  },
  {
   "cell_type": "code",
   "execution_count": null,
   "id": "9cc1c3db-4042-457d-81c9-92b19f9a0d80",
   "metadata": {},
   "outputs": [],
   "source": []
  },
  {
   "cell_type": "markdown",
   "id": "4eb08ce7-aa97-484c-bd22-aeaf1761ba5f",
   "metadata": {},
   "source": [
    "37. Remove all punctuation from a string."
   ]
  },
  {
   "cell_type": "code",
   "execution_count": 56,
   "id": "47f0ed51-2116-452c-bfc1-dfb3b88abd14",
   "metadata": {},
   "outputs": [
    {
     "data": {
      "text/plain": [
       "'Hello world'"
      ]
     },
     "execution_count": 56,
     "metadata": {},
     "output_type": "execute_result"
    }
   ],
   "source": [
    "string = 'Hello ,world'\n",
    "pattern = '''[^,;.'\":?]'''\n",
    "new_str = ''.join(re.findall(pattern,string))\n",
    "new_str\n",
    "\n",
    "\n",
    "        "
   ]
  },
  {
   "cell_type": "code",
   "execution_count": null,
   "id": "fe64caa5-597a-43ce-a04b-5e2ec117f944",
   "metadata": {},
   "outputs": [],
   "source": []
  },
  {
   "cell_type": "markdown",
   "id": "4762b00c-7027-482f-8d1b-a3f9dbd2cc31",
   "metadata": {},
   "source": [
    "38. Check if a string contains only digits."
   ]
  },
  {
   "cell_type": "code",
   "execution_count": 66,
   "id": "50cacc9e-d8d8-4555-a63a-0edf0c76bb67",
   "metadata": {},
   "outputs": [
    {
     "name": "stdout",
     "output_type": "stream",
     "text": [
      "No string does not contain only digits\n"
     ]
    }
   ],
   "source": [
    "string = '1 you and 2'\n",
    "if string.isdigit():\n",
    "    print('Yes string contain only digits')\n",
    "else:\n",
    "    print('No string does not contain only digits')"
   ]
  },
  {
   "cell_type": "code",
   "execution_count": null,
   "id": "f2272c3d-737c-445e-ae3e-24adae4bacb5",
   "metadata": {},
   "outputs": [],
   "source": []
  },
  {
   "cell_type": "markdown",
   "id": "236ef677-c7da-44f7-b9d8-8b3be8da6383",
   "metadata": {},
   "source": [
    "40. Convert a string to a list of characters."
   ]
  },
  {
   "cell_type": "code",
   "execution_count": 71,
   "id": "e3617686-ec91-436f-be52-339dafffcdab",
   "metadata": {},
   "outputs": [
    {
     "data": {
      "text/plain": [
       "['H', 'e', 'l', 'l', 'o', ' ', 'w', 'o', 'r', 'l', 'd', ' ']"
      ]
     },
     "execution_count": 71,
     "metadata": {},
     "output_type": "execute_result"
    }
   ],
   "source": [
    "string = 'Hello world '\n",
    "\n",
    "lists= list(string)\n",
    "lists"
   ]
  },
  {
   "cell_type": "code",
   "execution_count": null,
   "id": "04fc952f-e25e-46e7-a38a-b8965731a266",
   "metadata": {},
   "outputs": [],
   "source": []
  },
  {
   "cell_type": "markdown",
   "id": "9ed1c87e-f4ed-4a0f-aead-e164ed355c4a",
   "metadata": {},
   "source": [
    "41. Check if two strings are anagrams."
   ]
  },
  {
   "cell_type": "code",
   "execution_count": 10,
   "id": "8a5e0805-9f2d-44be-949c-e298412cfc4c",
   "metadata": {},
   "outputs": [
    {
     "data": {
      "text/plain": [
       "'not a anagrams'"
      ]
     },
     "execution_count": 10,
     "metadata": {},
     "output_type": "execute_result"
    }
   ],
   "source": [
    "string1 = 'listen'\n",
    "string2 = 'silent'\n",
    "string3 = 'hello'\n",
    "string4 = 'world'\n",
    "\n",
    "def anagrams(string1,string2):\n",
    "    string_one = string1.replace(' ','').lower()\n",
    "    string_two = string2.replace(' ','').lower()\n",
    "    string_one = sorted(string_one)\n",
    "    string_two = sorted(string_two)\n",
    "    if string_one == string_two:\n",
    "        return 'Both given string are anagrams' \n",
    "    else:\n",
    "        return 'not a anagrams'\n",
    "    \n",
    "    \n",
    "anagrams(string3,string4)"
   ]
  },
  {
   "cell_type": "code",
   "execution_count": null,
   "id": "e6e9b0ab-3e0c-41b5-bd79-939d073b39e9",
   "metadata": {},
   "outputs": [],
   "source": []
  },
  {
   "cell_type": "markdown",
   "id": "05f30e85-0bd3-4f93-b689-2b4c545c53a7",
   "metadata": {},
   "source": [
    "42. Encode a string using a Caesar cipher."
   ]
  },
  {
   "cell_type": "code",
   "execution_count": 22,
   "id": "682f7093-ebf4-4311-880e-5c01d1f2c1cf",
   "metadata": {},
   "outputs": [
    {
     "data": {
      "text/plain": [
       "'khoor grvw'"
      ]
     },
     "execution_count": 22,
     "metadata": {},
     "output_type": "execute_result"
    }
   ],
   "source": [
    "def caser_cipher(string,shift):\n",
    "    encoded_text =''\n",
    "    for i in string:\n",
    "        if i.isalpha():\n",
    "             encoded_char = chr((ord(i)+shift - ord('a')) % 26 + ord('a'))\n",
    "        else:\n",
    "             encoded_char = i\n",
    "        encoded_text=encoded_text+encoded_char\n",
    "    return encoded_text\n",
    "caser_cipher('hello dost',3)\n",
    "        \n",
    "        "
   ]
  },
  {
   "cell_type": "code",
   "execution_count": null,
   "id": "b5a26156-02f2-44d0-bb46-b5d84ae8d444",
   "metadata": {},
   "outputs": [],
   "source": []
  },
  {
   "cell_type": "markdown",
   "id": "bc8abba9-a0d2-4367-a522-13cc27cc88d0",
   "metadata": {},
   "source": [
    "43. Decode a Caesar cipher encoded string."
   ]
  },
  {
   "cell_type": "code",
   "execution_count": 24,
   "id": "05fb0eb0-2b7a-4ccf-863c-aa929f8de331",
   "metadata": {},
   "outputs": [
    {
     "data": {
      "text/plain": [
       "'hello dost'"
      ]
     },
     "execution_count": 24,
     "metadata": {},
     "output_type": "execute_result"
    }
   ],
   "source": [
    "def decode_caser_cipher(string,shift):\n",
    "    encoded_text =''\n",
    "    for i in string:\n",
    "        if i.isalpha():\n",
    "             encoded_char = chr((ord(i)-shift - ord('a')) % 26 + ord('a'))\n",
    "        else:\n",
    "             encoded_char = i\n",
    "        encoded_text=encoded_text+encoded_char\n",
    "    return encoded_text\n",
    "decode_caser_cipher('khoor grvw',3)\n",
    "        "
   ]
  },
  {
   "cell_type": "code",
   "execution_count": null,
   "id": "7cdf86f8-9a88-4c66-ba5d-3842216d0d78",
   "metadata": {},
   "outputs": [],
   "source": []
  },
  {
   "cell_type": "markdown",
   "id": "e1110a51-f913-4b6f-a6a8-3a3a034dd2bc",
   "metadata": {},
   "source": [
    "44. Find the most frequent word in a string."
   ]
  },
  {
   "cell_type": "code",
   "execution_count": 76,
   "id": "79ee1bb1-b80d-4f31-8e28-3d0f4c140ca1",
   "metadata": {},
   "outputs": [
    {
     "name": "stdout",
     "output_type": "stream",
     "text": [
      "Most frequent word in string is: hello\n"
     ]
    }
   ],
   "source": [
    "def freq_of_word(string):\n",
    "    frequency ={}\n",
    "    max = 0\n",
    "    most_common_li = []\n",
    "    lst1 = string.lower().split()\n",
    "    for word in lst1 :\n",
    "        if word in frequency:\n",
    "            frequency[word] +=1\n",
    "        else:\n",
    "            frequency[word]=1\n",
    "    for i in frequency:\n",
    "        if frequency[i]>max:\n",
    "            max=frequency[i]\n",
    "            most_common_li.append(i)\n",
    "        \n",
    "        else:\n",
    "            continue\n",
    "\n",
    "    return most_common_li[-1]  \n",
    "\n",
    "\n",
    "strings = \"Hello world, hello there! How's the world?\"\n",
    "print(f'Most frequent word in string is: {freq_of_word(strings)}')\n"
   ]
  },
  {
   "cell_type": "code",
   "execution_count": null,
   "id": "a5e555dd-d0fa-48c7-a855-23308bd899b7",
   "metadata": {},
   "outputs": [],
   "source": []
  },
  {
   "cell_type": "markdown",
   "id": "36a027bb-aa48-4e62-b535-3ee2c104b056",
   "metadata": {},
   "source": [
    "45. Find all unique words in a string."
   ]
  },
  {
   "cell_type": "code",
   "execution_count": 12,
   "id": "88c6c3bf-0719-41cf-bf2d-abe9d51a0901",
   "metadata": {},
   "outputs": [
    {
     "data": {
      "text/plain": [
       "['are', 'you']"
      ]
     },
     "execution_count": 12,
     "metadata": {},
     "output_type": "execute_result"
    }
   ],
   "source": [
    "string = 'hi hi how are you hi how  Hi' \n",
    "string = string.lower().split()\n",
    "unique_words = []\n",
    "for word in string:\n",
    "    if string.count(word)>1:\n",
    "        continue\n",
    "    else:\n",
    "        unique_words.append(word)\n",
    "unique_words\n",
    "    "
   ]
  },
  {
   "cell_type": "code",
   "execution_count": null,
   "id": "7ccffd24-83e6-47e9-97da-dea1e05b31d9",
   "metadata": {},
   "outputs": [],
   "source": []
  },
  {
   "cell_type": "markdown",
   "id": "4e30995d-d85e-4fd1-99e7-21768f151dca",
   "metadata": {},
   "source": [
    "46. Count the number of syllables in a string."
   ]
  },
  {
   "cell_type": "code",
   "execution_count": null,
   "id": "cc06085e-2748-40a5-9011-f37fc5a6158d",
   "metadata": {},
   "outputs": [],
   "source": []
  },
  {
   "cell_type": "code",
   "execution_count": null,
   "id": "d22b59f6-ba8d-4c6a-a819-066820c1537a",
   "metadata": {},
   "outputs": [],
   "source": [
    "47. Check if a string contains any special characters."
   ]
  },
  {
   "cell_type": "code",
   "execution_count": 30,
   "id": "a850a5d5-0794-4044-99b0-033edbc64396",
   "metadata": {},
   "outputs": [
    {
     "data": {
      "text/plain": [
       "'The given string contain special character'"
      ]
     },
     "execution_count": 30,
     "metadata": {},
     "output_type": "execute_result"
    }
   ],
   "source": [
    "import re\n",
    "pattern = '[^a-zA-Z\\s\\d]'\n",
    "string1 = \"Hello world\"\n",
    "string2 = \"This is a test.\"\n",
    "string3 = \"Special@Characters\"\n",
    "def cont_special_char(pattern , string):\n",
    "    if re.findall(pattern,string):\n",
    "        return 'The given string contain special character'\n",
    "    else:\n",
    "        return 'The given string does not contain any special character'\n",
    "\n",
    "cont_special_char(pattern,string2)"
   ]
  },
  {
   "cell_type": "code",
   "execution_count": null,
   "id": "76187a0e-3595-4a45-baf6-99ef1f36815d",
   "metadata": {},
   "outputs": [],
   "source": []
  },
  {
   "cell_type": "markdown",
   "id": "fe9b1f98-9dad-4a67-a557-9b7ad41dc5b8",
   "metadata": {},
   "source": [
    "48. Remove the nth word from a string."
   ]
  },
  {
   "cell_type": "code",
   "execution_count": 41,
   "id": "a8caba30-e52a-4352-bef2-3c2f2dd26693",
   "metadata": {},
   "outputs": [
    {
     "data": {
      "text/plain": [
       "'This an example sentence to test the function.'"
      ]
     },
     "execution_count": 41,
     "metadata": {},
     "output_type": "execute_result"
    }
   ],
   "source": [
    "string = \"This is an example sentence to test the function.\"\n",
    "def remove_n(string,n):\n",
    "    lst = string.split()\n",
    "    lst.pop(n)\n",
    "    new_str = ' '.join(lst)\n",
    "    return new_str\n",
    "remove_n(string,1)"
   ]
  },
  {
   "cell_type": "code",
   "execution_count": null,
   "id": "a413e0ad-a365-4c24-bc35-acce300eaeb0",
   "metadata": {},
   "outputs": [],
   "source": []
  },
  {
   "cell_type": "markdown",
   "id": "e92b3829-9236-43a4-89ae-338b920de34f",
   "metadata": {},
   "source": [
    "49. Insert a word at the nth position in a string."
   ]
  },
  {
   "cell_type": "code",
   "execution_count": 44,
   "id": "0669a51b-e576-41f3-bac4-5d04703ac21f",
   "metadata": {},
   "outputs": [
    {
     "data": {
      "text/plain": [
       "'This is an amazing example sentence to test the function.'"
      ]
     },
     "execution_count": 44,
     "metadata": {},
     "output_type": "execute_result"
    }
   ],
   "source": [
    "def insert_n(string,n,value):\n",
    "    lst = string.split()\n",
    "    lst.insert(n,value)\n",
    "    new_str = ' '.join(lst)\n",
    "    return new_str\n",
    "\n",
    "string = \"This is an example sentence to test the function.\"\n",
    "value='amazing'\n",
    "insert_n(string,3,value)\n",
    "    "
   ]
  },
  {
   "cell_type": "code",
   "execution_count": null,
   "id": "0e605483-589d-4f0d-93da-070c7094670d",
   "metadata": {},
   "outputs": [],
   "source": []
  },
  {
   "cell_type": "markdown",
   "id": "ad5214bf-806a-4dbe-8db9-923252ff4b1d",
   "metadata": {},
   "source": [
    "50. Convert a CSV string to a list of lists."
   ]
  },
  {
   "cell_type": "code",
   "execution_count": 67,
   "id": "8a49bb07-6e5e-4837-b304-bd706efbf652",
   "metadata": {},
   "outputs": [
    {
     "name": "stdout",
     "output_type": "stream",
     "text": [
      "['Name,', 'Age,', 'Country']\n",
      "['John,', '25,', 'USA']\n",
      "['Alice,', '30,', 'Canada']\n",
      "['Bob,', '22,', 'UK']\n"
     ]
    }
   ],
   "source": [
    "def csv_to_lst(string):\n",
    "    lst = string.split('\\n')\n",
    "    lst3=[]\n",
    "    for i in lst:\n",
    "        lst2 = i.split()\n",
    "        lst3.append(lst2)\n",
    "    return lst3\n",
    "    \n",
    "csv_data = \"Name, Age, Country\\nJohn, 25, USA\\nAlice, 30, Canada\\nBob, 22, UK\"\n",
    "lsts = csv_to_lst(csv_data)\n",
    "for row in lsts:\n",
    "    print(row)"
   ]
  },
  {
   "cell_type": "code",
   "execution_count": null,
   "id": "720be0f2-a6e2-4dc9-8d14-10edcd57ac53",
   "metadata": {},
   "outputs": [],
   "source": []
  },
  {
   "cell_type": "code",
   "execution_count": null,
   "id": "57827607-db7e-4e02-b730-938a22271ff4",
   "metadata": {},
   "outputs": [],
   "source": []
  },
  {
   "cell_type": "markdown",
   "id": "e71730c5-0804-40f6-b760-9b269e41e8f2",
   "metadata": {},
   "source": [
    "# Lists bases practice problem"
   ]
  },
  {
   "cell_type": "markdown",
   "id": "ad055afc-ac46-46ce-98f7-6fb5f5fd82e8",
   "metadata": {},
   "source": [
    "1. Create a list with integers from 1 to 10."
   ]
  },
  {
   "cell_type": "code",
   "execution_count": 1,
   "id": "f472be13-d704-4fc8-9f6a-88160b5e7b3c",
   "metadata": {},
   "outputs": [
    {
     "data": {
      "text/plain": [
       "[1, 2, 3, 4, 5, 6, 7, 8, 9, 10]"
      ]
     },
     "execution_count": 1,
     "metadata": {},
     "output_type": "execute_result"
    }
   ],
   "source": [
    "lis1= [1,2,3,4,5,6,7,8,9,10]\n",
    "lis1"
   ]
  },
  {
   "cell_type": "code",
   "execution_count": 3,
   "id": "da108992-2148-4d7c-be47-061c987c1948",
   "metadata": {},
   "outputs": [
    {
     "data": {
      "text/plain": [
       "[1, 2, 3, 4, 5, 6, 7, 8, 9, 10]"
      ]
     },
     "execution_count": 3,
     "metadata": {},
     "output_type": "execute_result"
    }
   ],
   "source": [
    "def create_list(start, end):\n",
    "    lis=[]\n",
    "    for i in range(start,end):\n",
    "        lis.append(i)\n",
    "    return lis\n",
    "create_list(1,11)"
   ]
  },
  {
   "cell_type": "code",
   "execution_count": null,
   "id": "72b30b36-57aa-4fc1-bf97-571fd64b14f3",
   "metadata": {},
   "outputs": [],
   "source": []
  },
  {
   "cell_type": "markdown",
   "id": "3f43c20b-c5f8-48f0-ad2e-dfbfe889fe3f",
   "metadata": {},
   "source": [
    "2. Find the length of a list without using the `len()` function."
   ]
  },
  {
   "cell_type": "code",
   "execution_count": 6,
   "id": "eb8e1d0f-4a12-42e3-9c34-bd8916639246",
   "metadata": {},
   "outputs": [
    {
     "data": {
      "text/plain": [
       "10"
      ]
     },
     "execution_count": 6,
     "metadata": {},
     "output_type": "execute_result"
    }
   ],
   "source": [
    "def len_list(lis):\n",
    "    length = 0\n",
    "    for i in lis:\n",
    "        length+=1\n",
    "    return length\n",
    "lis = [1, 2, 3, 4, 5, 6, 7, 8, 9, 10]\n",
    "len_list(lis)"
   ]
  },
  {
   "cell_type": "code",
   "execution_count": null,
   "id": "81516fd1-3408-4c9c-b43c-156ba7914a20",
   "metadata": {},
   "outputs": [],
   "source": []
  },
  {
   "cell_type": "markdown",
   "id": "d3f96df9-741c-4b60-a8fc-e2b3e76971ad",
   "metadata": {},
   "source": [
    "3. Append an element to the end of a list."
   ]
  },
  {
   "cell_type": "code",
   "execution_count": 10,
   "id": "5906d782-d1f1-452a-9c9e-b7332ff82bea",
   "metadata": {},
   "outputs": [
    {
     "data": {
      "text/plain": [
       "[1, 2, 3, 4, 5, 6, 7, 8, 9, 10, 11, 11]"
      ]
     },
     "execution_count": 10,
     "metadata": {},
     "output_type": "execute_result"
    }
   ],
   "source": [
    "lis = [1, 2, 3, 4, 5, 6, 7, 8, 9, 10]\n",
    "lis.append(11)\n",
    "lis"
   ]
  },
  {
   "cell_type": "code",
   "execution_count": null,
   "id": "9ae374d5-7384-4d34-94ff-d655d2a160a0",
   "metadata": {},
   "outputs": [],
   "source": []
  },
  {
   "cell_type": "markdown",
   "id": "d759a26a-c0f1-43c0-88ea-98e5c4f1effd",
   "metadata": {},
   "source": [
    "4. Insert an element at a specific index in a list."
   ]
  },
  {
   "cell_type": "code",
   "execution_count": 16,
   "id": "52232aa9-5392-4628-89a8-fa73bd63413f",
   "metadata": {},
   "outputs": [],
   "source": [
    "lis2 = [1,2,3,4,5,6,8,9,10]\n",
    "value = 7\n",
    "index= 6\n",
    "lis2.insert(index,value)"
   ]
  },
  {
   "cell_type": "code",
   "execution_count": 17,
   "id": "3a4bf6ef-3b4b-440a-b578-fe2efcf8c352",
   "metadata": {},
   "outputs": [
    {
     "data": {
      "text/plain": [
       "[1, 2, 3, 4, 5, 6, 7, 8, 9, 10]"
      ]
     },
     "execution_count": 17,
     "metadata": {},
     "output_type": "execute_result"
    }
   ],
   "source": [
    "lis2"
   ]
  },
  {
   "cell_type": "code",
   "execution_count": null,
   "id": "6b0f015f-131e-43b4-b712-cba61062b3b0",
   "metadata": {},
   "outputs": [],
   "source": []
  },
  {
   "cell_type": "markdown",
   "id": "8d03950e-d73b-434c-b1ae-c0b59e30ed2a",
   "metadata": {},
   "source": [
    "5. Remove an element from a list by its value."
   ]
  },
  {
   "cell_type": "code",
   "execution_count": 33,
   "id": "0cfa62fe-e4f5-48bd-b5d0-596ccfcfe904",
   "metadata": {},
   "outputs": [],
   "source": [
    "lis2 = [1,2,3,4,5,6,7,8,9]\n",
    "lis2.remove(5)"
   ]
  },
  {
   "cell_type": "code",
   "execution_count": 34,
   "id": "41491bc0-ea64-433b-9c8f-f143c67e5a48",
   "metadata": {},
   "outputs": [
    {
     "data": {
      "text/plain": [
       "[1, 2, 3, 4, 6, 7, 8, 9]"
      ]
     },
     "execution_count": 34,
     "metadata": {},
     "output_type": "execute_result"
    }
   ],
   "source": [
    "lis2"
   ]
  },
  {
   "cell_type": "code",
   "execution_count": 23,
   "id": "db9fc686-9477-46a7-8cdd-1317fd960edd",
   "metadata": {},
   "outputs": [],
   "source": []
  },
  {
   "cell_type": "markdown",
   "id": "aa999a7a-196c-4dab-b2d2-7cb30184b6c6",
   "metadata": {},
   "source": [
    "6. Remove an element from a list by its index."
   ]
  },
  {
   "cell_type": "code",
   "execution_count": 35,
   "id": "b294df8e-dddc-473e-a7b8-f2cc3ecec3d8",
   "metadata": {},
   "outputs": [
    {
     "data": {
      "text/plain": [
       "[1, 2, 3, 4, 5, 7, 8, 9]"
      ]
     },
     "execution_count": 35,
     "metadata": {},
     "output_type": "execute_result"
    }
   ],
   "source": [
    "lis3 = [1,2,3,4,5,6,7,8,9]\n",
    "index =5\n",
    "lis3.pop(index)\n",
    "lis3"
   ]
  },
  {
   "cell_type": "code",
   "execution_count": null,
   "id": "e902e691-a8b7-42e1-837e-4b1c77cf64fa",
   "metadata": {},
   "outputs": [],
   "source": []
  },
  {
   "cell_type": "markdown",
   "id": "033875a8-9461-4f9a-a6b5-646b60e03f80",
   "metadata": {},
   "source": [
    "7. Check if an element exists in a list."
   ]
  },
  {
   "cell_type": "code",
   "execution_count": 38,
   "id": "9b425581-62cc-4b6c-b5bb-c7f1a41195aa",
   "metadata": {},
   "outputs": [
    {
     "data": {
      "text/plain": [
       "'element exist'"
      ]
     },
     "execution_count": 38,
     "metadata": {},
     "output_type": "execute_result"
    }
   ],
   "source": [
    "def elem_exist(lis,elem):\n",
    "    for i in lis:\n",
    "        if i==elem:\n",
    "            return 'element exist'\n",
    "            \n",
    "        else:\n",
    "            continue\n",
    "    return 'element does not exist'        \n",
    "\n",
    "lis4 = [1,2,3,4,5,6,7,8,9]\n",
    "elem_exist(lis4,7)"
   ]
  },
  {
   "cell_type": "code",
   "execution_count": null,
   "id": "22ffcbd3-e03d-43d2-9d82-0b9b5b5e7725",
   "metadata": {},
   "outputs": [],
   "source": []
  },
  {
   "cell_type": "markdown",
   "id": "6fed681e-c313-410b-917b-329ea2b5c1f7",
   "metadata": {},
   "source": [
    "8. Find the index of the first occurrence of an element in a list."
   ]
  },
  {
   "cell_type": "code",
   "execution_count": 42,
   "id": "284629ab-35df-4bfd-97a2-478fb835cefd",
   "metadata": {},
   "outputs": [
    {
     "name": "stdout",
     "output_type": "stream",
     "text": [
      "Element first occoured at index :  3\n"
     ]
    }
   ],
   "source": [
    "lis4 = [1,2,3,4,5,6,7,8,9]\n",
    "element = 4\n",
    "index = lis4.index(element)\n",
    "print('Element first occoured at index : ',index)"
   ]
  },
  {
   "cell_type": "code",
   "execution_count": null,
   "id": "86b11d40-9c94-4914-b295-9d0d4c8abd6d",
   "metadata": {},
   "outputs": [],
   "source": []
  },
  {
   "cell_type": "markdown",
   "id": "3e88fa41-4386-45f2-a7b7-9269b8f3a40d",
   "metadata": {},
   "source": [
    "9. Count the occurrences of an element in a list."
   ]
  },
  {
   "cell_type": "code",
   "execution_count": 48,
   "id": "17972941-7fdd-4b4e-a721-d2a6520f2875",
   "metadata": {},
   "outputs": [
    {
     "name": "stdout",
     "output_type": "stream",
     "text": [
      "Element occoured in given list : 4 times\n"
     ]
    }
   ],
   "source": [
    "lis4 = [1,2,3,4,5,6,5,5,8,8,8,7,8,9]\n",
    "elem = 8\n",
    "count = lis4.count(elem)\n",
    "print(f'Element occoured in given list : {count} times')"
   ]
  },
  {
   "cell_type": "code",
   "execution_count": null,
   "id": "63738692-0a4c-4a04-b69c-31f5c48f9998",
   "metadata": {},
   "outputs": [],
   "source": []
  },
  {
   "cell_type": "markdown",
   "id": "095061b6-60bb-4980-bf6e-95c0889fca60",
   "metadata": {},
   "source": [
    "10. Reverse the order of elements in a list."
   ]
  },
  {
   "cell_type": "code",
   "execution_count": 50,
   "id": "2c0feaa4-bd95-48ba-8003-43f3d5b3ab37",
   "metadata": {},
   "outputs": [
    {
     "data": {
      "text/plain": [
       "[10, 9, 8, 7, 6, 5, 4, 3, 2, 1]"
      ]
     },
     "execution_count": 50,
     "metadata": {},
     "output_type": "execute_result"
    }
   ],
   "source": [
    "lis5 = [1,2,3,4,5,6,7,8,9,10]\n",
    "rev_lis5 = lis5[::-1]\n",
    "rev_lis5"
   ]
  },
  {
   "cell_type": "code",
   "execution_count": null,
   "id": "f1a468d7-40fc-4969-a131-1c53fcf24e7a",
   "metadata": {},
   "outputs": [],
   "source": []
  },
  {
   "cell_type": "markdown",
   "id": "5c0db933-8076-43d5-bccf-3140d1a32227",
   "metadata": {},
   "source": [
    "11. Sort a list in ascending order."
   ]
  },
  {
   "cell_type": "code",
   "execution_count": 56,
   "id": "d5e0ab24-a6d5-48fe-b77a-a06021764658",
   "metadata": {},
   "outputs": [
    {
     "data": {
      "text/plain": [
       "[1, 2, 3, 4, 5, 6, 7, 8, 9, 10]"
      ]
     },
     "execution_count": 56,
     "metadata": {},
     "output_type": "execute_result"
    }
   ],
   "source": [
    "lis5 = [10, 9, 8, 7, 6, 5, 4, 3, 2, 1]\n",
    "lis5.sort()\n",
    "lis5"
   ]
  },
  {
   "cell_type": "code",
   "execution_count": null,
   "id": "e0a12f45-2814-471e-916a-cc299e61f379",
   "metadata": {},
   "outputs": [],
   "source": []
  },
  {
   "cell_type": "markdown",
   "id": "f110fac5-7f79-4626-ac35-1fbb697db5fb",
   "metadata": {},
   "source": [
    "12. Sort a list in descending order."
   ]
  },
  {
   "cell_type": "code",
   "execution_count": 57,
   "id": "1029b78c-2794-4806-8e8d-b9041cb71ccd",
   "metadata": {},
   "outputs": [
    {
     "data": {
      "text/plain": [
       "[10, 9, 8, 7, 6, 5, 4, 3, 2, 1]"
      ]
     },
     "execution_count": 57,
     "metadata": {},
     "output_type": "execute_result"
    }
   ],
   "source": [
    "lis5 =[1, 2, 3, 4, 5, 6, 7, 8, 9, 10]\n",
    "lis5.sort(reverse = True)\n",
    "lis5"
   ]
  },
  {
   "cell_type": "code",
   "execution_count": null,
   "id": "f3562839-1e2d-4003-aee5-aa7e5257612a",
   "metadata": {},
   "outputs": [],
   "source": []
  },
  {
   "cell_type": "markdown",
   "id": "34ca054f-4a22-4b1d-ab21-f457b644137d",
   "metadata": {},
   "source": [
    "13. Create a list of even numbers from 1 to 20."
   ]
  },
  {
   "cell_type": "code",
   "execution_count": 64,
   "id": "58374504-5283-4dd8-a413-f92303371de2",
   "metadata": {},
   "outputs": [
    {
     "data": {
      "text/plain": [
       "[2, 4, 6, 8, 10, 12, 14, 16, 18, 20]"
      ]
     },
     "execution_count": 64,
     "metadata": {},
     "output_type": "execute_result"
    }
   ],
   "source": [
    "def even_list(start,end):\n",
    "    li=[]\n",
    "    for i in range(start-1,end+1,2):\n",
    "            li.append(i)\n",
    "    return li[1:]\n",
    "even_list(1,20)"
   ]
  },
  {
   "cell_type": "code",
   "execution_count": 66,
   "id": "993f33dd-6a84-42c6-aa1d-a2a4769b0585",
   "metadata": {},
   "outputs": [
    {
     "data": {
      "text/plain": [
       "[2, 4, 6, 8, 10, 12, 14, 16, 18, 20]"
      ]
     },
     "execution_count": 66,
     "metadata": {},
     "output_type": "execute_result"
    }
   ],
   "source": [
    "def even_lists(start,end):\n",
    "    li=[]\n",
    "    for i in range(start,end+1):\n",
    "        if i % 2 == 0:\n",
    "            li.append(i)\n",
    "        else:\n",
    "            continue\n",
    "    return li\n",
    "even_lists(1,20)"
   ]
  },
  {
   "cell_type": "code",
   "execution_count": null,
   "id": "0f1688a3-7ab9-4def-9913-bd632b72957c",
   "metadata": {},
   "outputs": [],
   "source": []
  },
  {
   "cell_type": "markdown",
   "id": "41efd5c9-4b4b-4a75-90d8-076993e9f52e",
   "metadata": {},
   "source": [
    "14. Create a list of odd numbers from 1 to 20."
   ]
  },
  {
   "cell_type": "code",
   "execution_count": 68,
   "id": "fd4abccd-9ac9-4aeb-98c9-a8c5c385e809",
   "metadata": {},
   "outputs": [
    {
     "data": {
      "text/plain": [
       "[1, 3, 5, 7, 9, 11, 13, 15, 17, 19]"
      ]
     },
     "execution_count": 68,
     "metadata": {},
     "output_type": "execute_result"
    }
   ],
   "source": [
    "def odd_lists(start,end):\n",
    "    li=[]\n",
    "    for i in range(start,end+1):\n",
    "        if i % 2 != 0:\n",
    "            li.append(i)\n",
    "        else:\n",
    "            continue\n",
    "    return li\n",
    "odd_lists(1,20)"
   ]
  },
  {
   "cell_type": "code",
   "execution_count": null,
   "id": "386c6d24-1d14-4040-9121-0ac6e3cd6900",
   "metadata": {},
   "outputs": [],
   "source": []
  },
  {
   "cell_type": "markdown",
   "id": "b58fe26a-d5ea-4139-808b-3176a42d1e13",
   "metadata": {},
   "source": [
    "15. Find the sum of all elements in a list."
   ]
  },
  {
   "cell_type": "code",
   "execution_count": 70,
   "id": "e84a9fcb-7988-4e1c-92d2-8002f0a753b6",
   "metadata": {},
   "outputs": [
    {
     "data": {
      "text/plain": [
       "36"
      ]
     },
     "execution_count": 70,
     "metadata": {},
     "output_type": "execute_result"
    }
   ],
   "source": [
    "def sum_list(lis):\n",
    "    sumi = 0\n",
    "    for i in lis:\n",
    "        sumi = sumi + i\n",
    "    return sumi\n",
    "lis5 = [1,2,3,4,5,6,7,8]\n",
    "sum_list(lis5)"
   ]
  },
  {
   "cell_type": "code",
   "execution_count": null,
   "id": "83a4df0d-22ac-4482-b433-13769f3d55a5",
   "metadata": {},
   "outputs": [],
   "source": []
  },
  {
   "cell_type": "markdown",
   "id": "580174bf-0c59-473d-8a01-97d1b077bfca",
   "metadata": {},
   "source": [
    "16. Find the maximum value in a list."
   ]
  },
  {
   "cell_type": "code",
   "execution_count": 72,
   "id": "478d2579-c4ca-41c1-8186-a78342320125",
   "metadata": {},
   "outputs": [
    {
     "data": {
      "text/plain": [
       "8"
      ]
     },
     "execution_count": 72,
     "metadata": {},
     "output_type": "execute_result"
    }
   ],
   "source": [
    "def max_list(lis):\n",
    "    maxi = -223\n",
    "    for i in lis:\n",
    "        if i > maxi:\n",
    "            maxi = i \n",
    "        else:\n",
    "            continue\n",
    "    return maxi\n",
    "llis5 = [1,2,3,4,5,6,7,8]\n",
    "max_list(lis5)"
   ]
  },
  {
   "cell_type": "code",
   "execution_count": null,
   "id": "4d080669-c4c5-4822-b292-ae3920dd495e",
   "metadata": {},
   "outputs": [],
   "source": []
  },
  {
   "cell_type": "markdown",
   "id": "d77e49eb-3375-471b-b087-47da7d8e3ff4",
   "metadata": {},
   "source": [
    "17. Find the minimum value in a list."
   ]
  },
  {
   "cell_type": "code",
   "execution_count": 75,
   "id": "51b22ae3-19cf-415c-acf8-3b5a601e8a6b",
   "metadata": {},
   "outputs": [
    {
     "data": {
      "text/plain": [
       "1"
      ]
     },
     "execution_count": 75,
     "metadata": {},
     "output_type": "execute_result"
    }
   ],
   "source": [
    "def min_list(lis):\n",
    "    mini = 100000\n",
    "    for i in lis:\n",
    "        if i < mini:\n",
    "            mini =  i \n",
    "        else:\n",
    "            continue\n",
    "    return mini\n",
    "llis5 = [1,2,3,4,5,6,7,8]\n",
    "min_list(lis5)"
   ]
  },
  {
   "cell_type": "code",
   "execution_count": null,
   "id": "bdf63904-a087-4232-8709-3c327dcf017f",
   "metadata": {},
   "outputs": [],
   "source": []
  },
  {
   "cell_type": "markdown",
   "id": "6386c0fa-49a9-4ae5-88ab-feb277e346b9",
   "metadata": {},
   "source": [
    "18. Create a list of squares of numbers from 1 to 10."
   ]
  },
  {
   "cell_type": "code",
   "execution_count": 76,
   "id": "e981dd40-2aba-4ff2-885c-7252deda5288",
   "metadata": {},
   "outputs": [
    {
     "data": {
      "text/plain": [
       "[1, 4, 9, 16, 25, 36, 49, 64, 81, 100]"
      ]
     },
     "execution_count": 76,
     "metadata": {},
     "output_type": "execute_result"
    }
   ],
   "source": [
    "def square_list(start,end):\n",
    "    li = []\n",
    "    for i in range(start,end+1):\n",
    "        li.append(i**2)\n",
    "    return li\n",
    "square_list(1,10)"
   ]
  },
  {
   "cell_type": "code",
   "execution_count": null,
   "id": "64806397-c394-46e0-b618-d42b1b6fead2",
   "metadata": {},
   "outputs": [],
   "source": []
  },
  {
   "cell_type": "markdown",
   "id": "e24e02f9-62b6-465f-8e5e-788ff85eb263",
   "metadata": {},
   "source": [
    "19. Create a list of random numbers."
   ]
  },
  {
   "cell_type": "code",
   "execution_count": 79,
   "id": "0224e077-8c5e-424c-9c70-f105120bd434",
   "metadata": {},
   "outputs": [
    {
     "data": {
      "text/plain": [
       "[0.6962720937842133,\n",
       " 0.8062694605396971,\n",
       " 0.20303335270425338,\n",
       " 0.14210143379738305,\n",
       " 0.4425567802025451,\n",
       " 0.11051454736960076,\n",
       " 0.37028127162423863,\n",
       " 0.04425612616640484,\n",
       " 0.31212899810139016,\n",
       " 0.03408204956980587]"
      ]
     },
     "execution_count": 79,
     "metadata": {},
     "output_type": "execute_result"
    }
   ],
   "source": [
    "import random\n",
    "def rand_list(n):\n",
    "    li = []\n",
    "    for i in range(n):\n",
    "        li.append(random.random())\n",
    "    return li\n",
    "rand_list(10)"
   ]
  },
  {
   "cell_type": "code",
   "execution_count": null,
   "id": "a4874e6e-104f-4a0f-870e-f9183468f1ac",
   "metadata": {},
   "outputs": [],
   "source": []
  },
  {
   "cell_type": "markdown",
   "id": "0cda1492-a09c-482c-84c2-34378577e171",
   "metadata": {},
   "source": [
    "20. Remove duplicates from a list."
   ]
  },
  {
   "cell_type": "code",
   "execution_count": 84,
   "id": "5a918c64-f8fe-4e5b-afdd-3044beaa4144",
   "metadata": {},
   "outputs": [
    {
     "data": {
      "text/plain": [
       "[1, 2, 3, 4, 5, 6]"
      ]
     },
     "execution_count": 84,
     "metadata": {},
     "output_type": "execute_result"
    }
   ],
   "source": [
    "def dup_remove(lis):\n",
    "    set_lis = set(lis)\n",
    "    lis = list(set_lis)\n",
    "    return lis\n",
    "\n",
    "lis5 = [1,2,1,2,1,3,4,2,3,5,6]\n",
    "dup_remove(lis5)"
   ]
  },
  {
   "cell_type": "code",
   "execution_count": null,
   "id": "574a7aff-d5c1-4411-9432-e75af9e3f1c8",
   "metadata": {},
   "outputs": [],
   "source": []
  },
  {
   "cell_type": "markdown",
   "id": "08812037-20b1-4bf7-9c15-4c695b1c609f",
   "metadata": {},
   "source": [
    "21. Find the common elements between two lists."
   ]
  },
  {
   "cell_type": "code",
   "execution_count": 2,
   "id": "6db969fa-a2e9-4b6c-bdfa-54b02990d7ad",
   "metadata": {},
   "outputs": [
    {
     "name": "stdout",
     "output_type": "stream",
     "text": [
      "common elements b/w two given lists are : [4, 5, 7]\n"
     ]
    }
   ],
   "source": [
    "def common_element(lis1,lis2):\n",
    "    set_lis1 = set(lis1)\n",
    "    set_lis2  = set(lis2)\n",
    "    new_set = set_lis1.intersection(set_lis2)\n",
    "    li = list(new_set)\n",
    "    return li\n",
    "\n",
    "lis1 = [12,3,4,5,4,7]\n",
    "lis2 = [1,4,5,7,8,9,0,90]\n",
    "print(f'common elements b/w two given lists are : {common_element(lis1,lis2)}')"
   ]
  },
  {
   "cell_type": "code",
   "execution_count": null,
   "id": "a15bc927-bd2f-4337-8709-946c81729aad",
   "metadata": {},
   "outputs": [],
   "source": []
  },
  {
   "cell_type": "markdown",
   "id": "b27a0632-ccd5-41df-b20f-ff76c17526c4",
   "metadata": {},
   "source": [
    "22. Find the difference between two lists."
   ]
  },
  {
   "cell_type": "code",
   "execution_count": 3,
   "id": "0565fea2-ba6c-445d-b88f-6c55b806cd5c",
   "metadata": {},
   "outputs": [
    {
     "name": "stdout",
     "output_type": "stream",
     "text": [
      " difference b/w two given lists are : [3, 12]\n"
     ]
    }
   ],
   "source": [
    "def difference_element(lis1,lis2):\n",
    "    set_lis1 = set(lis1)\n",
    "    set_lis2  = set(lis2)\n",
    "    new_set = set_lis1.difference(set_lis2)\n",
    "    li = list(new_set)\n",
    "    return li\n",
    "\n",
    "lis1 = [12,3,4,5,4,7]\n",
    "lis2 = [1,4,5,7,8,9,0,90]\n",
    "print(f' difference b/w two given lists are : {difference_element(lis1,lis2)}')\n"
   ]
  },
  {
   "cell_type": "code",
   "execution_count": null,
   "id": "4adbe751-3294-43a1-a6bf-81cc937b44d3",
   "metadata": {},
   "outputs": [],
   "source": []
  },
  {
   "cell_type": "markdown",
   "id": "b1b1940d-f37f-4442-8796-063d5b6d492d",
   "metadata": {},
   "source": [
    "23. Merge two lists."
   ]
  },
  {
   "cell_type": "code",
   "execution_count": 5,
   "id": "94132211-6b9b-405e-bb99-385c9d37aac7",
   "metadata": {},
   "outputs": [
    {
     "data": {
      "text/plain": [
       "[12, 3, 4, 5, 4, 7, 1, 4, 5, 7, 8, 9, 0, 90]"
      ]
     },
     "execution_count": 5,
     "metadata": {},
     "output_type": "execute_result"
    }
   ],
   "source": [
    "lis1= [12,3,4,5,4,7]\n",
    "lis2 = [1,4,5,7,8,9,0,90]\n",
    "\n",
    "lis1.extend(lis2)\n",
    "lis1"
   ]
  },
  {
   "cell_type": "code",
   "execution_count": null,
   "id": "59e7b031-d7f8-45ce-8392-8133a6806d8e",
   "metadata": {},
   "outputs": [],
   "source": []
  },
  {
   "cell_type": "markdown",
   "id": "48524448-438e-4c7a-aa6e-c4af6eb72fe2",
   "metadata": {},
   "source": [
    "24. Multiply all elements in a list by 2."
   ]
  },
  {
   "cell_type": "code",
   "execution_count": 10,
   "id": "bbf4c2c3-3249-4045-930b-05805a22a59a",
   "metadata": {},
   "outputs": [
    {
     "data": {
      "text/plain": [
       "[24, 6, 8, 10, 8, 14]"
      ]
     },
     "execution_count": 10,
     "metadata": {},
     "output_type": "execute_result"
    }
   ],
   "source": [
    "lis1= [12,3,4,5,4,7]\n",
    "lis1 = list(map(lambda x:x*2 , lis1))\n",
    "lis1"
   ]
  },
  {
   "cell_type": "code",
   "execution_count": null,
   "id": "1867ce89-4805-400e-8f22-a45dbca98528",
   "metadata": {},
   "outputs": [],
   "source": []
  },
  {
   "cell_type": "markdown",
   "id": "6cb799ee-b8d7-4aec-9bea-92ad9a00d698",
   "metadata": {},
   "source": [
    "25. Filter out all even numbers from a list."
   ]
  },
  {
   "cell_type": "code",
   "execution_count": 13,
   "id": "3906628b-03b0-4df8-b016-5d494074e644",
   "metadata": {},
   "outputs": [
    {
     "data": {
      "text/plain": [
       "[12, 4, 4]"
      ]
     },
     "execution_count": 13,
     "metadata": {},
     "output_type": "execute_result"
    }
   ],
   "source": [
    "lis1= [12,3,4,5,4,7]\n",
    "even_list = list(filter(lambda x : x%2==0 , lis1))\n",
    "even_list"
   ]
  },
  {
   "cell_type": "code",
   "execution_count": null,
   "id": "1c03a5e7-1d0c-416e-b331-51d0478f0330",
   "metadata": {},
   "outputs": [],
   "source": []
  },
  {
   "cell_type": "markdown",
   "id": "315ee858-01e6-498a-b54b-30dbbe59f019",
   "metadata": {},
   "source": [
    "26. Convert a list of strings to a list of integers."
   ]
  },
  {
   "cell_type": "code",
   "execution_count": 14,
   "id": "21254367-c5a6-4224-acd5-527cc8d49779",
   "metadata": {},
   "outputs": [
    {
     "data": {
      "text/plain": [
       "[1, 2, 3, 4, 5, 6, 7]"
      ]
     },
     "execution_count": 14,
     "metadata": {},
     "output_type": "execute_result"
    }
   ],
   "source": [
    "lis2 = ['1','2','3','4','5','6','7']\n",
    "int_list =list(map(lambda x : int(x), lis2))\n",
    "int_list"
   ]
  },
  {
   "cell_type": "code",
   "execution_count": null,
   "id": "8010f521-ab32-4397-be73-a0c73652fcd3",
   "metadata": {},
   "outputs": [],
   "source": []
  },
  {
   "cell_type": "markdown",
   "id": "a7438c21-11de-4710-96dc-ceed3d999671",
   "metadata": {},
   "source": [
    "27. Convert a list of integers to a list of strings."
   ]
  },
  {
   "cell_type": "code",
   "execution_count": 15,
   "id": "b2e86779-6774-4047-bb06-be7d62c21940",
   "metadata": {},
   "outputs": [
    {
     "data": {
      "text/plain": [
       "['1', '2', '3', '4', '5', '6', '7']"
      ]
     },
     "execution_count": 15,
     "metadata": {},
     "output_type": "execute_result"
    }
   ],
   "source": [
    "lis2 = [1, 2, 3, 4, 5, 6, 7]\n",
    "str_list =list(map(lambda x : str(x), lis2))\n",
    "str_list"
   ]
  },
  {
   "cell_type": "code",
   "execution_count": null,
   "id": "96706cb8-43d0-4157-b7b1-a2583f43cd2e",
   "metadata": {},
   "outputs": [],
   "source": []
  },
  {
   "cell_type": "markdown",
   "id": "4ec73fbe-7c8b-4e04-b151-0ae90c17093c",
   "metadata": {},
   "source": [
    "28. Flatten a nested list."
   ]
  },
  {
   "cell_type": "code",
   "execution_count": 3,
   "id": "95ff0693-ef6a-4f0e-915f-36784abc27fd",
   "metadata": {},
   "outputs": [
    {
     "data": {
      "text/plain": [
       "[1, 2, 4, 5, 2, 3, 4, 5, 3, 4, 22, 11]"
      ]
     },
     "execution_count": 3,
     "metadata": {},
     "output_type": "execute_result"
    }
   ],
   "source": [
    "lis6 = [[1,2,4,5],[2,3,4,5],[3,4,22,11]]\n",
    "def nested_lis(lis):\n",
    "    li=[]\n",
    "    for i in lis:\n",
    "        for j in i:\n",
    "            li.append(j)\n",
    "    return li\n",
    "nested_lis(lis6)\n"
   ]
  },
  {
   "cell_type": "code",
   "execution_count": null,
   "id": "a71ff2e6-86ce-4a70-a489-608065beb553",
   "metadata": {},
   "outputs": [],
   "source": []
  },
  {
   "cell_type": "markdown",
   "id": "586d286b-2e4b-45cc-904f-3460de637153",
   "metadata": {},
   "source": [
    "29. Create a list of the first 10 Fibonacci numbers."
   ]
  },
  {
   "cell_type": "code",
   "execution_count": 10,
   "id": "a01ed2e5-1bc4-471c-98b8-ef1176457430",
   "metadata": {},
   "outputs": [
    {
     "data": {
      "text/plain": [
       "[0, 1, 1, 2, 3, 5, 8, 13, 21, 34, 55]"
      ]
     },
     "execution_count": 10,
     "metadata": {},
     "output_type": "execute_result"
    }
   ],
   "source": [
    "def fibbonacci_list(n):\n",
    "    n1 = 0\n",
    "    n2 = 1\n",
    "    li =[]\n",
    "    for i in range(n):\n",
    "        if i == 0:\n",
    "            li.append(n1)\n",
    "        elif i==1:\n",
    "            li.append(n2)\n",
    "        else:\n",
    "            n3 = n1+n2 \n",
    "            li.append(n3)\n",
    "            n1=n2\n",
    "            n2=n3\n",
    "    return li\n",
    "fibbonacci_list(11)\n"
   ]
  },
  {
   "cell_type": "code",
   "execution_count": null,
   "id": "b91bade6-e4c1-4861-988b-d673612812f2",
   "metadata": {},
   "outputs": [],
   "source": []
  },
  {
   "cell_type": "markdown",
   "id": "83974495-9e0b-43d4-894a-86bf50a8084b",
   "metadata": {},
   "source": [
    "30. Check if a list is sorted."
   ]
  },
  {
   "cell_type": "code",
   "execution_count": 23,
   "id": "16de796c-c6f4-4d32-a577-7f019de9d6a4",
   "metadata": {},
   "outputs": [
    {
     "data": {
      "text/plain": [
       "'list is not sorted'"
      ]
     },
     "execution_count": 23,
     "metadata": {},
     "output_type": "execute_result"
    }
   ],
   "source": [
    "def check_sorted(lis):\n",
    "    previous_elem = 0 \n",
    "    for i in lis: \n",
    "        if lis.index(i) == 0:\n",
    "            continue\n",
    "        elif lis.index(i) == len(lis)-1:\n",
    "            break\n",
    "        elif (lis[lis.index(i)+1]>i>lis[lis.index(i)-1]) or (lis[lis.index(i)+1]<i<lis[lis.index(i)-1]):\n",
    "            continue\n",
    "\n",
    "        else:\n",
    "            return 'list is not sorted'\n",
    "    return 'list is sorted'\n",
    "\n",
    "\n",
    "lis7 = [1,2,3,5,6,4,8,7]\n",
    "lis6 = [9,8,7,6,5,4,3,2,1,0]\n",
    "check_sorted(lis7)\n",
    "\n",
    "    \n",
    "\n",
    "        "
   ]
  },
  {
   "cell_type": "code",
   "execution_count": null,
   "id": "32c46399-db1c-4cdf-90c3-945372b6805e",
   "metadata": {},
   "outputs": [],
   "source": []
  },
  {
   "cell_type": "markdown",
   "id": "87fe6d0e-5f14-45e5-bf1e-73307e2c4ffe",
   "metadata": {},
   "source": [
    "31. Rotate a list to the left by `n` positions."
   ]
  },
  {
   "cell_type": "code",
   "execution_count": 30,
   "id": "cf60ddc4-f455-469b-9256-89b6b7e8a5b2",
   "metadata": {},
   "outputs": [
    {
     "data": {
      "text/plain": [
       "[5, 6, 7, 8, 9, 1, 2, 3, 4]"
      ]
     },
     "execution_count": 30,
     "metadata": {},
     "output_type": "execute_result"
    }
   ],
   "source": [
    "lis7 = [1,2,3,4,5,6,7,8,9]\n",
    "def rotate_lis(lis,n):\n",
    "    li=[]\n",
    "    for i in lis[n:]:\n",
    "            li.append(i)\n",
    "\n",
    "    for i in lis[:n]:\n",
    "            li.append(i)\n",
    "    return li\n",
    "rotate_lis(lis7,4)"
   ]
  },
  {
   "cell_type": "code",
   "execution_count": null,
   "id": "71a5ba81-696c-4cc3-80fb-118ad198b41a",
   "metadata": {},
   "outputs": [],
   "source": []
  },
  {
   "cell_type": "markdown",
   "id": "9136c1af-56b1-47f2-a56c-99df117f5329",
   "metadata": {},
   "source": [
    "32. Rotate a list to the right by `n` positions."
   ]
  },
  {
   "cell_type": "code",
   "execution_count": 32,
   "id": "290971b6-be48-4e9d-a7b3-b59acdde5c36",
   "metadata": {},
   "outputs": [
    {
     "data": {
      "text/plain": [
       "[6, 7, 8, 9, 1, 2, 3, 4, 5]"
      ]
     },
     "execution_count": 32,
     "metadata": {},
     "output_type": "execute_result"
    }
   ],
   "source": [
    "lis7 = [1,2,3,4,5,6,7,8,9]\n",
    "def rotate_right(lis,n):\n",
    "    li=[]\n",
    "    for i in lis[-n:]:\n",
    "            li.append(i)\n",
    "\n",
    "    for i in lis[:-n]:\n",
    "            li.append(i)\n",
    "    return li\n",
    "rotate_right(lis7,4)"
   ]
  },
  {
   "cell_type": "code",
   "execution_count": null,
   "id": "348d618b-7f38-4f27-bf48-4d1a5d160088",
   "metadata": {},
   "outputs": [],
   "source": []
  },
  {
   "cell_type": "markdown",
   "id": "ae01ea2c-fdd8-4718-91e2-b86ce5a34374",
   "metadata": {},
   "source": [
    "33. Create a list of prime numbers up to 50."
   ]
  },
  {
   "cell_type": "code",
   "execution_count": 43,
   "id": "f7310d26-c65b-4b95-8a7e-9cf2cf5e05a0",
   "metadata": {},
   "outputs": [
    {
     "data": {
      "text/plain": [
       "[2, 3, 5, 7, 11, 13, 17, 19, 23, 29, 31, 37, 41, 43, 47]"
      ]
     },
     "execution_count": 43,
     "metadata": {},
     "output_type": "execute_result"
    }
   ],
   "source": [
    "def prime_no_lis(n):\n",
    "    li=[]\n",
    "    for i in range(n+1):\n",
    "        if i==0 or i==1:\n",
    "            continue\n",
    "        elif i==2:\n",
    "            li.append(i)\n",
    "            continue\n",
    "        for j in range(2,i):\n",
    "            if i%j==0:\n",
    "                break\n",
    "        if i%j!=0:\n",
    "            li.append(i)\n",
    "    return li\n",
    "                \n",
    "prime_no_lis(50)"
   ]
  },
  {
   "cell_type": "code",
   "execution_count": null,
   "id": "385a237a-7f6c-488c-b9d2-d156fb510fb6",
   "metadata": {},
   "outputs": [],
   "source": []
  },
  {
   "cell_type": "markdown",
   "id": "a4e53e18-302d-4bf5-87ee-33a1d829fc7e",
   "metadata": {},
   "source": [
    "34. Split a list into chunks of size `n`."
   ]
  },
  {
   "cell_type": "code",
   "execution_count": 61,
   "id": "e5001ac0-913d-4a4e-9ecd-eae35a301a16",
   "metadata": {},
   "outputs": [
    {
     "name": "stdout",
     "output_type": "stream",
     "text": [
      "[1, 2, 3]\n",
      "[4, 5, 6]\n",
      "[4, 5, 6]\n"
     ]
    }
   ],
   "source": [
    "lis7=[1,2,3,4,5,6,7,8]\n",
    "def split_chunks(lis,n):\n",
    "    length = len(lis)\n",
    "    chunk = int(length/n)\n",
    "    if (length % 2 == 0) and (n%2==0):\n",
    "        for i in range(n):\n",
    "            if i ==0:\n",
    "                print(lis[:n])\n",
    "            else:\n",
    "                print(lis[n:n+n])\n",
    "    else:\n",
    "        for i in range(n):\n",
    "            if i ==0:\n",
    "                print(lis[:n])\n",
    "            else:\n",
    "                print(lis[n:n+n])\n",
    "split_chunks(lis7,3)"
   ]
  },
  {
   "cell_type": "code",
   "execution_count": null,
   "id": "a4279e07-674a-4165-8b64-653289c9ecc4",
   "metadata": {},
   "outputs": [],
   "source": []
  },
  {
   "cell_type": "markdown",
   "id": "d577fe4b-8d64-4a31-ade4-8b415329d878",
   "metadata": {},
   "source": [
    "35. Find the second largest number in a list."
   ]
  },
  {
   "cell_type": "code",
   "execution_count": 24,
   "id": "04f4cd98-7e61-455b-a336-f95f8fde85dc",
   "metadata": {},
   "outputs": [
    {
     "data": {
      "text/plain": [
       "10"
      ]
     },
     "execution_count": 24,
     "metadata": {},
     "output_type": "execute_result"
    }
   ],
   "source": [
    "lis = [1,2,3,4,7,6,9,8,10,10,12,12]\n",
    "def second_larges(lis):\n",
    "    lis.sort(reverse = True)\n",
    "    maximum = max(lis)\n",
    "    li=[]\n",
    "    for i in lis:\n",
    "        if i == maximum:\n",
    "            continue\n",
    "        else:\n",
    "            li.append(i)\n",
    "    return li[0]\n",
    "\n",
    "\n",
    "second_larges(lis)\n",
    "        \n",
    "    "
   ]
  },
  {
   "cell_type": "code",
   "execution_count": null,
   "id": "c927ad09-4888-45c1-884b-d8fe0830f32d",
   "metadata": {},
   "outputs": [],
   "source": [
    " "
   ]
  },
  {
   "cell_type": "markdown",
   "id": "9f0b6fca-b2f7-4146-85b6-971120d028eb",
   "metadata": {},
   "source": [
    "36. Replace every element in a list with its square."
   ]
  },
  {
   "cell_type": "code",
   "execution_count": 32,
   "id": "4c5c05cf-f887-4dbe-8485-de427058055e",
   "metadata": {},
   "outputs": [
    {
     "data": {
      "text/plain": [
       "[1, 4, 9, 16, 25, 36]"
      ]
     },
     "execution_count": 32,
     "metadata": {},
     "output_type": "execute_result"
    }
   ],
   "source": [
    "lis = [1,2,3,4,5,6]\n",
    "square_lis = list(map(lambda x : x**2 , lis))\n",
    "square_lis"
   ]
  },
  {
   "cell_type": "code",
   "execution_count": null,
   "id": "aa191fd0-12d5-4857-8c74-0e2d97aeb6e1",
   "metadata": {},
   "outputs": [],
   "source": []
  },
  {
   "cell_type": "markdown",
   "id": "9ef7020b-c84d-429e-9250-76e069ceb4eb",
   "metadata": {},
   "source": [
    "37. Convert a list to a dictionary where list elements become keys and their\n",
    "indices become values."
   ]
  },
  {
   "cell_type": "code",
   "execution_count": 33,
   "id": "3df5b7e4-fd63-4539-b45a-74ac5dc718eb",
   "metadata": {},
   "outputs": [
    {
     "data": {
      "text/plain": [
       "{1: 0, 2: 1, 3: 2, 4: 3, 5: 4, 6: 5}"
      ]
     },
     "execution_count": 33,
     "metadata": {},
     "output_type": "execute_result"
    }
   ],
   "source": [
    "def convert_dict(lis):\n",
    "        length = len(lis)\n",
    "        dictinory = {lis[i]:i for i in range(0,length)}\n",
    "        return dictinory\n",
    "lis = [1,2,3,4,5,6]\n",
    "convert_dict(lis)\n",
    "         "
   ]
  },
  {
   "cell_type": "code",
   "execution_count": null,
   "id": "bfd46abb-4972-4d23-bc8b-fcc2bfda06e2",
   "metadata": {},
   "outputs": [],
   "source": []
  },
  {
   "cell_type": "markdown",
   "id": "8ea8af11-9a00-4beb-b8c0-1cf8d1419042",
   "metadata": {},
   "source": [
    "38. Shuffle the elements of a list randomly."
   ]
  },
  {
   "cell_type": "code",
   "execution_count": 45,
   "id": "eda85e8f-b1d0-4c46-8ac9-3e5e1169ef20",
   "metadata": {},
   "outputs": [
    {
     "data": {
      "text/plain": [
       "[3, 4, 1, 2]"
      ]
     },
     "execution_count": 45,
     "metadata": {},
     "output_type": "execute_result"
    }
   ],
   "source": [
    "import random\n",
    "def shuffle_random(lis):\n",
    "    random.shuffle(lis)\n",
    "    return lis\n",
    "\n",
    "\n",
    "lis = [1,2,3,4]\n",
    "shuffle_random(lis)"
   ]
  },
  {
   "cell_type": "code",
   "execution_count": null,
   "id": "51602337-6124-47bc-804b-bb10309232df",
   "metadata": {},
   "outputs": [],
   "source": []
  },
  {
   "cell_type": "markdown",
   "id": "5c3b247b-198d-4e59-aa10-2e3e7c041689",
   "metadata": {},
   "source": [
    "39. Create a list of the first 10 factorial numbers."
   ]
  },
  {
   "cell_type": "code",
   "execution_count": 54,
   "id": "d9c915c2-1ea8-4c61-a800-049d04d8372a",
   "metadata": {},
   "outputs": [
    {
     "data": {
      "text/plain": [
       "[1, 1, 2, 6, 24, 120, 720, 5040, 40320, 362880, 3628800]"
      ]
     },
     "execution_count": 54,
     "metadata": {},
     "output_type": "execute_result"
    }
   ],
   "source": [
    "def factorial(n):\n",
    "    if n<=1:\n",
    "        return 1\n",
    "    else:\n",
    "        return n * factorial(n-1)\n",
    "factorial_list=  [ factorial(i) for i in range(0,11)] \n",
    "factorial_list"
   ]
  },
  {
   "cell_type": "markdown",
   "id": "c5376655-36c7-4675-9e5e-729081b07de2",
   "metadata": {},
   "source": [
    "40. Check if two lists have at least one element in common."
   ]
  },
  {
   "cell_type": "code",
   "execution_count": 66,
   "id": "0a60149e-a1a6-4e62-93f7-ecd3416b0447",
   "metadata": {},
   "outputs": [
    {
     "data": {
      "text/plain": [
       "'No there is no common element exist in the given lists'"
      ]
     },
     "execution_count": 66,
     "metadata": {},
     "output_type": "execute_result"
    }
   ],
   "source": [
    "def comm_elem(lis1,lis2):\n",
    "    set1 = set(lis1)\n",
    "    set2 = set(lis2)\n",
    "    if set1.intersection(set2)!=set():\n",
    "        return 'yes there exist at least one common element in the given lists'\n",
    "    else:\n",
    "        return 'No there is no common element exist in the given lists'\n",
    "lis1 = [1,2,3,4,5]\n",
    "lis2 = [6,7,8,9]\n",
    "comm_elem(lis1,lis2)"
   ]
  },
  {
   "cell_type": "code",
   "execution_count": null,
   "id": "86ffa8ec-8c4e-49c4-9ef5-957f0c845819",
   "metadata": {},
   "outputs": [],
   "source": []
  },
  {
   "cell_type": "markdown",
   "id": "d48523a6-a152-4345-b17c-b42d646f9609",
   "metadata": {},
   "source": [
    "41. Remove all elements from a list."
   ]
  },
  {
   "cell_type": "code",
   "execution_count": 70,
   "id": "a8258787-8e5f-43a6-828f-64d0571e66e4",
   "metadata": {},
   "outputs": [
    {
     "data": {
      "text/plain": [
       "[]"
      ]
     },
     "execution_count": 70,
     "metadata": {},
     "output_type": "execute_result"
    }
   ],
   "source": [
    "lis = [1,2,3,4,5,6,7,88,9]\n",
    "lis.clear()\n",
    "lis"
   ]
  },
  {
   "cell_type": "code",
   "execution_count": null,
   "id": "c2852b99-fa21-4171-b643-f25152c354a6",
   "metadata": {},
   "outputs": [],
   "source": []
  },
  {
   "cell_type": "markdown",
   "id": "35049589-1f76-45e0-bfc8-00d3ccf5899f",
   "metadata": {},
   "source": [
    "42. Replace negative numbers in a list with 0."
   ]
  },
  {
   "cell_type": "code",
   "execution_count": 75,
   "id": "91251e06-8e28-48e1-96c6-6548ddebb00c",
   "metadata": {},
   "outputs": [
    {
     "data": {
      "text/plain": [
       "[1, 2, 3, 4, 0, 5, 0]"
      ]
     },
     "execution_count": 75,
     "metadata": {},
     "output_type": "execute_result"
    }
   ],
   "source": [
    "lis = [1,2,3,4,-2,5,-6]\n",
    "for i in range(0,len(lis)) : \n",
    "    if lis[i]<0:\n",
    "        lis[i]=0\n",
    "    else:\n",
    "        continue\n",
    "\n",
    "lis     "
   ]
  },
  {
   "cell_type": "code",
   "execution_count": null,
   "id": "5e779e57-0612-471a-89f5-f5d86a170d54",
   "metadata": {},
   "outputs": [],
   "source": []
  },
  {
   "cell_type": "markdown",
   "id": "58ad0338-3e8d-4100-b65a-d1642e57d190",
   "metadata": {},
   "source": [
    "43. Convert a string into a list of words."
   ]
  },
  {
   "cell_type": "code",
   "execution_count": 76,
   "id": "619f9673-196b-45a1-894d-f9d8aadfd81e",
   "metadata": {},
   "outputs": [
    {
     "data": {
      "text/plain": [
       "['Hello', 'there', 'how', 'are', 'you', 'all']"
      ]
     },
     "execution_count": 76,
     "metadata": {},
     "output_type": "execute_result"
    }
   ],
   "source": [
    "word_string = 'Hello there how are you all'\n",
    "list_of_words = word_string.split()\n",
    "list_of_words"
   ]
  },
  {
   "cell_type": "code",
   "execution_count": null,
   "id": "97441a74-1783-44c6-9f3c-92bdf97c346e",
   "metadata": {},
   "outputs": [],
   "source": []
  },
  {
   "cell_type": "markdown",
   "id": "ab4cb366-d265-40c7-b7ba-284e6f3be69b",
   "metadata": {},
   "source": [
    "44. Convert a list of words into a string."
   ]
  },
  {
   "cell_type": "code",
   "execution_count": 78,
   "id": "675aefbf-b720-4d28-a076-385c92b2d382",
   "metadata": {},
   "outputs": [
    {
     "data": {
      "text/plain": [
       "'Hello there how are you all'"
      ]
     },
     "execution_count": 78,
     "metadata": {},
     "output_type": "execute_result"
    }
   ],
   "source": [
    "list_of_words = ['Hello', 'there', 'how', 'are', 'you', 'all']\n",
    "string_word = ' '.join(list_of_words)\n",
    "string_word"
   ]
  },
  {
   "cell_type": "markdown",
   "id": "8a043bf6-58be-4e20-85de-26a6f909c593",
   "metadata": {},
   "source": [
    "Create a list of the first `n` powers of 2."
   ]
  },
  {
   "cell_type": "code",
   "execution_count": 81,
   "id": "822ddea6-8578-450e-839f-5a3db0f99556",
   "metadata": {},
   "outputs": [
    {
     "data": {
      "text/plain": [
       "[0, 1, 4, 9, 16, 25, 36, 49, 64, 81, 100]"
      ]
     },
     "execution_count": 81,
     "metadata": {},
     "output_type": "execute_result"
    }
   ],
   "source": [
    "n=10\n",
    "list_n_Power_2 = [ i**2 for i in range(0,n+1)]\n",
    "list_n_Power_2"
   ]
  },
  {
   "cell_type": "code",
   "execution_count": null,
   "id": "f7770fd4-1db1-437b-b0ef-328903af627f",
   "metadata": {},
   "outputs": [],
   "source": []
  },
  {
   "cell_type": "markdown",
   "id": "1c95f4ce-a1fd-4d1d-a17f-3812fdfc7d0f",
   "metadata": {},
   "source": [
    "46. Find the longest string in a list of strings."
   ]
  },
  {
   "cell_type": "code",
   "execution_count": 86,
   "id": "60e7e610-056f-4d9d-9bf0-ffc78c588589",
   "metadata": {},
   "outputs": [
    {
     "data": {
      "text/plain": [
       "'thereis '"
      ]
     },
     "execution_count": 86,
     "metadata": {},
     "output_type": "execute_result"
    }
   ],
   "source": [
    "list_of_words = ['Hello', 'thereis ', 'how', 'are', 'you', 'all']\n",
    "def longest_string(lis):\n",
    "    length = 0\n",
    "    for i in lis:\n",
    "        if len(i)>length:\n",
    "            longest = i\n",
    "            length = len(i)\n",
    "        else:\n",
    "             continue\n",
    "    return longest\n",
    "longest_string(list_of_words)\n",
    "            "
   ]
  },
  {
   "cell_type": "code",
   "execution_count": null,
   "id": "fc0d914d-32ce-4df9-a80b-dc692a12fec7",
   "metadata": {},
   "outputs": [],
   "source": []
  },
  {
   "cell_type": "markdown",
   "id": "ca57a53d-d53f-4965-ae7e-bfe6611e4f83",
   "metadata": {},
   "source": [
    "47. Find the shortest string in a list of strings."
   ]
  },
  {
   "cell_type": "code",
   "execution_count": 88,
   "id": "2da91eda-45b1-458e-8dad-1042eaec39fd",
   "metadata": {},
   "outputs": [
    {
     "data": {
      "text/plain": [
       "'how'"
      ]
     },
     "execution_count": 88,
     "metadata": {},
     "output_type": "execute_result"
    }
   ],
   "source": [
    "list_of_words = ['Hello', 'thereis ', 'how', 'are', 'you', 'all']\n",
    "def shortest_string(lis):\n",
    "    length = 1000\n",
    "    for i in lis:\n",
    "        if len(i)<length:\n",
    "            shortest = i\n",
    "            length = len(i)\n",
    "        else:\n",
    "             continue\n",
    "    return shortest\n",
    "shortest_string(list_of_words)"
   ]
  },
  {
   "cell_type": "code",
   "execution_count": null,
   "id": "81f717bd-dc0c-4009-befc-df8a21ce86d1",
   "metadata": {},
   "outputs": [],
   "source": []
  },
  {
   "cell_type": "markdown",
   "id": "ae0ecaaa-9245-4611-b6c9-59f3b9275061",
   "metadata": {},
   "source": [
    "48. Create a list of the first `n` triangular numbers."
   ]
  },
  {
   "cell_type": "code",
   "execution_count": 108,
   "id": "9c49f47f-6034-44ee-8249-52848a189637",
   "metadata": {},
   "outputs": [
    {
     "data": {
      "text/plain": [
       "[1, 3, 6, 10, 15, 21, 28]"
      ]
     },
     "execution_count": 108,
     "metadata": {},
     "output_type": "execute_result"
    }
   ],
   "source": [
    "def triangular_number(n):\n",
    "    li =[]\n",
    "    for i in range(1,n+1):\n",
    "        li.append(sum(range(0,i+1)))\n",
    "    return li\n",
    "        \n",
    "triangular_number(7)"
   ]
  },
  {
   "cell_type": "code",
   "execution_count": null,
   "id": "0890e1a6-511c-42c2-99c5-6f891aae6b45",
   "metadata": {},
   "outputs": [],
   "source": []
  },
  {
   "cell_type": "markdown",
   "id": "c3c8edcf-6e18-40f1-a7c5-ce825e9f1b46",
   "metadata": {},
   "source": [
    "49. Check if a list contains another list as a subsequence."
   ]
  },
  {
   "cell_type": "code",
   "execution_count": 114,
   "id": "072c9372-3aca-4ed7-8c8a-bfa93dab6ce7",
   "metadata": {},
   "outputs": [
    {
     "data": {
      "text/plain": [
       "'Yes a list contains another list as subsequence'"
      ]
     },
     "execution_count": 114,
     "metadata": {},
     "output_type": "execute_result"
    }
   ],
   "source": [
    "\n",
    "def check_nested_list(lis):\n",
    "    for i in lis:\n",
    "        if type(i)== list:\n",
    "            return 'Yes a list contains another list as subsequence'\n",
    "        else:\n",
    "            continue\n",
    "        return 'No  a list contains another list as subsequence'\n",
    "        \n",
    "lis=[1,2,3,[2,1,3],4]\n",
    "check_nested_list(lis)\n",
    "        "
   ]
  },
  {
   "cell_type": "code",
   "execution_count": null,
   "id": "bb149cc8-f31b-4c77-809f-28ed8002a748",
   "metadata": {},
   "outputs": [],
   "source": []
  },
  {
   "cell_type": "markdown",
   "id": "30cc71e0-74ca-4895-8881-8864e261ee2b",
   "metadata": {},
   "source": [
    "50. Swap two elements in a list by their indices."
   ]
  },
  {
   "cell_type": "code",
   "execution_count": 117,
   "id": "3fdf0803-55b4-4682-be8c-729a9ee76cc8",
   "metadata": {},
   "outputs": [
    {
     "data": {
      "text/plain": [
       "[5, 1, 3, 4, 2]"
      ]
     },
     "execution_count": 117,
     "metadata": {},
     "output_type": "execute_result"
    }
   ],
   "source": [
    "lis=[1,2,3,4,5]\n",
    "a = 2\n",
    "b = 5\n",
    "index1=0\n",
    "index2=0\n",
    "for i in range(0,len(lis)):\n",
    "    if lis[i] == a :\n",
    "        index1 = i\n",
    "    if lis[i] == b :\n",
    "        index1 = i\n",
    "    c = lis[index1]\n",
    "    lis[index1] = lis[index2]\n",
    "    lis[index2] = c\n",
    "lis"
   ]
  },
  {
   "cell_type": "code",
   "execution_count": null,
   "id": "68b94110-1bc1-4edf-9e3f-4d3d0d8bd55f",
   "metadata": {},
   "outputs": [],
   "source": []
  },
  {
   "cell_type": "code",
   "execution_count": null,
   "id": "8fe4f436-6410-4661-a9dd-cfd8604f3ad2",
   "metadata": {},
   "outputs": [],
   "source": []
  },
  {
   "cell_type": "markdown",
   "id": "8984e12d-de86-4388-b726-22ef57d44073",
   "metadata": {},
   "source": [
    "## Tuple Based Problems"
   ]
  },
  {
   "cell_type": "code",
   "execution_count": null,
   "id": "9be24a75-e1f4-4955-912e-25db5045e6d8",
   "metadata": {},
   "outputs": [],
   "source": []
  },
  {
   "cell_type": "markdown",
   "id": "b29ac095-ce54-44c5-869a-e4f13a945496",
   "metadata": {},
   "source": [
    "1. Create a tuple with integers from 1 to 5."
   ]
  },
  {
   "cell_type": "code",
   "execution_count": 3,
   "id": "54468aaf-25a8-42d1-a59a-ae5723df2558",
   "metadata": {},
   "outputs": [
    {
     "data": {
      "text/plain": [
       "(1, 2, 3, 4, 5)"
      ]
     },
     "execution_count": 3,
     "metadata": {},
     "output_type": "execute_result"
    }
   ],
   "source": [
    "tple = (1,2,3,4,5)\n",
    "tple"
   ]
  },
  {
   "cell_type": "code",
   "execution_count": null,
   "id": "59e76a66-198d-455d-b2ba-ac4e8bd79d2c",
   "metadata": {},
   "outputs": [],
   "source": []
  },
  {
   "cell_type": "markdown",
   "id": "7c9bf33d-3a8e-4efb-b05d-c88d8647b65e",
   "metadata": {},
   "source": [
    "2. Access the third element of a tuple."
   ]
  },
  {
   "cell_type": "code",
   "execution_count": 4,
   "id": "a0253d17-a6b5-4230-aa6b-1b5b74eff147",
   "metadata": {},
   "outputs": [
    {
     "data": {
      "text/plain": [
       "4"
      ]
     },
     "execution_count": 4,
     "metadata": {},
     "output_type": "execute_result"
    }
   ],
   "source": [
    "tple = (1,2,3,4,5)\n",
    "tple[3]"
   ]
  },
  {
   "cell_type": "code",
   "execution_count": null,
   "id": "c7444148-34bb-4bcd-a776-11a182d1d376",
   "metadata": {},
   "outputs": [],
   "source": []
  },
  {
   "cell_type": "markdown",
   "id": "82d1011f-cfa1-4583-a57d-779e51a3f5d7",
   "metadata": {},
   "source": [
    "3. Find the length of a tuple without using the `len()` function."
   ]
  },
  {
   "cell_type": "code",
   "execution_count": 5,
   "id": "72745d38-8b91-4a7a-b841-41b75d0f127f",
   "metadata": {},
   "outputs": [
    {
     "name": "stdout",
     "output_type": "stream",
     "text": [
      "length of tuple is  5\n"
     ]
    }
   ],
   "source": [
    "tple = (1,2,3,4,5)\n",
    "count =0\n",
    "for i in tple:\n",
    "    count= count +1;\n",
    "    \n",
    "print(\"length of tuple is \",count)"
   ]
  },
  {
   "cell_type": "code",
   "execution_count": null,
   "id": "e32b7c91-aabe-44d5-99a3-ea8da503b752",
   "metadata": {},
   "outputs": [],
   "source": []
  },
  {
   "cell_type": "markdown",
   "id": "8f5203c8-543e-4332-a1d1-80a71959937e",
   "metadata": {},
   "source": [
    "4. Count the occurrences of an element in a tuple."
   ]
  },
  {
   "cell_type": "code",
   "execution_count": 8,
   "id": "809387d8-3705-4f2e-b6b5-f81aa7d0c4ab",
   "metadata": {},
   "outputs": [
    {
     "name": "stdout",
     "output_type": "stream",
     "text": [
      "Element occured 2 times\n"
     ]
    }
   ],
   "source": [
    "tple = (1,2,3,3,4,5)\n",
    "element =3\n",
    "occ= tple.count(element)\n",
    "print(f'Element occured {occ} times') "
   ]
  },
  {
   "cell_type": "code",
   "execution_count": null,
   "id": "e98dd479-6699-4a89-a30d-bc5f5b143e23",
   "metadata": {},
   "outputs": [],
   "source": []
  },
  {
   "cell_type": "markdown",
   "id": "468187f1-648e-425c-bdd7-a8ac9a12575d",
   "metadata": {},
   "source": [
    "5. Find the index of the first occurrence of an element in a tuple."
   ]
  },
  {
   "cell_type": "code",
   "execution_count": 10,
   "id": "a0e50e86-c7c2-42f7-9751-de61f0973d0d",
   "metadata": {},
   "outputs": [
    {
     "name": "stdout",
     "output_type": "stream",
     "text": [
      "Element occured at index 2 \n"
     ]
    }
   ],
   "source": [
    "tple = (1,2,3,3,4,5)\n",
    "element =3\n",
    "index= tple.index(element)\n",
    "print(f'Element occured at index {index} ') "
   ]
  },
  {
   "cell_type": "markdown",
   "id": "2f1f6e2c-1505-4ce2-9505-d4366b86334b",
   "metadata": {},
   "source": [
    "6. Check if an element exists in a tuple."
   ]
  },
  {
   "cell_type": "code",
   "execution_count": 12,
   "id": "4a161e9b-1e19-4e5d-9694-db75ee5815fa",
   "metadata": {},
   "outputs": [
    {
     "data": {
      "text/plain": [
       "'Element does not exist'"
      ]
     },
     "execution_count": 12,
     "metadata": {},
     "output_type": "execute_result"
    }
   ],
   "source": [
    "tple = (1,2,3,3,4,5)\n",
    "def elem_exist(tple,elem):\n",
    "    li= list(tple)\n",
    "    if elem in li:\n",
    "        return 'Element exist'\n",
    "    else:\n",
    "        return 'Element does not exist'\n",
    "elem_exist(tple,6)\n",
    "    "
   ]
  },
  {
   "cell_type": "code",
   "execution_count": null,
   "id": "6cfedf25-4af7-4891-9815-f28b26c33f9c",
   "metadata": {},
   "outputs": [],
   "source": []
  },
  {
   "cell_type": "markdown",
   "id": "8066263d-4407-4eb4-af9e-3e2c81c07d81",
   "metadata": {},
   "source": [
    "7. Convert a tuple to a list."
   ]
  },
  {
   "cell_type": "code",
   "execution_count": 13,
   "id": "2a237632-0636-4bb5-a57e-3a86801f4997",
   "metadata": {},
   "outputs": [
    {
     "data": {
      "text/plain": [
       "[1, 2, 3, 3, 4, 5]"
      ]
     },
     "execution_count": 13,
     "metadata": {},
     "output_type": "execute_result"
    }
   ],
   "source": [
    "tple = (1,2,3,3,4,5)\n",
    "li= list(tple)\n",
    "li"
   ]
  },
  {
   "cell_type": "code",
   "execution_count": null,
   "id": "3ac71651-6b53-432b-ada8-59de744c0473",
   "metadata": {},
   "outputs": [],
   "source": []
  },
  {
   "cell_type": "markdown",
   "id": "74745251-3473-459a-a361-c73294fba7ce",
   "metadata": {},
   "source": [
    "8. Convert a list to a tuple."
   ]
  },
  {
   "cell_type": "code",
   "execution_count": 15,
   "id": "6e4a7e22-7e19-44dc-967a-ef62951df305",
   "metadata": {},
   "outputs": [
    {
     "data": {
      "text/plain": [
       "(1, 2, 3, 3, 4, 5)"
      ]
     },
     "execution_count": 15,
     "metadata": {},
     "output_type": "execute_result"
    }
   ],
   "source": [
    "li = [1, 2, 3, 3, 4, 5]\n",
    "tple = tuple(li)\n",
    "tple"
   ]
  },
  {
   "cell_type": "code",
   "execution_count": null,
   "id": "6eecf4f1-7a40-4044-a0bc-8fe06c265f0b",
   "metadata": {},
   "outputs": [],
   "source": []
  },
  {
   "cell_type": "markdown",
   "id": "fde449ae-3cd6-4f80-be09-b15e2440811b",
   "metadata": {},
   "source": [
    "9. Unpack the elements of a tuple into variables."
   ]
  },
  {
   "cell_type": "code",
   "execution_count": 17,
   "id": "93c5ffaf-961d-4134-ad18-4ce068e4958d",
   "metadata": {},
   "outputs": [
    {
     "name": "stdout",
     "output_type": "stream",
     "text": [
      "1 2 3 4\n"
     ]
    }
   ],
   "source": [
    "a,b,c,d = (1,2,3,4)\n",
    "print(a,b,c,d)"
   ]
  },
  {
   "cell_type": "code",
   "execution_count": null,
   "id": "3530fa05-913e-4108-9881-77bc90ca4223",
   "metadata": {},
   "outputs": [],
   "source": []
  },
  {
   "cell_type": "markdown",
   "id": "b34eb527-0d4d-4685-ae4d-82649a6fb8c5",
   "metadata": {},
   "source": [
    "10. Create a tuple of even numbers from 1 to 10."
   ]
  },
  {
   "cell_type": "code",
   "execution_count": 20,
   "id": "3e3dd090-1b2a-40cb-87f4-9234382a1e85",
   "metadata": {},
   "outputs": [
    {
     "data": {
      "text/plain": [
       "(2, 4, 6, 8, 10)"
      ]
     },
     "execution_count": 20,
     "metadata": {},
     "output_type": "execute_result"
    }
   ],
   "source": [
    "def create_tuple_even(n):\n",
    "    li =[]\n",
    "    for i in range(1,n+1):\n",
    "        if i%2==0:\n",
    "            li.append(i)\n",
    "        else:\n",
    "            continue\n",
    "    return tuple(li)\n",
    "create_tuple_even(10)\n",
    "        "
   ]
  },
  {
   "cell_type": "code",
   "execution_count": null,
   "id": "bad049fb-4005-48e1-ae75-cbeae2966d03",
   "metadata": {},
   "outputs": [],
   "source": []
  },
  {
   "cell_type": "markdown",
   "id": "ea1f7cf6-c31b-46ed-bf5f-ebe9c04a09b8",
   "metadata": {},
   "source": [
    "11. Create a tuple of odd numbers from 1 to 10."
   ]
  },
  {
   "cell_type": "code",
   "execution_count": 21,
   "id": "db9aab8a-30b0-4f55-a1ce-1a5e482932f5",
   "metadata": {},
   "outputs": [
    {
     "data": {
      "text/plain": [
       "(1, 3, 5, 7, 9)"
      ]
     },
     "execution_count": 21,
     "metadata": {},
     "output_type": "execute_result"
    }
   ],
   "source": [
    "def create_tuple_odd(n):\n",
    "    li =[]\n",
    "    for i in range(1,n+1):\n",
    "        if i%2!=0:\n",
    "            li.append(i)\n",
    "        else:\n",
    "            continue\n",
    "    return tuple(li)\n",
    "create_tuple_odd(10)"
   ]
  },
  {
   "cell_type": "code",
   "execution_count": null,
   "id": "c68e2392-9d76-4003-972b-7b19a74f6832",
   "metadata": {},
   "outputs": [],
   "source": []
  },
  {
   "cell_type": "markdown",
   "id": "dc042b04-c084-405c-a999-650a09b451ff",
   "metadata": {},
   "source": [
    "12. Concatenate two tuples."
   ]
  },
  {
   "cell_type": "code",
   "execution_count": 26,
   "id": "f36d1cb8-2af4-4354-a786-e75b643f49b4",
   "metadata": {},
   "outputs": [
    {
     "name": "stdout",
     "output_type": "stream",
     "text": [
      " Concatenation of two tuple is : [1, 2, 3, 4, 5, 6, 7, 8, 9, 10]\n"
     ]
    }
   ],
   "source": [
    "tple3 = [6,7,8,9,10]\n",
    "tple =[1,2,3,4,5]\n",
    "concat_tple = tple+tple3\n",
    "print(f' Concatenation of two tuple is : {concat_tple}')"
   ]
  },
  {
   "cell_type": "code",
   "execution_count": null,
   "id": "88479616-29bb-43ba-9971-21efc125894d",
   "metadata": {},
   "outputs": [],
   "source": []
  },
  {
   "cell_type": "markdown",
   "id": "280998a3-0838-42b1-9c7f-0102068329e1",
   "metadata": {},
   "source": [
    "13. Repeat a tuple three times."
   ]
  },
  {
   "cell_type": "code",
   "execution_count": 28,
   "id": "66b9411f-f861-4498-a434-d210248d4405",
   "metadata": {},
   "outputs": [
    {
     "data": {
      "text/plain": [
       "[1, 2, 3, 4, 5, 1, 2, 3, 4, 5, 1, 2, 3, 4, 5]"
      ]
     },
     "execution_count": 28,
     "metadata": {},
     "output_type": "execute_result"
    }
   ],
   "source": [
    "tple = [1,2,3,4,5]\n",
    "new_tple = tple*3\n",
    "new_tple"
   ]
  },
  {
   "cell_type": "code",
   "execution_count": null,
   "id": "a6870558-9d97-4eff-9cae-8e20fad24a32",
   "metadata": {},
   "outputs": [],
   "source": []
  },
  {
   "cell_type": "markdown",
   "id": "186dc659-f3b1-417a-bf6c-683eb6f0e42a",
   "metadata": {},
   "source": [
    "14. Check if a tuple is empty."
   ]
  },
  {
   "cell_type": "code",
   "execution_count": 36,
   "id": "86a05085-8a12-4f2b-962a-c2860a2c61d5",
   "metadata": {},
   "outputs": [
    {
     "data": {
      "text/plain": [
       "'Tuple is empty'"
      ]
     },
     "execution_count": 36,
     "metadata": {},
     "output_type": "execute_result"
    }
   ],
   "source": [
    "def is_empty(tple):\n",
    "    if tple == ():\n",
    "        return 'Tuple is empty'\n",
    "    else:\n",
    "        return 'Tuple is not empty'\n",
    "tple =(1,2,3)\n",
    "tple1 =()\n",
    "is_empty(tple1)"
   ]
  },
  {
   "cell_type": "code",
   "execution_count": null,
   "id": "6c48e6cc-63b1-48e1-a43e-858c51097fc1",
   "metadata": {},
   "outputs": [],
   "source": []
  },
  {
   "cell_type": "markdown",
   "id": "03460a53-a5d4-4a27-be3c-35a8046aa996",
   "metadata": {},
   "source": [
    "15. Create a nested tuple."
   ]
  },
  {
   "cell_type": "code",
   "execution_count": 40,
   "id": "4348aa45-cf17-4fb2-9c5c-655fe4b0cd1d",
   "metadata": {},
   "outputs": [
    {
     "data": {
      "text/plain": [
       "((1, 2, 3, 4), (2, 3, 4), (5, 6, 7))"
      ]
     },
     "execution_count": 40,
     "metadata": {},
     "output_type": "execute_result"
    }
   ],
   "source": [
    "tple_1 = ((1,2,3,4),(2,3,4),(5,6,7))\n",
    "tple_1"
   ]
  },
  {
   "cell_type": "code",
   "execution_count": null,
   "id": "bf95a0c2-3e91-4dc4-a3b3-7632d6fa738a",
   "metadata": {},
   "outputs": [],
   "source": []
  },
  {
   "cell_type": "markdown",
   "id": "a531401e-6cca-4426-bf88-a97dab5cfeef",
   "metadata": {},
   "source": [
    "16. Access the first element of a nested tuple."
   ]
  },
  {
   "cell_type": "code",
   "execution_count": 44,
   "id": "c460f3c2-d131-4f9a-8a04-ee6e01a5b13b",
   "metadata": {},
   "outputs": [
    {
     "data": {
      "text/plain": [
       "1"
      ]
     },
     "execution_count": 44,
     "metadata": {},
     "output_type": "execute_result"
    }
   ],
   "source": [
    "tple_1[0][0]"
   ]
  },
  {
   "cell_type": "code",
   "execution_count": null,
   "id": "6c477a51-8a9f-406e-ac63-819741c0e665",
   "metadata": {},
   "outputs": [],
   "source": []
  },
  {
   "cell_type": "markdown",
   "id": "ba388d37-4178-4178-ae01-ddac9b35174c",
   "metadata": {},
   "source": [
    "17. Create a tuple with a single element."
   ]
  },
  {
   "cell_type": "code",
   "execution_count": 52,
   "id": "c26d6c32-84ca-41fc-9767-7ec4bdbad61c",
   "metadata": {},
   "outputs": [
    {
     "data": {
      "text/plain": [
       "tuple"
      ]
     },
     "execution_count": 52,
     "metadata": {},
     "output_type": "execute_result"
    }
   ],
   "source": [
    "new_tple = (3,)\n",
    "type(new_tple)"
   ]
  },
  {
   "cell_type": "code",
   "execution_count": null,
   "id": "de1adcd2-ac96-4732-9b0b-7462f7fa37f5",
   "metadata": {},
   "outputs": [],
   "source": []
  },
  {
   "cell_type": "markdown",
   "id": "43afe2b5-63a2-4f00-aafe-45c2a4f9d7ad",
   "metadata": {},
   "source": [
    "18. Compare two tuples."
   ]
  },
  {
   "cell_type": "code",
   "execution_count": 55,
   "id": "da3b4f4b-91c4-4c65-a8e2-f61dfc280391",
   "metadata": {},
   "outputs": [
    {
     "name": "stdout",
     "output_type": "stream",
     "text": [
      " tple1 = tple2 False\n",
      " tple1 != tple2 True\n",
      " tple1 >= tple2 False\n",
      " tple1 <= tple2 True\n",
      " len(tple1) = len(tple2) True\n"
     ]
    }
   ],
   "source": [
    "tple1 = [1,2,3,45]\n",
    "tple2 = [1,2,4,56]\n",
    "\n",
    "print(f' tple1 = tple2 {tple1 == tple2}')\n",
    "print(f' tple1 != tple2 {tple1 != tple2}')\n",
    "print(f' tple1 >= tple2 {tple1 >= tple2}')\n",
    "print(f' tple1 <= tple2 {tple1 <= tple2}')\n",
    "print(f' len(tple1) = len(tple2) {len(tple1) == len(tple2)}')"
   ]
  },
  {
   "cell_type": "code",
   "execution_count": null,
   "id": "1cac60ef-d401-4e5d-b010-3024894e016d",
   "metadata": {},
   "outputs": [],
   "source": []
  },
  {
   "cell_type": "markdown",
   "id": "71b33530-5339-474e-ad42-3bb8df6e32f9",
   "metadata": {},
   "source": [
    "19. Delete a tuple."
   ]
  },
  {
   "cell_type": "code",
   "execution_count": 64,
   "id": "9c17a287-5d4c-4d2c-8bf2-297ec1bc1c9c",
   "metadata": {},
   "outputs": [],
   "source": [
    "tple = (1,2,3,4)\n",
    "del tple\n",
    "tple"
   ]
  },
  {
   "cell_type": "code",
   "execution_count": null,
   "id": "32223a92-5e63-4ca3-802b-c519bc694c53",
   "metadata": {},
   "outputs": [],
   "source": []
  },
  {
   "cell_type": "markdown",
   "id": "e4fbcca4-a690-414f-a776-fdb97d1b309a",
   "metadata": {},
   "source": [
    "20. Slice a tuple."
   ]
  },
  {
   "cell_type": "code",
   "execution_count": 65,
   "id": "c2cbbcb9-a477-42af-940c-968ae58cfd82",
   "metadata": {},
   "outputs": [
    {
     "data": {
      "text/plain": [
       "(2, 3, 4)"
      ]
     },
     "execution_count": 65,
     "metadata": {},
     "output_type": "execute_result"
    }
   ],
   "source": [
    "tple = (1,2,3,4)\n",
    "tple[1:4]"
   ]
  },
  {
   "cell_type": "code",
   "execution_count": null,
   "id": "7b2ed5ea-e1a1-4485-89d3-9a6f683aabe6",
   "metadata": {},
   "outputs": [],
   "source": []
  },
  {
   "cell_type": "markdown",
   "id": "064322c9-e37d-4a93-a320-8ab1fda101e0",
   "metadata": {},
   "source": [
    "21. Find the maximum value in a tuple."
   ]
  },
  {
   "cell_type": "code",
   "execution_count": 66,
   "id": "04e413b8-675e-4d3d-a4e6-0a0fa5d30d7b",
   "metadata": {},
   "outputs": [
    {
     "data": {
      "text/plain": [
       "90"
      ]
     },
     "execution_count": 66,
     "metadata": {},
     "output_type": "execute_result"
    }
   ],
   "source": [
    "tple = [1,2,32,43,54,67,55,90]\n",
    "max(tple)"
   ]
  },
  {
   "cell_type": "code",
   "execution_count": null,
   "id": "23d4d9b9-a427-4258-8b48-1481a32daaea",
   "metadata": {},
   "outputs": [],
   "source": []
  },
  {
   "cell_type": "markdown",
   "id": "f634f25f-f428-4393-a625-d71d028b9825",
   "metadata": {},
   "source": [
    "22. Find the minimum value in a tuple."
   ]
  },
  {
   "cell_type": "code",
   "execution_count": 67,
   "id": "ad3827a6-ee60-49e8-8c6e-cb1edc075db1",
   "metadata": {},
   "outputs": [
    {
     "data": {
      "text/plain": [
       "1"
      ]
     },
     "execution_count": 67,
     "metadata": {},
     "output_type": "execute_result"
    }
   ],
   "source": [
    "tple = [1,2,32,43,54,67,55,90]\n",
    "min(tple)"
   ]
  },
  {
   "cell_type": "code",
   "execution_count": null,
   "id": "587212b7-f008-4b13-ae73-1c16402b363d",
   "metadata": {},
   "outputs": [],
   "source": []
  },
  {
   "cell_type": "markdown",
   "id": "7725daca-e6bc-4077-a5aa-9cdaa5ded69b",
   "metadata": {},
   "source": [
    "23. Convert a string to a tuple of characters."
   ]
  },
  {
   "cell_type": "code",
   "execution_count": 68,
   "id": "2aa4aadc-d1bc-4f81-8939-8abdc4e763c7",
   "metadata": {},
   "outputs": [
    {
     "data": {
      "text/plain": [
       "('H',\n",
       " 'e',\n",
       " 'l',\n",
       " 'l',\n",
       " 'o',\n",
       " ' ',\n",
       " 'w',\n",
       " 'o',\n",
       " 'r',\n",
       " 'l',\n",
       " 'd',\n",
       " ' ',\n",
       " 'h',\n",
       " 'o',\n",
       " 'w',\n",
       " ' ',\n",
       " 'a',\n",
       " 'r',\n",
       " 'e',\n",
       " ' ',\n",
       " 'y',\n",
       " 'o',\n",
       " 'u')"
      ]
     },
     "execution_count": 68,
     "metadata": {},
     "output_type": "execute_result"
    }
   ],
   "source": [
    "string = 'Hello world how are you'\n",
    "tple = tuple(string)\n",
    "tple"
   ]
  },
  {
   "cell_type": "code",
   "execution_count": null,
   "id": "3135bffa-7da8-406f-b24b-015f75727aee",
   "metadata": {},
   "outputs": [],
   "source": []
  },
  {
   "cell_type": "markdown",
   "id": "f9d91a06-4bd5-40b0-9d45-ff001bae2f9f",
   "metadata": {},
   "source": [
    "24. Convert a tuple of characters to a string."
   ]
  },
  {
   "cell_type": "code",
   "execution_count": 70,
   "id": "315aa76b-14b3-4a30-98b4-a15eefeb1c62",
   "metadata": {},
   "outputs": [
    {
     "data": {
      "text/plain": [
       "'Hello world how are you'"
      ]
     },
     "execution_count": 70,
     "metadata": {},
     "output_type": "execute_result"
    }
   ],
   "source": [
    "tple = ('H',\n",
    " 'e',\n",
    " 'l',\n",
    " 'l',\n",
    " 'o',\n",
    " ' ',\n",
    " 'w',\n",
    " 'o',\n",
    " 'r',\n",
    " 'l',\n",
    " 'd',\n",
    " ' ',\n",
    " 'h',\n",
    " 'o',\n",
    " 'w',\n",
    " ' ',\n",
    " 'a',\n",
    " 'r',\n",
    " 'e',\n",
    " ' ',\n",
    " 'y',\n",
    " 'o',\n",
    " 'u')\n",
    "\n",
    "string = ''.join(tple)\n",
    "string"
   ]
  },
  {
   "cell_type": "code",
   "execution_count": null,
   "id": "e6b7b892-00e4-4ba2-9257-b16968440e8b",
   "metadata": {},
   "outputs": [],
   "source": []
  },
  {
   "cell_type": "markdown",
   "id": "be8c7a36-dc1d-41cc-95ee-e622a74c6214",
   "metadata": {},
   "source": [
    "25. Create a tuple from multiple data types."
   ]
  },
  {
   "cell_type": "code",
   "execution_count": 72,
   "id": "6d6a6b94-0bb5-4a6d-98df-19c7b403b87f",
   "metadata": {},
   "outputs": [
    {
     "name": "stdout",
     "output_type": "stream",
     "text": [
      "Tuple from a list is  (1, 2, 3, 4, 5)\n",
      "Tuple from a set is  (1, 2, 3, 4)\n",
      "Tuple from a string is  ('Hello', 'world')\n"
     ]
    }
   ],
   "source": [
    "lis = [1,2,3,4,5]\n",
    "sets = {1,2,3,4}\n",
    "string = 'Hello world'\n",
    " \n",
    "lis_tple = tuple(lis)\n",
    "print('Tuple from a list is ',lis_tple)\n",
    "sets_tple = tuple(sets)\n",
    "print('Tuple from a set is ',sets_tple)\n",
    "string_tple = tuple(string.split())\n",
    "print('Tuple from a string is ', string_tple)\n"
   ]
  },
  {
   "cell_type": "code",
   "execution_count": null,
   "id": "96720acb-5d98-44cd-a4cf-588ec594cc14",
   "metadata": {},
   "outputs": [],
   "source": []
  },
  {
   "cell_type": "markdown",
   "id": "516b9511-786d-4ab9-b074-54019f7d970f",
   "metadata": {},
   "source": [
    "26. Check if two tuples are identical."
   ]
  },
  {
   "cell_type": "code",
   "execution_count": 5,
   "id": "a4ebd55e-c139-4757-9889-a182dce38bac",
   "metadata": {},
   "outputs": [
    {
     "data": {
      "text/plain": [
       "'Not identical'"
      ]
     },
     "execution_count": 5,
     "metadata": {},
     "output_type": "execute_result"
    }
   ],
   "source": [
    "tple1 = (1,2,3,4,5)\n",
    "tple2 = (2,3,4,5,6)\n",
    "tple3 = (1,2,3,4,5)\n",
    "def is_identical(tple1,tple2):\n",
    "    if tple1==tple2:\n",
    "        return 'Tuples are identical'\n",
    "    else:\n",
    "        return 'Not identical'\n",
    "is_identical(tple1,tple2)"
   ]
  },
  {
   "cell_type": "code",
   "execution_count": null,
   "id": "275b6297-0da0-4fa9-abf4-38de09df6fa9",
   "metadata": {},
   "outputs": [],
   "source": []
  },
  {
   "cell_type": "markdown",
   "id": "85b22223-f10b-479b-a269-6f829d27534b",
   "metadata": {},
   "source": [
    "27. Sort the elements of a tuple."
   ]
  },
  {
   "cell_type": "code",
   "execution_count": 8,
   "id": "6148d475-70f3-4e75-bd32-69297d0138d9",
   "metadata": {},
   "outputs": [
    {
     "data": {
      "text/plain": [
       "(0, 1, 1, 2, 2, 3, 4, 32)"
      ]
     },
     "execution_count": 8,
     "metadata": {},
     "output_type": "execute_result"
    }
   ],
   "source": [
    "tple1 = (1,32,3,2,4,2,1,0)\n",
    "def sort_tuple(tple):\n",
    "    tple =list(tple)\n",
    "    tple.sort()\n",
    "    tple = tuple(tple)\n",
    "    return tple\n",
    "sort_tuple(tple1)"
   ]
  },
  {
   "cell_type": "code",
   "execution_count": null,
   "id": "c5aafed6-4699-4eb8-9037-548df6f3198f",
   "metadata": {},
   "outputs": [],
   "source": []
  },
  {
   "cell_type": "markdown",
   "id": "ec791da8-e837-4146-a5fd-1de5e7a60574",
   "metadata": {},
   "source": [
    "28. Convert a tuple of integers to a tuple of strings."
   ]
  },
  {
   "cell_type": "code",
   "execution_count": 24,
   "id": "9252f515-c35f-49da-b404-a442712bc28c",
   "metadata": {},
   "outputs": [
    {
     "data": {
      "text/plain": [
       "('1', '2', '3', '4', '5')"
      ]
     },
     "execution_count": 24,
     "metadata": {},
     "output_type": "execute_result"
    }
   ],
   "source": [
    "tuple_of_int = (1,2,3,4,5)\n",
    "\n",
    "tuple_of_string = tuple((str(i) for i in tuple_of_int))\n",
    "tuple_of_string\n"
   ]
  },
  {
   "cell_type": "code",
   "execution_count": null,
   "id": "d4defc74-a848-4092-a797-0fda390a3895",
   "metadata": {},
   "outputs": [],
   "source": []
  },
  {
   "cell_type": "markdown",
   "id": "c1495eab-412b-4db7-abcf-f4fed02f2ed1",
   "metadata": {},
   "source": [
    "29. Convert a tuple of strings to a tuple of integers."
   ]
  },
  {
   "cell_type": "code",
   "execution_count": 25,
   "id": "8725e91f-8565-4591-adf2-22e971a239f1",
   "metadata": {},
   "outputs": [
    {
     "data": {
      "text/plain": [
       "(1, 2, 3, 4, 5)"
      ]
     },
     "execution_count": 25,
     "metadata": {},
     "output_type": "execute_result"
    }
   ],
   "source": [
    "tuple_of_string = ('1', '2', '3', '4', '5')\n",
    "\n",
    "tuple_of_int = tuple((int(i) for i in tuple_of_int))\n",
    "tuple_of_int"
   ]
  },
  {
   "cell_type": "code",
   "execution_count": null,
   "id": "58a63388-4c6c-4ed0-9dbb-1b145ac09641",
   "metadata": {},
   "outputs": [],
   "source": []
  },
  {
   "cell_type": "markdown",
   "id": "16f87f6a-5841-4172-a778-9ce73fe09b45",
   "metadata": {},
   "source": [
    "30. Merge two tuples."
   ]
  },
  {
   "cell_type": "code",
   "execution_count": 27,
   "id": "bcdaee9d-b15b-4c4d-af4e-b19dad56897c",
   "metadata": {},
   "outputs": [
    {
     "name": "stdout",
     "output_type": "stream",
     "text": [
      "Merged tple1 & tple2 : (1, 32, 3, 2, 4, 2, 1, 0, 6, 7, 8, 9)\n"
     ]
    }
   ],
   "source": [
    "tple2 = (1,2,3,4,5)\n",
    "tple2 = (6,7,8,9)\n",
    "print(f'Merged tple1 & tple2 : {tple1+tple2}')"
   ]
  },
  {
   "cell_type": "code",
   "execution_count": null,
   "id": "5d97cda5-15bf-40f1-a44c-7e1227738b04",
   "metadata": {},
   "outputs": [],
   "source": []
  },
  {
   "cell_type": "markdown",
   "id": "89e47e14-20a7-4e50-9c75-1865837617f0",
   "metadata": {},
   "source": [
    "31. Flatten a nested tuple."
   ]
  },
  {
   "cell_type": "code",
   "execution_count": 32,
   "id": "95c094e6-08b5-436a-bf24-33ba081eb671",
   "metadata": {},
   "outputs": [
    {
     "data": {
      "text/plain": [
       "(1, 2, 3, 4, 5, 6, 7, 8, 9)"
      ]
     },
     "execution_count": 32,
     "metadata": {},
     "output_type": "execute_result"
    }
   ],
   "source": [
    "def flatten_tuple(tple):\n",
    "    lis = []\n",
    "    for i in tple:\n",
    "        li = list(i)\n",
    "        for item in li:\n",
    "            lis.append(item)\n",
    "    return tuple(lis)\n",
    "tple1 = ((1,2,3),(4,5,6),(7,8,9))\n",
    "flatten_tuple(tple1)\n",
    "            "
   ]
  },
  {
   "cell_type": "code",
   "execution_count": null,
   "id": "ab53b99e-3aa7-4f39-bb8e-ab1d62ca903e",
   "metadata": {},
   "outputs": [],
   "source": []
  },
  {
   "cell_type": "markdown",
   "id": "873ddfcb-f2ea-4a9e-ab25-1659ae3befbc",
   "metadata": {},
   "source": [
    "32. Create a tuple of the first 5 prime numbers."
   ]
  },
  {
   "cell_type": "code",
   "execution_count": 40,
   "id": "882d7500-d3f0-430c-b136-1df7a50bcd8f",
   "metadata": {},
   "outputs": [
    {
     "data": {
      "text/plain": [
       "(0, 1, 2, 3, 5, 7, 11, 13, 17, 19)"
      ]
     },
     "execution_count": 40,
     "metadata": {},
     "output_type": "execute_result"
    }
   ],
   "source": [
    "def prime_no(n):\n",
    "    li = []\n",
    "    for i in range(0,n+1):\n",
    "        if i == 0 or i==1 or i==2:\n",
    "            li.append(i)\n",
    "            continue\n",
    "        for j in range(2,i):\n",
    "            if i%j!= 0:\n",
    "                continue\n",
    "            else:\n",
    "                break\n",
    "        if j == i-1:\n",
    "            li.append(i)\n",
    "    return tuple(li)\n",
    "\n",
    "prime_no(20)\n",
    "        \n",
    "            \n",
    "            "
   ]
  },
  {
   "cell_type": "code",
   "execution_count": null,
   "id": "3576802b-c44b-48de-acc1-7a92cac342d2",
   "metadata": {},
   "outputs": [],
   "source": []
  },
  {
   "cell_type": "markdown",
   "id": "9a864d80-bc0f-4f2a-a38e-f157edcf14af",
   "metadata": {},
   "source": [
    "33. Check if a tuple is a palindrome."
   ]
  },
  {
   "cell_type": "code",
   "execution_count": 47,
   "id": "84491ba1-7e4f-4be2-82e9-71246d894de9",
   "metadata": {},
   "outputs": [
    {
     "name": "stdout",
     "output_type": "stream",
     "text": [
      "Yes given tuple is a palindrone\n"
     ]
    }
   ],
   "source": [
    "tple1 = (1,2,3,4,3,2,1)\n",
    "rev_tple  = tple1[::-1]\n",
    "if rev_tple == tple1:\n",
    "    print('Yes given tuple is a palindrone')\n",
    "else:\n",
    "    print('No given tuple is not a palindrone')"
   ]
  },
  {
   "cell_type": "code",
   "execution_count": null,
   "id": "89449d26-ef3e-464b-95ba-d5cd4f537284",
   "metadata": {},
   "outputs": [],
   "source": []
  },
  {
   "cell_type": "markdown",
   "id": "75b04f24-2df7-4ed5-b0dc-3e1dd99f547e",
   "metadata": {},
   "source": [
    "34. Create a tuple of squares of numbers from 1 to 5."
   ]
  },
  {
   "cell_type": "code",
   "execution_count": 49,
   "id": "9ad60dc1-8905-49d7-88ae-127077ac759c",
   "metadata": {},
   "outputs": [
    {
     "data": {
      "text/plain": [
       "(1, 4, 9, 16, 25)"
      ]
     },
     "execution_count": 49,
     "metadata": {},
     "output_type": "execute_result"
    }
   ],
   "source": [
    "tple1 = ( i for i in range(1,6))\n",
    "\n",
    "tple = tuple(map(lambda x : x**2,tple1))\n",
    "tple"
   ]
  },
  {
   "cell_type": "markdown",
   "id": "b0cb72b9-6c95-4a10-bfa4-635ff1e97673",
   "metadata": {},
   "source": [
    "35. Filter out all even numbers from a tuple."
   ]
  },
  {
   "cell_type": "code",
   "execution_count": 51,
   "id": "0cb35073-c013-4438-99ea-09977dae4a0b",
   "metadata": {},
   "outputs": [
    {
     "data": {
      "text/plain": [
       "(2, 4, 6, 8, 10, 12, 14, 16, 18)"
      ]
     },
     "execution_count": 51,
     "metadata": {},
     "output_type": "execute_result"
    }
   ],
   "source": [
    "tple = ( i for i in range(1,20))\n",
    "even_no = tuple(filter(lambda x: x%2==0,tple))\n",
    "even_no"
   ]
  },
  {
   "cell_type": "code",
   "execution_count": null,
   "id": "17dc0f0b-1b7a-49f3-900c-e2c253e7dbc7",
   "metadata": {},
   "outputs": [],
   "source": []
  },
  {
   "cell_type": "markdown",
   "id": "113c4a86-c545-4745-8869-06a5746b030f",
   "metadata": {},
   "source": [
    "36. Multiply all elements in a tuple by 2."
   ]
  },
  {
   "cell_type": "code",
   "execution_count": 52,
   "id": "6918237f-13e9-494b-872e-ab41ab31910d",
   "metadata": {},
   "outputs": [
    {
     "data": {
      "text/plain": [
       "(2, 4, 6, 8, 10)"
      ]
     },
     "execution_count": 52,
     "metadata": {},
     "output_type": "execute_result"
    }
   ],
   "source": [
    "tple1 = ( i for i in range(1,6))\n",
    "\n",
    "tple = tuple(map(lambda x : x*2,tple1))\n",
    "tple"
   ]
  },
  {
   "cell_type": "code",
   "execution_count": null,
   "id": "6bcf5b3c-5cbe-4dbc-b7ea-51337c28ec24",
   "metadata": {},
   "outputs": [],
   "source": []
  },
  {
   "cell_type": "markdown",
   "id": "c3ab1058-db90-4c93-8b16-d9fcbffd3e6d",
   "metadata": {},
   "source": [
    "37. Create a tuple of random numbers."
   ]
  },
  {
   "cell_type": "code",
   "execution_count": 56,
   "id": "5d3f1e4e-495d-4d0e-91cd-7fbbeee540b2",
   "metadata": {},
   "outputs": [
    {
     "data": {
      "text/plain": [
       "(0.8884014610997081,\n",
       " 0.12901060349672144,\n",
       " 0.3448615675334984,\n",
       " 0.13103182706539718,\n",
       " 0.5722423902740631)"
      ]
     },
     "execution_count": 56,
     "metadata": {},
     "output_type": "execute_result"
    }
   ],
   "source": [
    "import random \n",
    "def random_tple(n):\n",
    "    li = []\n",
    "    for i in range(0,n):\n",
    "        li.append(random.random())\n",
    "    return tuple(li)\n",
    "random_tple(5)"
   ]
  },
  {
   "cell_type": "code",
   "execution_count": null,
   "id": "2e62f713-8b89-4eb6-8da9-a6ecdc2fcfc5",
   "metadata": {},
   "outputs": [],
   "source": []
  },
  {
   "cell_type": "markdown",
   "id": "70ab759e-b067-4fe9-8303-79bcf823dd6a",
   "metadata": {},
   "source": [
    "38. Check if a tuple is sorted."
   ]
  },
  {
   "cell_type": "code",
   "execution_count": 66,
   "id": "24c37251-baec-4755-adb5-a1fdac0d7970",
   "metadata": {},
   "outputs": [
    {
     "data": {
      "text/plain": [
       "'Tuple is sorted'"
      ]
     },
     "execution_count": 66,
     "metadata": {},
     "output_type": "execute_result"
    }
   ],
   "source": [
    "tple2 = (1,2,3,8,5)\n",
    "tple1 = (9,8,7,6)\n",
    "def is_sorted(tple):\n",
    "    for i in range(0,len(tple)-1):\n",
    "        if i == 0:\n",
    "            continue\n",
    "        elif tple[i-1]<tple[i]<tple[i+1]:\n",
    "             continue\n",
    "        elif  tple[i-1]>tple[i]>tple[i+1]:\n",
    "            continue\n",
    "        else:\n",
    "            return 'Tuple is not sorted'\n",
    "    return 'Tuple is sorted'\n",
    "is_sorted(tple1)\n",
    "            "
   ]
  },
  {
   "cell_type": "code",
   "execution_count": null,
   "id": "4488bcac-732f-4263-a15b-f19b97a6690d",
   "metadata": {},
   "outputs": [],
   "source": []
  },
  {
   "cell_type": "markdown",
   "id": "71908d17-a823-4d9b-9fab-f348a76c57f9",
   "metadata": {},
   "source": [
    "39. Rotate a tuple to the left by `n` positions."
   ]
  },
  {
   "cell_type": "code",
   "execution_count": 1,
   "id": "1083b0f8-2fac-4bcb-a759-d814523ab70d",
   "metadata": {},
   "outputs": [
    {
     "data": {
      "text/plain": [
       "[4, 5, 6, 1, 2, 3]"
      ]
     },
     "execution_count": 1,
     "metadata": {},
     "output_type": "execute_result"
    }
   ],
   "source": [
    "tple =  [1,2,3,4,5,6]\n",
    "def rotate_tuple(tple,n):\n",
    "     return tple[n:] + tple[:n]\n",
    "rotate_tuple(tple,3)"
   ]
  },
  {
   "cell_type": "code",
   "execution_count": null,
   "id": "1badbecc-45fa-46dc-8148-09841d7ac9b7",
   "metadata": {},
   "outputs": [],
   "source": []
  },
  {
   "cell_type": "markdown",
   "id": "08d02829-dc52-461b-9645-b5f63f62dff4",
   "metadata": {},
   "source": [
    "40. Rotate a tuple to the right by `n` positions."
   ]
  },
  {
   "cell_type": "code",
   "execution_count": 3,
   "id": "c0a185d9-6231-48fa-ae90-53e129a3c652",
   "metadata": {},
   "outputs": [
    {
     "data": {
      "text/plain": [
       "[4, 5, 6, 4, 5, 6]"
      ]
     },
     "execution_count": 3,
     "metadata": {},
     "output_type": "execute_result"
    }
   ],
   "source": [
    "tple =  [1,2,3,4,5,6]\n",
    "def rotate_tuple_right(tple,n):\n",
    "     return tple[-n:] + tple[-n:]\n",
    "rotate_tuple_right(tple,3)"
   ]
  },
  {
   "cell_type": "code",
   "execution_count": null,
   "id": "fc222e4b-95fc-4578-87a3-584b39b61a43",
   "metadata": {},
   "outputs": [],
   "source": []
  },
  {
   "cell_type": "markdown",
   "id": "ca6c9450-4b9b-4728-ba01-0fd6999865ac",
   "metadata": {},
   "source": [
    "41. Create a tuple of the first 5 Fibonacci numbers."
   ]
  },
  {
   "cell_type": "code",
   "execution_count": 8,
   "id": "135b7cda-3ffb-4d2a-817d-53e5227ae9b0",
   "metadata": {},
   "outputs": [
    {
     "data": {
      "text/plain": [
       "(0, 1, 1, 2, 3)"
      ]
     },
     "execution_count": 8,
     "metadata": {},
     "output_type": "execute_result"
    }
   ],
   "source": [
    "def fibbonacci(n):\n",
    "    li=[]\n",
    "    for i in range(0,n):\n",
    "        if i == 0 or i ==1:\n",
    "            li.append(i)\n",
    "        else:\n",
    "            next_number = li[i-1]+li[i-2]\n",
    "            li.append(next_number)\n",
    "    return tuple(li)\n",
    "fibbonacci(5)"
   ]
  },
  {
   "cell_type": "code",
   "execution_count": null,
   "id": "005d75fc-e6b1-4475-80ec-8840ee91ecd0",
   "metadata": {},
   "outputs": [],
   "source": []
  },
  {
   "cell_type": "markdown",
   "id": "a0ef708b-70cd-49ac-9e74-ed8515d5dd4e",
   "metadata": {},
   "source": [
    "42. Create a tuple from user input."
   ]
  },
  {
   "cell_type": "code",
   "execution_count": 17,
   "id": "e3b96258-40c0-4733-ac51-6de97242c72e",
   "metadata": {},
   "outputs": [
    {
     "name": "stdin",
     "output_type": "stream",
     "text": [
      "Enter elements for a tuple 1 23 45 6 7\n"
     ]
    },
    {
     "data": {
      "text/plain": [
       "(1, 23, 45, 6, 7)"
      ]
     },
     "execution_count": 17,
     "metadata": {},
     "output_type": "execute_result"
    }
   ],
   "source": [
    "str_tple = input(\"Enter integer elements for a tuple\")\n",
    "str_tple = str_tple.split()\n",
    "new_tple = tuple((int(i) for i in str_tple))\n",
    "new_tple"
   ]
  },
  {
   "cell_type": "code",
   "execution_count": null,
   "id": "1d1992bc-6abd-4fdb-9761-6479851d1dde",
   "metadata": {},
   "outputs": [],
   "source": []
  },
  {
   "cell_type": "markdown",
   "id": "df939c43-9e74-453c-9408-290110254a53",
   "metadata": {},
   "source": [
    "43. Swap two elements in a tuple."
   ]
  },
  {
   "cell_type": "code",
   "execution_count": 26,
   "id": "f7b24c7a-4f16-4fa3-9a53-d44be7f16d00",
   "metadata": {},
   "outputs": [
    {
     "data": {
      "text/plain": [
       "(1, 2, 3, 5, 4, 6)"
      ]
     },
     "execution_count": 26,
     "metadata": {},
     "output_type": "execute_result"
    }
   ],
   "source": [
    "tple = (1,2,3,4,5,6)\n",
    "def swap_in_tuple(tple,n1,n2):\n",
    "    '''\n",
    "    This function takes three argument \n",
    "    1. tuple \n",
    "    2.index 1  and index 2 to swap elements\n",
    "    '''\n",
    "    tple = list(tple)\n",
    "    a = tple[n1]\n",
    "    tple[n1] = tple[n2]\n",
    "    tple[n2] = a\n",
    "    swap_tple = tuple(tple)\n",
    "    return swap_tple    \n",
    "swap_in_tuple(tple,3,4)"
   ]
  },
  {
   "cell_type": "code",
   "execution_count": null,
   "id": "dc91951a-16f9-447f-83b6-6a16fc44b7ca",
   "metadata": {},
   "outputs": [],
   "source": []
  },
  {
   "cell_type": "markdown",
   "id": "d05ebbe2-b2b6-4f79-acdf-9f50176ad193",
   "metadata": {},
   "source": [
    "44. Reverse the elements of a tuple."
   ]
  },
  {
   "cell_type": "code",
   "execution_count": 28,
   "id": "6f449abd-6791-4cd6-b473-2cc674d4e858",
   "metadata": {},
   "outputs": [
    {
     "data": {
      "text/plain": [
       "(5, 4, 3, 2, 1)"
      ]
     },
     "execution_count": 28,
     "metadata": {},
     "output_type": "execute_result"
    }
   ],
   "source": [
    "tple = (1,2,3,4,5)\n",
    "rev_tple = tple[::-1]\n",
    "rev_tple"
   ]
  },
  {
   "cell_type": "code",
   "execution_count": null,
   "id": "8ec5f1a2-9135-4ac1-bd21-4ba04808289e",
   "metadata": {},
   "outputs": [],
   "source": []
  },
  {
   "cell_type": "markdown",
   "id": "72a98c9c-fa57-496a-8d71-bd11a13dae95",
   "metadata": {},
   "source": [
    " 45. Create a tuple of the first `n` powers of 2."
   ]
  },
  {
   "cell_type": "code",
   "execution_count": 29,
   "id": "637784fe-8c44-457e-99dd-f71436c31d2b",
   "metadata": {},
   "outputs": [
    {
     "data": {
      "text/plain": [
       "(1, 4, 9, 16, 25)"
      ]
     },
     "execution_count": 29,
     "metadata": {},
     "output_type": "execute_result"
    }
   ],
   "source": [
    "def tuple_pow_2(n):\n",
    "    li = []\n",
    "    for i in range(1,n+1):\n",
    "        li.append(i**2)\n",
    "    return tuple(li)\n",
    "tuple_pow_2(5)"
   ]
  },
  {
   "cell_type": "code",
   "execution_count": null,
   "id": "f1d68953-e9c2-48eb-880a-3bf4754ca037",
   "metadata": {},
   "outputs": [],
   "source": []
  },
  {
   "cell_type": "markdown",
   "id": "903e26cf-ff8d-427e-b5d6-614668f51c1e",
   "metadata": {},
   "source": [
    "46. Find the longest string in a tuple of strings."
   ]
  },
  {
   "cell_type": "code",
   "execution_count": 38,
   "id": "4e0fed12-a470-4871-b031-170c74ef3b92",
   "metadata": {},
   "outputs": [
    {
     "data": {
      "text/plain": [
       "'Pwskills'"
      ]
     },
     "execution_count": 38,
     "metadata": {},
     "output_type": "execute_result"
    }
   ],
   "source": [
    "str_tuple = ('Hello','World','Pwskills')\n",
    "def longest_str(tple):\n",
    "    length = 0\n",
    "    for i in tple:\n",
    "        if len(i)>length:\n",
    "            length = len(i)\n",
    "            longest_string = i\n",
    "        else:\n",
    "            continue\n",
    "    return longest_string\n",
    "   \n",
    "longest_str(str_tuple)"
   ]
  },
  {
   "cell_type": "code",
   "execution_count": null,
   "id": "229d44ad-2911-471c-8a04-1835f88acfcd",
   "metadata": {},
   "outputs": [],
   "source": []
  },
  {
   "cell_type": "markdown",
   "id": "d9ca2c5a-08c2-4262-9ffa-83ae474640bf",
   "metadata": {},
   "source": [
    "47. Find the shortest string in a tuple of strings."
   ]
  },
  {
   "cell_type": "code",
   "execution_count": 39,
   "id": "3557e2c8-eccd-4e8e-93e9-f8826bd96727",
   "metadata": {},
   "outputs": [
    {
     "data": {
      "text/plain": [
       "'Hello'"
      ]
     },
     "execution_count": 39,
     "metadata": {},
     "output_type": "execute_result"
    }
   ],
   "source": [
    "str_tuple = ('Hello','World','Pwskills')\n",
    "def shortest_str(tple):\n",
    "    length = 1000\n",
    "    for i in tple:\n",
    "        if len(i)<length:\n",
    "            length = len(i)\n",
    "            shortest_string = i\n",
    "        else:\n",
    "            continue\n",
    "    return shortest_string\n",
    "   \n",
    "shortest_str(str_tuple)"
   ]
  },
  {
   "cell_type": "code",
   "execution_count": null,
   "id": "c4fe9eed-17f1-47c7-b860-a4bff83a3fcd",
   "metadata": {},
   "outputs": [],
   "source": []
  },
  {
   "cell_type": "markdown",
   "id": "a83e6b10-1b5e-4d60-a795-3970d27ef922",
   "metadata": {},
   "source": [
    "48. Create a tuple of the first `n` triangular numbers."
   ]
  },
  {
   "cell_type": "code",
   "execution_count": 46,
   "id": "c91a7454-4b47-42d6-9e1c-a8780f0bc98a",
   "metadata": {},
   "outputs": [
    {
     "data": {
      "text/plain": [
       "(1, 3, 6, 10, 15, 21, 28, 36, 45)"
      ]
     },
     "execution_count": 46,
     "metadata": {},
     "output_type": "execute_result"
    }
   ],
   "source": [
    "def triangular_numbers(n):\n",
    "    li = []\n",
    "    for i in range (1,n):\n",
    "        if i == 1:\n",
    "            li.append(i)\n",
    "        else:\n",
    "            new_li = list([i for i in range(1,i+1)])\n",
    "            li.append(sum(new_li))\n",
    "    return tuple(li)\n",
    "triangular_numbers(10)\n",
    "        "
   ]
  },
  {
   "cell_type": "code",
   "execution_count": null,
   "id": "714a19ea-f7c7-426a-a188-02bf266936c9",
   "metadata": {},
   "outputs": [],
   "source": []
  },
  {
   "cell_type": "markdown",
   "id": "db99df3b-14a9-4d0f-a118-19c04d248244",
   "metadata": {},
   "source": [
    "49. Check if a tuple contains another tuple as a subsequence."
   ]
  },
  {
   "cell_type": "code",
   "execution_count": 50,
   "id": "596c0d2d-4325-4f24-a463-9cf225cc762c",
   "metadata": {},
   "outputs": [
    {
     "data": {
      "text/plain": [
       "'Yes it contain another tuple as a subsequence'"
      ]
     },
     "execution_count": 50,
     "metadata": {},
     "output_type": "execute_result"
    }
   ],
   "source": [
    "tple = (1,2,3,5)\n",
    "tple2 = (1,2,3,4,5,6,(1,2,3),(1,2,3))\n",
    "def check_tuple_contain_tuple(tple):\n",
    "    for i in tple:\n",
    "        if type(i) == tuple:\n",
    "            return 'Yes it contain another tuple as a subsequence'\n",
    "        else:\n",
    "            continue\n",
    "    return 'No it does not contain another tuple as a subsequence'\n",
    "check_tuple_contain_tuple(tple2)"
   ]
  },
  {
   "cell_type": "code",
   "execution_count": null,
   "id": "1a6cd55b-5f74-4efc-b240-59dd7f4b3168",
   "metadata": {},
   "outputs": [],
   "source": []
  },
  {
   "cell_type": "markdown",
   "id": "96842020-ad74-4642-8014-1b9dda0ee45c",
   "metadata": {},
   "source": [
    "50. Create a tuple of alternating 1s and 0s of length `n`."
   ]
  },
  {
   "cell_type": "code",
   "execution_count": 51,
   "id": "08f38702-a635-4183-ad07-9c11461b6ab8",
   "metadata": {},
   "outputs": [
    {
     "data": {
      "text/plain": [
       "(1, 0, 1, 0, 1, 0, 1, 0, 1, 0)"
      ]
     },
     "execution_count": 51,
     "metadata": {},
     "output_type": "execute_result"
    }
   ],
   "source": [
    "def tuple_creation(n):\n",
    "    li = []\n",
    "    for i in range(0,n):\n",
    "        if i%2==0:\n",
    "            li.append(1)\n",
    "        else:\n",
    "            li.append(0)\n",
    "    return tuple(li)\n",
    "tuple_creation(10)"
   ]
  },
  {
   "cell_type": "code",
   "execution_count": null,
   "id": "91d1d7f6-530f-41a1-95da-c36230a97e18",
   "metadata": {},
   "outputs": [],
   "source": []
  },
  {
   "cell_type": "markdown",
   "id": "c6c772fc-350c-4696-9f65-5731e1131ead",
   "metadata": {},
   "source": [
    "# SET Based Problems"
   ]
  },
  {
   "cell_type": "code",
   "execution_count": null,
   "id": "a62a1517-5c95-4edb-b071-0ce6414b2915",
   "metadata": {},
   "outputs": [],
   "source": []
  },
  {
   "cell_type": "markdown",
   "id": "91ca0b7d-73a7-4182-9f57-a195a28a43c4",
   "metadata": {},
   "source": [
    "1. Create a set with integers from 1 to 5."
   ]
  },
  {
   "cell_type": "code",
   "execution_count": 1,
   "id": "dfe9e584-eb41-4bc8-9115-efc0a050afe6",
   "metadata": {},
   "outputs": [
    {
     "name": "stdout",
     "output_type": "stream",
     "text": [
      "Set of integers 1 to 5 is : {1, 2, 3, 4, 5}\n"
     ]
    }
   ],
   "source": [
    "int_set = { 1,2,3,4,5}\n",
    "print('Set of integers 1 to 5 is :', int_set)"
   ]
  },
  {
   "cell_type": "code",
   "execution_count": null,
   "id": "3dc8ac1d-fefc-4481-bd94-ae6a074a2af8",
   "metadata": {},
   "outputs": [],
   "source": []
  },
  {
   "cell_type": "markdown",
   "id": "791db7be-e5fc-49d3-aa20-f79f30652e85",
   "metadata": {},
   "source": [
    "2. Add an element to a set."
   ]
  },
  {
   "cell_type": "code",
   "execution_count": 2,
   "id": "c41f84a9-d27f-43b3-98ce-e32c46943e5f",
   "metadata": {},
   "outputs": [
    {
     "data": {
      "text/plain": [
       "{1, 2, 3, 4, 5}"
      ]
     },
     "execution_count": 2,
     "metadata": {},
     "output_type": "execute_result"
    }
   ],
   "source": [
    "int_set "
   ]
  },
  {
   "cell_type": "code",
   "execution_count": 4,
   "id": "337d2629-f3ad-42a2-97f7-603b692c0a2e",
   "metadata": {},
   "outputs": [
    {
     "data": {
      "text/plain": [
       "{1, 2, 3, 4, 5, 34}"
      ]
     },
     "execution_count": 4,
     "metadata": {},
     "output_type": "execute_result"
    }
   ],
   "source": [
    "element= 34\n",
    "int_set.add(element)\n",
    "int_set"
   ]
  },
  {
   "cell_type": "code",
   "execution_count": null,
   "id": "51e3791c-6844-4f72-89e2-66ac122b4c74",
   "metadata": {},
   "outputs": [],
   "source": []
  },
  {
   "cell_type": "markdown",
   "id": "58ef3eb4-292f-4c71-a4e8-e391bc518bb1",
   "metadata": {},
   "source": [
    "3. Remove an element from a set."
   ]
  },
  {
   "cell_type": "code",
   "execution_count": 16,
   "id": "00556201-44c7-4212-ba99-2e89f82ccfc2",
   "metadata": {},
   "outputs": [],
   "source": [
    "int_set = {1,2,3,4,5,6}"
   ]
  },
  {
   "cell_type": "code",
   "execution_count": 17,
   "id": "53d22784-e295-4307-8797-44add4c323f4",
   "metadata": {},
   "outputs": [
    {
     "data": {
      "text/plain": [
       "{1, 2, 4, 5, 6}"
      ]
     },
     "execution_count": 17,
     "metadata": {},
     "output_type": "execute_result"
    }
   ],
   "source": [
    "element\n",
    "int_set.remove(element)\n",
    "int_set"
   ]
  },
  {
   "cell_type": "code",
   "execution_count": null,
   "id": "e198400d-044b-4d95-b9c0-0714a974e2eb",
   "metadata": {},
   "outputs": [],
   "source": []
  },
  {
   "cell_type": "markdown",
   "id": "c2c6526f-cc40-4fd5-aa56-80c7f370bb29",
   "metadata": {},
   "source": [
    "4. Check if an element exists in a set."
   ]
  },
  {
   "cell_type": "code",
   "execution_count": 18,
   "id": "a6bdd9e1-f37d-41bb-815f-92e8e23089f9",
   "metadata": {},
   "outputs": [
    {
     "data": {
      "text/plain": [
       "'Element exists'"
      ]
     },
     "execution_count": 18,
     "metadata": {},
     "output_type": "execute_result"
    }
   ],
   "source": [
    "s = {1,2,3,4,5,6}\n",
    "def check_exists(s,element):\n",
    "    for i in s: \n",
    "        if i == element:\n",
    "            return 'Element exists'\n",
    "        else:\n",
    "            continue\n",
    "    return 'element does not exists'\n",
    "check_exists(s,2)\n"
   ]
  },
  {
   "cell_type": "code",
   "execution_count": null,
   "id": "8d8c1290-013e-405b-8988-e97f9b3df835",
   "metadata": {},
   "outputs": [],
   "source": []
  },
  {
   "cell_type": "markdown",
   "id": "aca932eb-b6a8-4ca1-ac75-9ee0842a062a",
   "metadata": {},
   "source": [
    "5. Find the length of a set without using the `len()` function."
   ]
  },
  {
   "cell_type": "code",
   "execution_count": 20,
   "id": "cc8368a5-26d5-4c21-9ff0-1ef101ad2130",
   "metadata": {},
   "outputs": [
    {
     "data": {
      "text/plain": [
       "6"
      ]
     },
     "execution_count": 20,
     "metadata": {},
     "output_type": "execute_result"
    }
   ],
   "source": [
    "def find_len(s):\n",
    "    length = 0\n",
    "    for i in s:\n",
    "        length = length +1\n",
    "    return length\n",
    "s = {1,2,3,4,5,6}\n",
    "find_len(s)"
   ]
  },
  {
   "cell_type": "code",
   "execution_count": null,
   "id": "60f1823c-457c-45b6-abb2-6a63e181730f",
   "metadata": {},
   "outputs": [],
   "source": []
  },
  {
   "cell_type": "markdown",
   "id": "3074a9be-bce2-416d-930b-dc9f41b1f5e4",
   "metadata": {},
   "source": [
    "6. Clear all elements from a set."
   ]
  },
  {
   "cell_type": "code",
   "execution_count": 22,
   "id": "e1fe2224-2fe2-4842-bf25-7769d43e455b",
   "metadata": {},
   "outputs": [
    {
     "name": "stdout",
     "output_type": "stream",
     "text": [
      "set()\n"
     ]
    }
   ],
   "source": [
    "s = {1,2,3,4,5,6}\n",
    "s.clear()\n",
    "print(s)"
   ]
  },
  {
   "cell_type": "code",
   "execution_count": null,
   "id": "47379039-350e-4431-ad8a-54f16b52ef7d",
   "metadata": {},
   "outputs": [],
   "source": []
  },
  {
   "cell_type": "markdown",
   "id": "52b3ba4d-431a-4070-a5f5-7b965f74a6bd",
   "metadata": {},
   "source": [
    "7. Create a set of even numbers from 1 to 10."
   ]
  },
  {
   "cell_type": "code",
   "execution_count": 30,
   "id": "b7d4c3a1-9a65-4710-91f3-beb3c28a1017",
   "metadata": {},
   "outputs": [
    {
     "data": {
      "text/plain": [
       "{2, 4, 6, 8, 10}"
      ]
     },
     "execution_count": 30,
     "metadata": {},
     "output_type": "execute_result"
    }
   ],
   "source": [
    "def even_set(n):\n",
    "    s = set({})\n",
    "    for i in range(1,n+1):\n",
    "        if i%2==0:\n",
    "            s.add(i)\n",
    "        else:\n",
    "            continue\n",
    "    return s\n",
    "even_set(10)\n",
    "            "
   ]
  },
  {
   "cell_type": "code",
   "execution_count": null,
   "id": "c68274e1-34d5-4cdf-94ec-13970848b39c",
   "metadata": {},
   "outputs": [],
   "source": []
  },
  {
   "cell_type": "markdown",
   "id": "a6d0646c-251f-494e-9764-124bab3b6d6e",
   "metadata": {},
   "source": [
    "8. Create a set of odd numbers from 1 to 10."
   ]
  },
  {
   "cell_type": "code",
   "execution_count": 31,
   "id": "9c45c73d-f935-4ebd-888b-4cd46347d758",
   "metadata": {},
   "outputs": [
    {
     "data": {
      "text/plain": [
       "{1, 3, 5, 7, 9}"
      ]
     },
     "execution_count": 31,
     "metadata": {},
     "output_type": "execute_result"
    }
   ],
   "source": [
    "def odd_set(n):\n",
    "    s = set({})\n",
    "    for i in range(1,n+1):\n",
    "        if i%2==0:\n",
    "            continue\n",
    "        else:\n",
    "             s.add(i)\n",
    "    return s\n",
    "odd_set(10)"
   ]
  },
  {
   "cell_type": "code",
   "execution_count": null,
   "id": "a65f7b5f-1f6e-4580-b751-50c9d78c4585",
   "metadata": {},
   "outputs": [],
   "source": []
  },
  {
   "cell_type": "markdown",
   "id": "e6b190aa-8520-4d10-b3c8-ad505d46e13a",
   "metadata": {},
   "source": [
    "9. Find the union of two sets."
   ]
  },
  {
   "cell_type": "code",
   "execution_count": 34,
   "id": "1c2529ce-7d9b-467d-ac4b-3beda793f8a5",
   "metadata": {},
   "outputs": [
    {
     "name": "stdout",
     "output_type": "stream",
     "text": [
      "union set is :  {1, 2, 3, 4, 5, 6, 7, 8}\n"
     ]
    }
   ],
   "source": [
    "s1 = {1,2,3,4}\n",
    "s2 = {5,6,7,8}\n",
    "union_set = s1.union(s2)\n",
    "print('union set is : ', union_set)"
   ]
  },
  {
   "cell_type": "code",
   "execution_count": null,
   "id": "42884bc9-24d0-4e33-b9db-184acf719594",
   "metadata": {},
   "outputs": [],
   "source": []
  },
  {
   "cell_type": "markdown",
   "id": "12d01297-85da-4d36-8720-cb2f344f378b",
   "metadata": {},
   "source": [
    "10. Find the intersection of two sets."
   ]
  },
  {
   "cell_type": "code",
   "execution_count": 39,
   "id": "26f0e04c-027b-4cf9-93ed-9de25ed74a6b",
   "metadata": {},
   "outputs": [
    {
     "name": "stdout",
     "output_type": "stream",
     "text": [
      "Intersection b/w s1 and s2 is:  {3, 4}\n"
     ]
    }
   ],
   "source": [
    "s1 = {1,2,3,4}\n",
    "s2 = {5,6,7,8,3,4}\n",
    "s1.intersection_update(s2)\n",
    "print('Intersection b/w s1 and s2 is: ',s1)"
   ]
  },
  {
   "cell_type": "code",
   "execution_count": null,
   "id": "3cf24350-d821-4ab2-86e7-b8554c371f7b",
   "metadata": {},
   "outputs": [],
   "source": []
  },
  {
   "cell_type": "markdown",
   "id": "1110a215-010e-4e52-a87b-9d7f855eb271",
   "metadata": {},
   "source": [
    "11. Find the difference between two sets."
   ]
  },
  {
   "cell_type": "code",
   "execution_count": 40,
   "id": "6a594a77-f639-4a64-8950-307e14390ada",
   "metadata": {},
   "outputs": [
    {
     "name": "stdout",
     "output_type": "stream",
     "text": [
      "Difference b/w s1 and s2 is :  {1, 2}\n"
     ]
    }
   ],
   "source": [
    "s1 = {1,2,3,4}\n",
    "s2 = {5,6,7,8,3,4}\n",
    "diff = s1.difference(s2)\n",
    "print('Difference b/w s1 and s2 is : ', diff)"
   ]
  },
  {
   "cell_type": "code",
   "execution_count": null,
   "id": "1b487085-8822-4563-b4c5-c660e9552dc4",
   "metadata": {},
   "outputs": [],
   "source": []
  },
  {
   "cell_type": "markdown",
   "id": "6b1f11ad-813c-4f8c-a5fe-d9448994d5c5",
   "metadata": {},
   "source": [
    "12. Check if a set is a subset of another set."
   ]
  },
  {
   "cell_type": "code",
   "execution_count": 43,
   "id": "c9753a5c-6203-4b44-b569-2dbf025b7eba",
   "metadata": {},
   "outputs": [
    {
     "data": {
      "text/plain": [
       "False"
      ]
     },
     "execution_count": 43,
     "metadata": {},
     "output_type": "execute_result"
    }
   ],
   "source": [
    "s1 = {1,2,3,4}\n",
    "s2 = {5,6,7,8,3,4}\n",
    "s3 = {1,2,3,4,5,6,7,8,9}\n",
    "def check_subset(s1,s2):\n",
    "    if s1.issubset(s2):\n",
    "        return True\n",
    "    else:\n",
    "        return False\n",
    "check_subset(s1,s2)\n"
   ]
  },
  {
   "cell_type": "markdown",
   "id": "0e6333a6-d47d-4007-b531-dd845035067a",
   "metadata": {},
   "source": [
    "13. Check if a set is a superset of another set."
   ]
  },
  {
   "cell_type": "code",
   "execution_count": 44,
   "id": "fa0e8360-50f9-4e88-bf4f-983dc5d3079b",
   "metadata": {},
   "outputs": [
    {
     "data": {
      "text/plain": [
       "True"
      ]
     },
     "execution_count": 44,
     "metadata": {},
     "output_type": "execute_result"
    }
   ],
   "source": [
    "s1 = {1,2,3,4}\n",
    "s2 = {5,6,7,8,3,4}\n",
    "s3 = {1,2,3,4,5,6,7,8,9}\n",
    "def check_superset(s1,s2):\n",
    "    if s1.issuperset(s2):\n",
    "        return True\n",
    "    else:\n",
    "        return False\n",
    "check_superset(s3,s1)"
   ]
  },
  {
   "cell_type": "code",
   "execution_count": null,
   "id": "1c98f7b0-f28a-4ab5-91d1-7d46ab68f4a9",
   "metadata": {},
   "outputs": [],
   "source": []
  },
  {
   "cell_type": "markdown",
   "id": "1b65c431-9207-4199-b10d-00d5c37eae4f",
   "metadata": {},
   "source": [
    "14. Create a set from a list."
   ]
  },
  {
   "cell_type": "code",
   "execution_count": 48,
   "id": "68d27090-246b-41eb-ba28-2a99bc98ba9a",
   "metadata": {},
   "outputs": [
    {
     "data": {
      "text/plain": [
       "{1, 2, 3, 4, 5}"
      ]
     },
     "execution_count": 48,
     "metadata": {},
     "output_type": "execute_result"
    }
   ],
   "source": [
    "l = [1,2,3,4,5]\n",
    "def create_set(s):\n",
    "    s = set(l)\n",
    "    return s\n",
    "create_set(l)"
   ]
  },
  {
   "cell_type": "code",
   "execution_count": null,
   "id": "6f91bf27-cb3d-4a00-a820-a108c3acf744",
   "metadata": {},
   "outputs": [],
   "source": []
  },
  {
   "cell_type": "markdown",
   "id": "54c4cc52-1c96-4d04-bd8d-326cce5079c2",
   "metadata": {},
   "source": [
    "15. Convert a set to a list."
   ]
  },
  {
   "cell_type": "code",
   "execution_count": 49,
   "id": "3d2535ec-8eb0-4660-aab9-71bacb816c60",
   "metadata": {},
   "outputs": [
    {
     "data": {
      "text/plain": [
       "[1, 2, 3, 4, 5, 6]"
      ]
     },
     "execution_count": 49,
     "metadata": {},
     "output_type": "execute_result"
    }
   ],
   "source": [
    "s = {1,2,3,4,5,6}\n",
    "def create_list(s):\n",
    "    l = list(s)\n",
    "    return l\n",
    "create_list(s)"
   ]
  },
  {
   "cell_type": "code",
   "execution_count": null,
   "id": "324ab12c-133e-43f4-966f-5096fbadb2f5",
   "metadata": {},
   "outputs": [],
   "source": []
  },
  {
   "cell_type": "markdown",
   "id": "a3dc24ef-0fc8-489a-a61b-549590cc896b",
   "metadata": {},
   "source": [
    "16. Remove a random element from a set."
   ]
  },
  {
   "cell_type": "code",
   "execution_count": 60,
   "id": "fbfffe3f-adca-42ff-8f2e-d1fd1e0cc88f",
   "metadata": {},
   "outputs": [
    {
     "data": {
      "text/plain": [
       "{1, 2, 3, 4, 5, 7}"
      ]
     },
     "execution_count": 60,
     "metadata": {},
     "output_type": "execute_result"
    }
   ],
   "source": [
    "import random\n",
    "s = {1,2,3,4,5,6,7}\n",
    "def remove_random(s):\n",
    "    l = list(s)\n",
    "    random.shuffle(l)\n",
    "    return set(l[1:])\n",
    "remove_random(s)\n",
    "\n"
   ]
  },
  {
   "cell_type": "code",
   "execution_count": null,
   "id": "327fa80b-cf25-423d-a2fa-692b78ed3e0d",
   "metadata": {},
   "outputs": [],
   "source": []
  },
  {
   "cell_type": "markdown",
   "id": "ebe93f42-9f52-4a86-ba97-3b307fd2bf9f",
   "metadata": {},
   "source": [
    "17. Pop an element from a set."
   ]
  },
  {
   "cell_type": "code",
   "execution_count": 63,
   "id": "88a35111-38d6-43f0-ac1c-639388b8e970",
   "metadata": {},
   "outputs": [
    {
     "data": {
      "text/plain": [
       "{2, 3, 4, 5, 6}"
      ]
     },
     "execution_count": 63,
     "metadata": {},
     "output_type": "execute_result"
    }
   ],
   "source": [
    "s = { 1,2,3,4,5,6}\n",
    "def pop_element(s):\n",
    "    s.pop()\n",
    "    return s\n",
    "pop_element(s)\n",
    "    "
   ]
  },
  {
   "cell_type": "code",
   "execution_count": null,
   "id": "d66e8e11-3e80-4759-8f38-398e7da882fb",
   "metadata": {},
   "outputs": [],
   "source": []
  },
  {
   "cell_type": "markdown",
   "id": "64bc348c-96d9-436a-a589-484129a6465c",
   "metadata": {},
   "source": [
    "18. Check if two sets have no elements in common."
   ]
  },
  {
   "cell_type": "code",
   "execution_count": 80,
   "id": "4e8e0dd3-3a17-4725-818a-9fe434519fec",
   "metadata": {},
   "outputs": [
    {
     "data": {
      "text/plain": [
       "False"
      ]
     },
     "execution_count": 80,
     "metadata": {},
     "output_type": "execute_result"
    }
   ],
   "source": [
    "s1 = {1,2,3,4}\n",
    "s2 = {5,6,7,8,4,5}\n",
    "def check_no_elem_common(s1,s2):\n",
    "    if s1.intersection(s2) == set():\n",
    "        return True\n",
    "    else:\n",
    "        return False\n",
    "\n",
    "check_no_elem_common(s1,s2)       "
   ]
  },
  {
   "cell_type": "code",
   "execution_count": null,
   "id": "ed304827-033d-41df-829e-edbbbbfd466b",
   "metadata": {},
   "outputs": [],
   "source": []
  },
  {
   "cell_type": "markdown",
   "id": "d56f1dbd-4210-43ad-813e-c4b90706fc91",
   "metadata": {},
   "source": [
    "19. Find the symmetric difference between two sets."
   ]
  },
  {
   "cell_type": "code",
   "execution_count": 81,
   "id": "25ae48bf-2226-420f-83ec-d2595f8dcd6f",
   "metadata": {},
   "outputs": [
    {
     "data": {
      "text/plain": [
       "{1, 2, 3, 5, 6, 7, 8}"
      ]
     },
     "execution_count": 81,
     "metadata": {},
     "output_type": "execute_result"
    }
   ],
   "source": [
    "s1 = {1,2,3,4}\n",
    "s2 = {5,6,7,8,4,5}\n",
    "def symm_diff(s1,s2):\n",
    "    return s1.symmetric_difference(s2)\n",
    "symm_diff(s1,s2)"
   ]
  },
  {
   "cell_type": "code",
   "execution_count": null,
   "id": "899fffce-117b-40cb-95ad-94fef12501ea",
   "metadata": {},
   "outputs": [],
   "source": []
  },
  {
   "cell_type": "markdown",
   "id": "0c550c1b-cb4e-4b53-ba9c-53a740ecd415",
   "metadata": {},
   "source": [
    "20. Update a set with elements from another set."
   ]
  },
  {
   "cell_type": "code",
   "execution_count": 85,
   "id": "409b4143-c352-4370-b0a3-114e02db22ab",
   "metadata": {},
   "outputs": [
    {
     "data": {
      "text/plain": [
       "{1, 2, 3, 4, 5, 6, 7, 8}"
      ]
     },
     "execution_count": 85,
     "metadata": {},
     "output_type": "execute_result"
    }
   ],
   "source": [
    "s1 = {1,2,3,4}\n",
    "s2 = {5,6,7,8,4,5}\n",
    "s1.update(s2)\n",
    "s1\n"
   ]
  },
  {
   "cell_type": "code",
   "execution_count": null,
   "id": "0c2f920f-2579-4bdf-8b9a-fa380cc5af2a",
   "metadata": {},
   "outputs": [],
   "source": []
  },
  {
   "cell_type": "markdown",
   "id": "548589ce-84c6-4605-bf92-8185388bec69",
   "metadata": {},
   "source": [
    "21. Create a set of the first 5 prime numbers."
   ]
  },
  {
   "cell_type": "code",
   "execution_count": 91,
   "id": "9ff45ef9-86ee-46af-ab6f-86ce0bb02da2",
   "metadata": {},
   "outputs": [
    {
     "data": {
      "text/plain": [
       "{2, 3, 5, 7, 11, 13}"
      ]
     },
     "execution_count": 91,
     "metadata": {},
     "output_type": "execute_result"
    }
   ],
   "source": [
    "def first_prime_no(n):\n",
    "    s = set()\n",
    "    for i in range (2,100):\n",
    "        is_prime = True\n",
    "        for j in range(2,i):\n",
    "            if i%j==0:\n",
    "                is_prime = False\n",
    "        if is_prime == True and len(s)<6:\n",
    "            s.add(i)\n",
    "    return s\n",
    "        \n",
    "\n",
    "\n",
    "first_prime_no(5)          \n",
    "        "
   ]
  },
  {
   "cell_type": "code",
   "execution_count": null,
   "id": "4ba6bb53-b46c-4423-8311-010080e91b25",
   "metadata": {},
   "outputs": [],
   "source": []
  },
  {
   "cell_type": "markdown",
   "id": "094e47ee-bc50-42bd-8b15-629413f61dd1",
   "metadata": {},
   "source": [
    "22. Check if two sets are identical."
   ]
  },
  {
   "cell_type": "code",
   "execution_count": 99,
   "id": "0f62084e-38e8-43d0-af5d-995f8f969600",
   "metadata": {},
   "outputs": [
    {
     "data": {
      "text/plain": [
       "True"
      ]
     },
     "execution_count": 99,
     "metadata": {},
     "output_type": "execute_result"
    }
   ],
   "source": [
    "def check_identical(s1,s2):\n",
    "    if s1.symmetric_difference(s2) == set():\n",
    "        return True\n",
    "    else:\n",
    "        return False\n",
    "s1 = {1,2,3,4,5}\n",
    "s2 = {1,2,3,4,5}\n",
    "check_identical(s1,s2)\n"
   ]
  },
  {
   "cell_type": "code",
   "execution_count": null,
   "id": "f0aa4720-54f6-45b9-aa89-fbddf2a88079",
   "metadata": {},
   "outputs": [],
   "source": []
  },
  {
   "cell_type": "markdown",
   "id": "345404d1-99d5-484e-8885-f59c96c3904d",
   "metadata": {},
   "source": [
    "23. Create a frozen set."
   ]
  },
  {
   "cell_type": "code",
   "execution_count": 100,
   "id": "2e58bd1e-ed32-41cd-9a02-db13ef09be11",
   "metadata": {},
   "outputs": [
    {
     "data": {
      "text/plain": [
       "frozenset({1, 2, 3, 4, 5})"
      ]
     },
     "execution_count": 100,
     "metadata": {},
     "output_type": "execute_result"
    }
   ],
   "source": [
    "l = [1,2,3,4,5]\n",
    "fr_set = frozenset(l)\n",
    "fr_set"
   ]
  },
  {
   "cell_type": "code",
   "execution_count": null,
   "id": "f94f752e-7542-4f4c-bab6-17d66fdee2e2",
   "metadata": {},
   "outputs": [],
   "source": []
  },
  {
   "cell_type": "markdown",
   "id": "28171945-eca0-47ad-b05d-206ef089dacf",
   "metadata": {},
   "source": [
    "24. Check if a set is disjoint with another set."
   ]
  },
  {
   "cell_type": "code",
   "execution_count": 106,
   "id": "5369ef3d-db77-454d-9689-c9e2c4ebd564",
   "metadata": {},
   "outputs": [
    {
     "data": {
      "text/plain": [
       "True"
      ]
     },
     "execution_count": 106,
     "metadata": {},
     "output_type": "execute_result"
    }
   ],
   "source": [
    "s1 = {1,2,3,4,5,6}\n",
    "s2 = {4,5,6,7,8}\n",
    "s3 = {7,8,9}\n",
    "def check_disjoint(s1,s2):\n",
    "    return s1.isdisjoint(s2)\n",
    "check_disjoint(s1,s3)"
   ]
  },
  {
   "cell_type": "code",
   "execution_count": null,
   "id": "01bb1bf9-febc-4a0b-acd6-978ab9ed1f7b",
   "metadata": {},
   "outputs": [],
   "source": []
  },
  {
   "cell_type": "markdown",
   "id": "7d2cbd5a-7b6d-478f-aa51-c728f345c635",
   "metadata": {},
   "source": [
    "25. Create a set of squares of numbers from 1 to 5."
   ]
  },
  {
   "cell_type": "code",
   "execution_count": 108,
   "id": "f85d64a5-e208-437c-b867-ad01e55c4fe0",
   "metadata": {},
   "outputs": [
    {
     "data": {
      "text/plain": [
       "{1, 4, 9, 16, 25}"
      ]
     },
     "execution_count": 108,
     "metadata": {},
     "output_type": "execute_result"
    }
   ],
   "source": [
    "def square_no_set(n):\n",
    "    s = set()\n",
    "    for i in range(1,n+1):\n",
    "         s.add(i**2)\n",
    "    return s\n",
    "square_no_set(5)\n"
   ]
  },
  {
   "cell_type": "code",
   "execution_count": null,
   "id": "6b976d18-cb50-4731-9f54-65332f01ca5b",
   "metadata": {},
   "outputs": [],
   "source": []
  },
  {
   "cell_type": "markdown",
   "id": "ac8252c9-94bf-46c4-9484-767793c52c3c",
   "metadata": {},
   "source": [
    "26. Filter out all even numbers from a set."
   ]
  },
  {
   "cell_type": "code",
   "execution_count": 109,
   "id": "007452e8-de29-429a-95cc-e74223c02aa9",
   "metadata": {},
   "outputs": [
    {
     "data": {
      "text/plain": [
       "{2, 4, 6, 8, 10}"
      ]
     },
     "execution_count": 109,
     "metadata": {},
     "output_type": "execute_result"
    }
   ],
   "source": [
    "s = {1,2,3,4,5,6,7,8,9,10}\n",
    "find_even= set(filter(lambda x : x%2==0,s))\n",
    "find_even"
   ]
  },
  {
   "cell_type": "code",
   "execution_count": null,
   "id": "5aeb7a74-07c7-4785-a31d-7c9f9d87a79a",
   "metadata": {},
   "outputs": [],
   "source": []
  },
  {
   "cell_type": "markdown",
   "id": "1ee00835-9d19-4c5a-ad57-72c9b217c086",
   "metadata": {},
   "source": [
    "27. Multiply all elements in a set by 2."
   ]
  },
  {
   "cell_type": "code",
   "execution_count": 110,
   "id": "51b7004d-baff-45e1-bc7c-b38fe4b3da9b",
   "metadata": {},
   "outputs": [
    {
     "data": {
      "text/plain": [
       "{2, 4, 6, 8, 10, 12, 14, 16, 18, 20}"
      ]
     },
     "execution_count": 110,
     "metadata": {},
     "output_type": "execute_result"
    }
   ],
   "source": [
    "s = {1,2,3,4,5,6,7,8,9,10}\n",
    "mul_two = set(map(lambda x : x*2 , s))\n",
    "mul_two"
   ]
  },
  {
   "cell_type": "code",
   "execution_count": null,
   "id": "b57af50a-d68e-4ad2-8008-ebea644dfbd9",
   "metadata": {},
   "outputs": [],
   "source": []
  },
  {
   "cell_type": "markdown",
   "id": "7ba79afa-1b26-4086-a2dd-12414cd82600",
   "metadata": {},
   "source": [
    "28. Create a set of random numbers."
   ]
  },
  {
   "cell_type": "code",
   "execution_count": 113,
   "id": "e48c8a76-8caa-4214-8b70-def098e35b52",
   "metadata": {},
   "outputs": [
    {
     "data": {
      "text/plain": [
       "{434, 455, 721, 828, 841, 846, 898, 903}"
      ]
     },
     "execution_count": 113,
     "metadata": {},
     "output_type": "execute_result"
    }
   ],
   "source": [
    "def random_set():\n",
    "    s= set()\n",
    "    for i in range(1,10):\n",
    "        s.add(random.randrange(1,1000))\n",
    "    return s\n",
    "random_set()"
   ]
  },
  {
   "cell_type": "code",
   "execution_count": null,
   "id": "f2cd24e3-db31-4893-8792-c54b41f123cc",
   "metadata": {},
   "outputs": [],
   "source": []
  },
  {
   "cell_type": "markdown",
   "id": "81660672-6f96-4090-b468-9b5a0a8ef7f8",
   "metadata": {},
   "source": [
    "29. Check if a set is empty."
   ]
  },
  {
   "cell_type": "code",
   "execution_count": 115,
   "id": "816ac173-006b-4219-ba09-b9d280738405",
   "metadata": {},
   "outputs": [
    {
     "data": {
      "text/plain": [
       "False"
      ]
     },
     "execution_count": 115,
     "metadata": {},
     "output_type": "execute_result"
    }
   ],
   "source": [
    "def check_empty(s):\n",
    "    if s == set():\n",
    "        return True\n",
    "    else:\n",
    "        return False\n",
    "s1 = set({})\n",
    "s2 = {1,2,3}\n",
    "check_empty(s2)"
   ]
  },
  {
   "cell_type": "code",
   "execution_count": null,
   "id": "cf9f22fb-7572-48f4-9814-862326df59b8",
   "metadata": {},
   "outputs": [],
   "source": []
  },
  {
   "cell_type": "markdown",
   "id": "fce13cd1-4201-4b08-95d6-fe5362dbb164",
   "metadata": {},
   "source": [
    "30. Create a nested set (hint: use frozenset)."
   ]
  },
  {
   "cell_type": "code",
   "execution_count": 124,
   "id": "7a644e0a-a06c-4c4b-b77c-f8c052482433",
   "metadata": {},
   "outputs": [
    {
     "name": "stdout",
     "output_type": "stream",
     "text": [
      "{frozenset({1, 2, 3, 4, 5}), frozenset({2, 3, 4, 5})}\n"
     ]
    }
   ],
   "source": [
    "s1 = frozenset({1,2,3,4,5})\n",
    "s2 = frozenset({2,3,4,4,5})\n",
    "nested_one = {s1,s2}\n",
    "print(nested_one)\n"
   ]
  },
  {
   "cell_type": "code",
   "execution_count": null,
   "id": "6a6844fa-6454-450b-be49-27464375dda0",
   "metadata": {},
   "outputs": [],
   "source": []
  },
  {
   "cell_type": "markdown",
   "id": "8a319f50-e518-4827-ad84-8ca582f4fe4c",
   "metadata": {},
   "source": [
    "31. Remove an element from a set using the discard method."
   ]
  },
  {
   "cell_type": "code",
   "execution_count": 127,
   "id": "aca7e275-1a31-4d49-b934-bb93e75e6f69",
   "metadata": {},
   "outputs": [
    {
     "name": "stdout",
     "output_type": "stream",
     "text": [
      "{1, 2, 3, 4, 5, 6}\n"
     ]
    }
   ],
   "source": [
    "s = {1,2,3,4,5,6,7}\n",
    "s.discard(7)\n",
    "print(s)"
   ]
  },
  {
   "cell_type": "code",
   "execution_count": null,
   "id": "048bb3c9-1ddb-4b54-89dc-972279a7f8b0",
   "metadata": {},
   "outputs": [],
   "source": []
  },
  {
   "cell_type": "markdown",
   "id": "cb487f94-0e80-451b-8060-6d1a11eba233",
   "metadata": {},
   "source": [
    "32. Compare two sets."
   ]
  },
  {
   "cell_type": "code",
   "execution_count": 130,
   "id": "c1a49f03-41a5-4c33-a7ae-2eaba624ef4d",
   "metadata": {},
   "outputs": [
    {
     "name": "stdout",
     "output_type": "stream",
     "text": [
      "s1 is subset of s2  False\n",
      "s1 is superset of s2  False\n",
      "s1 is  is identical s2  False\n",
      "s1 is disjoint of s2  False\n"
     ]
    }
   ],
   "source": [
    "s1 = {1,2,3,4,5,6}\n",
    "s2 = {2,3,4,5,6,7}\n",
    "\n",
    "print('s1 is subset of s2 ', s1.issubset(s2))\n",
    "print('s1 is superset of s2 ', s1.issuperset(s2))\n",
    "print('s1 is  is identical s2 ', s1.symmetric_difference(s2)==0)\n",
    "print('s1 is disjoint of s2 ', s1.isdisjoint(s2))\n"
   ]
  },
  {
   "cell_type": "code",
   "execution_count": null,
   "id": "0690a2b0-d4aa-48bf-9aed-2ddeafd49918",
   "metadata": {},
   "outputs": [],
   "source": []
  },
  {
   "cell_type": "markdown",
   "id": "8b904e78-32f2-4e8b-add3-aa5d7806f64c",
   "metadata": {},
   "source": [
    "33. Create a set from a string."
   ]
  },
  {
   "cell_type": "code",
   "execution_count": 135,
   "id": "9d191c87-0e8d-4ccd-8542-389ea981e5c4",
   "metadata": {},
   "outputs": [
    {
     "name": "stdout",
     "output_type": "stream",
     "text": [
      "{'platform', 'online', 'pwskills', 'an', 'is'}\n"
     ]
    }
   ],
   "source": [
    "st = 'pwskills is an online platform '\n",
    "s = set(st.split())\n",
    "print(s)"
   ]
  },
  {
   "cell_type": "code",
   "execution_count": null,
   "id": "050842ac-a65a-4055-a357-44c612517858",
   "metadata": {},
   "outputs": [],
   "source": []
  },
  {
   "cell_type": "markdown",
   "id": "090ddb57-c855-4062-bef2-cc0c71dfa812",
   "metadata": {},
   "source": [
    "34. Convert a set of strings to a set of integers."
   ]
  },
  {
   "cell_type": "code",
   "execution_count": 136,
   "id": "c79698bc-c913-47f1-8186-9f5d739e1719",
   "metadata": {},
   "outputs": [
    {
     "data": {
      "text/plain": [
       "{1, 2, 3, 4}"
      ]
     },
     "execution_count": 136,
     "metadata": {},
     "output_type": "execute_result"
    }
   ],
   "source": [
    "string_set = {'1','2','3','4'}\n",
    "int_set = set(map(lambda x : int(x), string_set))\n",
    "int_set\n"
   ]
  },
  {
   "cell_type": "code",
   "execution_count": null,
   "id": "244a3edb-c69d-4238-a81b-83d45387ed52",
   "metadata": {},
   "outputs": [],
   "source": []
  },
  {
   "cell_type": "markdown",
   "id": "383660fa-ae50-485d-850d-eae99a5d13e6",
   "metadata": {},
   "source": [
    "35. Convert a set of integers to a set of strings."
   ]
  },
  {
   "cell_type": "code",
   "execution_count": 137,
   "id": "e154a00a-35af-4a4a-916f-077704257d38",
   "metadata": {},
   "outputs": [
    {
     "data": {
      "text/plain": [
       "{'1', '2', '3', '4'}"
      ]
     },
     "execution_count": 137,
     "metadata": {},
     "output_type": "execute_result"
    }
   ],
   "source": [
    "s1 = {1, 2, 3, 4}\n",
    "string_set = set(map(lambda x : str(x), s1))\n",
    "string_set\n"
   ]
  },
  {
   "cell_type": "code",
   "execution_count": null,
   "id": "a8f57093-ef3d-4e7f-815d-b1fc125af58b",
   "metadata": {},
   "outputs": [],
   "source": []
  },
  {
   "cell_type": "markdown",
   "id": "ef537d5e-2136-47a8-933f-08010b4ae59d",
   "metadata": {},
   "source": [
    "36. Create a set from a tuple."
   ]
  },
  {
   "cell_type": "code",
   "execution_count": 139,
   "id": "5280cbdc-b593-41e0-a855-b5f84bce9c50",
   "metadata": {},
   "outputs": [
    {
     "data": {
      "text/plain": [
       "{1, 2, 3, 4, 5}"
      ]
     },
     "execution_count": 139,
     "metadata": {},
     "output_type": "execute_result"
    }
   ],
   "source": [
    "tple = (1,2,3,4,5)\n",
    "s = set(tple)\n",
    "s"
   ]
  },
  {
   "cell_type": "code",
   "execution_count": null,
   "id": "488d94db-5b62-4298-ba96-04474736b3f4",
   "metadata": {},
   "outputs": [],
   "source": []
  },
  {
   "cell_type": "markdown",
   "id": "6b15ffd5-e9ab-4b98-b82f-b84918284278",
   "metadata": {},
   "source": [
    "37. Convert a set to a tuple."
   ]
  },
  {
   "cell_type": "code",
   "execution_count": 140,
   "id": "275b37bd-2cfc-4367-a871-d0bf2f48c976",
   "metadata": {},
   "outputs": [
    {
     "data": {
      "text/plain": [
       "(1, 2, 3, 4, 5)"
      ]
     },
     "execution_count": 140,
     "metadata": {},
     "output_type": "execute_result"
    }
   ],
   "source": [
    "s = {1, 2, 3, 4, 5}\n",
    "tple = tuple(s)\n",
    "tple"
   ]
  },
  {
   "cell_type": "code",
   "execution_count": null,
   "id": "4837fe42-33ee-4b79-81ac-110b37990b91",
   "metadata": {},
   "outputs": [],
   "source": []
  },
  {
   "cell_type": "markdown",
   "id": "f1b7eb50-2408-4281-ab86-7ef0a6049f90",
   "metadata": {},
   "source": [
    "38. Find the maximum value in a set."
   ]
  },
  {
   "cell_type": "code",
   "execution_count": 141,
   "id": "2eb19fb2-0105-4d04-848e-c89c18854262",
   "metadata": {},
   "outputs": [
    {
     "data": {
      "text/plain": [
       "7"
      ]
     },
     "execution_count": 141,
     "metadata": {},
     "output_type": "execute_result"
    }
   ],
   "source": [
    "s = {1,2,3,4,5,6,7}\n",
    "max(s)"
   ]
  },
  {
   "cell_type": "code",
   "execution_count": null,
   "id": "5e2715ec-a22c-44fa-a6d8-0a822549913a",
   "metadata": {},
   "outputs": [],
   "source": []
  },
  {
   "cell_type": "markdown",
   "id": "cca84ec6-76f7-4977-bbf9-c792ff699465",
   "metadata": {},
   "source": [
    "39. Find the minimum value in a set."
   ]
  },
  {
   "cell_type": "code",
   "execution_count": 142,
   "id": "8e9f3008-e2ab-4608-91f1-b8a91c4ab3ad",
   "metadata": {},
   "outputs": [
    {
     "data": {
      "text/plain": [
       "1"
      ]
     },
     "execution_count": 142,
     "metadata": {},
     "output_type": "execute_result"
    }
   ],
   "source": [
    "s = {1,2,3,4,5,6,7}\n",
    "min(s)"
   ]
  },
  {
   "cell_type": "code",
   "execution_count": null,
   "id": "57d00a36-3288-435e-ad70-7b4d27a26871",
   "metadata": {},
   "outputs": [],
   "source": []
  },
  {
   "cell_type": "markdown",
   "id": "2a1a6009-f4a3-488c-a469-40a9e72477dc",
   "metadata": {},
   "source": [
    "40. Create a set from user input."
   ]
  },
  {
   "cell_type": "code",
   "execution_count": 144,
   "id": "7e33eb22-79a4-48e1-9815-86d5ec3996a1",
   "metadata": {},
   "outputs": [
    {
     "name": "stdin",
     "output_type": "stream",
     "text": [
      "Enter integers by giving space 1 2 3 4 5\n"
     ]
    },
    {
     "name": "stdout",
     "output_type": "stream",
     "text": [
      "{'1', '3', '4', '5', '2'}\n"
     ]
    }
   ],
   "source": [
    "usr_input = input('Enter integers by giving space')\n",
    "s = set(usr_input.split())\n",
    "print(s)\n"
   ]
  },
  {
   "cell_type": "code",
   "execution_count": null,
   "id": "c50eb003-9bdb-4644-9167-4b5677de16b1",
   "metadata": {},
   "outputs": [],
   "source": []
  },
  {
   "cell_type": "markdown",
   "id": "34171adc-ed6b-4337-a26f-839eede63d80",
   "metadata": {},
   "source": [
    "41. Check if the intersection of two sets is empty."
   ]
  },
  {
   "cell_type": "code",
   "execution_count": 146,
   "id": "9318313f-10f2-41a1-8bb6-d1b1498690d9",
   "metadata": {},
   "outputs": [
    {
     "data": {
      "text/plain": [
       "False"
      ]
     },
     "execution_count": 146,
     "metadata": {},
     "output_type": "execute_result"
    }
   ],
   "source": [
    "def check_empty_intersection(s1,s2):\n",
    "    if s1.intersection(s2) == set():\n",
    "        return True\n",
    "    else:\n",
    "        return False\n",
    "s1 = {1,2,3,4,5}\n",
    "s2 = {6,7,8,9,10}\n",
    "s3 = {1,2,4,5,9,0}\n",
    "check_empty_intersection(s1,s3)"
   ]
  },
  {
   "cell_type": "code",
   "execution_count": null,
   "id": "f950d9bf-6ecb-4eff-9d4f-6d6cfe516bf2",
   "metadata": {},
   "outputs": [],
   "source": []
  },
  {
   "cell_type": "markdown",
   "id": "796d4bdc-a4bc-4aa8-861b-8bc21a8bb4a8",
   "metadata": {},
   "source": [
    "42. Create a set of the first 5 Fibonacci numbers."
   ]
  },
  {
   "cell_type": "code",
   "execution_count": 150,
   "id": "78f3f6d2-0608-44c9-87a4-a9f119f4234e",
   "metadata": {},
   "outputs": [
    {
     "data": {
      "text/plain": [
       "{0, 1, 2, 3, 5}"
      ]
     },
     "execution_count": 150,
     "metadata": {},
     "output_type": "execute_result"
    }
   ],
   "source": [
    "def fibonacci(n):\n",
    "    s = []\n",
    "    for i in range(n+1):\n",
    "        if i==0 or i==1:\n",
    "            s.append(i)\n",
    "        else:\n",
    "            next_number = s[i-1]+s[i-2]\n",
    "            s.append(next_number)\n",
    "    return set(s)\n",
    "fibonacci(5)\n",
    "        \n",
    "        "
   ]
  },
  {
   "cell_type": "code",
   "execution_count": null,
   "id": "6a2d94ce-619a-4fa1-a3b4-1c4448ef7041",
   "metadata": {},
   "outputs": [],
   "source": []
  },
  {
   "cell_type": "markdown",
   "id": "88744998-9c06-4418-86e8-a9b7bd37563c",
   "metadata": {},
   "source": [
    "43. Remove duplicates from a list using sets."
   ]
  },
  {
   "cell_type": "code",
   "execution_count": 152,
   "id": "34c8936a-498e-414f-bf06-662a1e0457d0",
   "metadata": {},
   "outputs": [
    {
     "data": {
      "text/plain": [
       "[1, 2, 3, 4, 5, 6]"
      ]
     },
     "execution_count": 152,
     "metadata": {},
     "output_type": "execute_result"
    }
   ],
   "source": [
    "def rem_dup(l):\n",
    "    s = set(l)\n",
    "    return list(s)\n",
    "l = [1,2,2,2,2,3,4,4,4,5,5,6,6,6]\n",
    "rem_dup(l)"
   ]
  },
  {
   "cell_type": "code",
   "execution_count": null,
   "id": "b582a63c-918b-47c6-8aad-065dada9f9d0",
   "metadata": {},
   "outputs": [],
   "source": []
  },
  {
   "cell_type": "markdown",
   "id": "5c10a911-aade-420e-9e54-059226e401e7",
   "metadata": {},
   "source": [
    "44. Check if two sets have the same elements, regardless of their count."
   ]
  },
  {
   "cell_type": "code",
   "execution_count": 156,
   "id": "66c7bc72-cf16-4741-be61-90a9458b2e98",
   "metadata": {},
   "outputs": [
    {
     "data": {
      "text/plain": [
       "False"
      ]
     },
     "execution_count": 156,
     "metadata": {},
     "output_type": "execute_result"
    }
   ],
   "source": [
    "def same_element(s1,s2):\n",
    "    if s1.symmetric_difference(s2) ==set():\n",
    "        return True\n",
    "    else:\n",
    "        return False\n",
    "s1 = {1,2,3,2,1,3}\n",
    "s2={1,2,3}\n",
    "same_element(s1,s2)"
   ]
  },
  {
   "cell_type": "code",
   "execution_count": null,
   "id": "171e3587-c69f-40ed-8c46-c5bb94c4544b",
   "metadata": {},
   "outputs": [],
   "source": []
  },
  {
   "cell_type": "markdown",
   "id": "941949d9-3db9-4d9c-bc54-39ef55dc191f",
   "metadata": {},
   "source": [
    "45. Create a set of the first `n` powers of 2."
   ]
  },
  {
   "cell_type": "code",
   "execution_count": 157,
   "id": "c9b53482-f0d3-422e-82c3-2bd1a7eb5f53",
   "metadata": {},
   "outputs": [
    {
     "data": {
      "text/plain": [
       "{0, 1, 4, 9, 16, 25, 36, 49, 64, 81, 100}"
      ]
     },
     "execution_count": 157,
     "metadata": {},
     "output_type": "execute_result"
    }
   ],
   "source": [
    "def n_pow_two(n):\n",
    "    s = set()\n",
    "    for i in range(n+1):\n",
    "        s.add(i**2)\n",
    "    return s\n",
    "n_pow_two(10)"
   ]
  },
  {
   "cell_type": "code",
   "execution_count": null,
   "id": "ee7ea012-967f-4218-b3a1-52f30963a254",
   "metadata": {},
   "outputs": [],
   "source": []
  },
  {
   "cell_type": "markdown",
   "id": "3052f5d1-dd38-4107-bf46-0db08877269a",
   "metadata": {},
   "source": [
    "46. Find the common elements between a set and a list."
   ]
  },
  {
   "cell_type": "code",
   "execution_count": 158,
   "id": "650ec50e-ca16-4a0d-aee7-bfbe1d3d6f13",
   "metadata": {},
   "outputs": [
    {
     "data": {
      "text/plain": [
       "{1, 2, 4, 7, 8}"
      ]
     },
     "execution_count": 158,
     "metadata": {},
     "output_type": "execute_result"
    }
   ],
   "source": [
    "l = [1,2,3,4,5,6,7,8]\n",
    "s = {1,2,4,7,8,0}\n",
    "def comm_elem(s,l):\n",
    "    l = set(l)\n",
    "    return s.intersection(l)\n",
    "comm_elem(s,l)"
   ]
  },
  {
   "cell_type": "code",
   "execution_count": null,
   "id": "7086e1a2-31e5-4eff-8b7f-d6c837a04678",
   "metadata": {},
   "outputs": [],
   "source": []
  },
  {
   "cell_type": "markdown",
   "id": "983f7ce4-d6e2-4594-8c36-9c4a59c92762",
   "metadata": {},
   "source": [
    "47. Create a set of the first `n` triangular numbers."
   ]
  },
  {
   "cell_type": "code",
   "execution_count": 160,
   "id": "8798166a-7789-4111-b0c9-aeb43a4ea47b",
   "metadata": {},
   "outputs": [
    {
     "data": {
      "text/plain": [
       "{1, 3, 6, 10, 15, 21, 28, 36, 45}"
      ]
     },
     "execution_count": 160,
     "metadata": {},
     "output_type": "execute_result"
    }
   ],
   "source": [
    "def triangular_number(n):\n",
    "    s = set()\n",
    "    for i in range(1,n+1):\n",
    "        if i == 1:\n",
    "            s.add(i)\n",
    "        else:\n",
    "            next_number = sum(range(1,i))\n",
    "            s.add(next_number)\n",
    "    return s\n",
    "triangular_number(10)\n",
    "    "
   ]
  },
  {
   "cell_type": "code",
   "execution_count": null,
   "id": "273a0a93-6d42-4a72-9cc1-a7df09382b19",
   "metadata": {},
   "outputs": [],
   "source": []
  },
  {
   "cell_type": "markdown",
   "id": "356ae3a3-a5a6-4d92-993a-7e64f97441bf",
   "metadata": {},
   "source": [
    "48. Check if a set contains another set as a subset."
   ]
  },
  {
   "cell_type": "code",
   "execution_count": 171,
   "id": "5a0dbcdf-48f4-4ef5-9327-1bf9627bb507",
   "metadata": {},
   "outputs": [
    {
     "data": {
      "text/plain": [
       "True"
      ]
     },
     "execution_count": 171,
     "metadata": {},
     "output_type": "execute_result"
    }
   ],
   "source": [
    "def check_nested_set(s1,s2):\n",
    "    for i in s:\n",
    "        if s1.issubset(s2):\n",
    "            return True\n",
    "        else:\n",
    "             return False\n",
    "\n",
    "s1={1,2,34,4}\n",
    "s2= {1,2,3,4,5,6,7,34}\n",
    "check_nested_set(s1,s2)\n"
   ]
  },
  {
   "cell_type": "code",
   "execution_count": null,
   "id": "8117d0e1-f2d8-4277-a86f-5a4a21bf0626",
   "metadata": {},
   "outputs": [],
   "source": []
  },
  {
   "cell_type": "markdown",
   "id": "db240939-14a2-4e5b-8192-8a2989c9f22f",
   "metadata": {},
   "source": [
    "49. Create a set of alternating 1s and 0s of length `n`."
   ]
  },
  {
   "cell_type": "code",
   "execution_count": 169,
   "id": "107b2db6-7e27-4477-8638-64fd99491158",
   "metadata": {},
   "outputs": [
    {
     "data": {
      "text/plain": [
       "{0, 1}"
      ]
     },
     "execution_count": 169,
     "metadata": {},
     "output_type": "execute_result"
    }
   ],
   "source": [
    "def altering_0_1(n):\n",
    "    s = set()\n",
    "    for i in range(n+1):\n",
    "        if i%2==0:\n",
    "            s.add(1)\n",
    "        else:\n",
    "            s.add(0)\n",
    "    return s\n",
    "altering_0_1(10)"
   ]
  },
  {
   "cell_type": "code",
   "execution_count": null,
   "id": "fa9e8d8f-c45f-44a9-9ce2-157aad6e600a",
   "metadata": {},
   "outputs": [],
   "source": []
  },
  {
   "cell_type": "markdown",
   "id": "b60867c5-cdfc-4b0a-a062-d7338048cede",
   "metadata": {},
   "source": [
    "50. Merge multiple sets into one."
   ]
  },
  {
   "cell_type": "code",
   "execution_count": 178,
   "id": "9933ebb3-0ba1-4bcc-a90a-5155a41e5c63",
   "metadata": {},
   "outputs": [
    {
     "data": {
      "text/plain": [
       "{1, 2, 3, 4, 5, 6}"
      ]
     },
     "execution_count": 178,
     "metadata": {},
     "output_type": "execute_result"
    }
   ],
   "source": [
    "def merge_set(s1,s2,s3):\n",
    "    s1.update(s2,s3)\n",
    "    return s1\n",
    "s1= {1,2,3}\n",
    "s2 = {3,4,5}\n",
    "s3 = {4,5,6}\n",
    "merge_set(s1,s2,s3)\n",
    "    "
   ]
  },
  {
   "cell_type": "code",
   "execution_count": null,
   "id": "5d7838f7-e855-4748-b1ad-62fde9015c54",
   "metadata": {},
   "outputs": [],
   "source": []
  },
  {
   "cell_type": "code",
   "execution_count": null,
   "id": "34abcd89-5306-454e-b0a2-d137330d677b",
   "metadata": {},
   "outputs": [],
   "source": []
  },
  {
   "cell_type": "code",
   "execution_count": null,
   "id": "2c522b73-cf76-40f4-927f-e659e3976fee",
   "metadata": {},
   "outputs": [],
   "source": []
  }
 ],
 "metadata": {
  "kernelspec": {
   "display_name": "Python 3 (ipykernel)",
   "language": "python",
   "name": "python3"
  },
  "language_info": {
   "codemirror_mode": {
    "name": "ipython",
    "version": 3
   },
   "file_extension": ".py",
   "mimetype": "text/x-python",
   "name": "python",
   "nbconvert_exporter": "python",
   "pygments_lexer": "ipython3",
   "version": "3.10.8"
  }
 },
 "nbformat": 4,
 "nbformat_minor": 5
}
