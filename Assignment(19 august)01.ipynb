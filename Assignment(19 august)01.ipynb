{
 "cells": [
  {
   "cell_type": "markdown",
   "id": "570750e2-3a06-4fd5-98dd-d9b22f7ee121",
   "metadata": {},
   "source": [
    "1. Declare two variables, `x` and `y`, and assign them integer values.\n",
    "Swap the values of these variables without using any temporary\n",
    "variable."
   ]
  },
  {
   "cell_type": "code",
   "execution_count": 1,
   "id": "b7482d31-deca-4567-b190-424041091cd4",
   "metadata": {},
   "outputs": [],
   "source": [
    "# Declaring and assigning the integer value to varibles\n",
    "x=12;\n",
    "y=32;"
   ]
  },
  {
   "cell_type": "code",
   "execution_count": 3,
   "id": "d1a99145-85ba-4f7a-94de-8cad7b1b8942",
   "metadata": {},
   "outputs": [
    {
     "data": {
      "text/plain": [
       "(12, 32)"
      ]
     },
     "execution_count": 3,
     "metadata": {},
     "output_type": "execute_result"
    }
   ],
   "source": [
    "# printing the value of x and y \n",
    "x,y "
   ]
  },
  {
   "cell_type": "code",
   "execution_count": 4,
   "id": "6eac6920-22f3-4194-85af-07cee90b9e56",
   "metadata": {},
   "outputs": [],
   "source": [
    "# swapping the value of x and y by assigning the value of y to x and viceversa\n",
    "\n",
    "x,y = y,x"
   ]
  },
  {
   "cell_type": "code",
   "execution_count": 5,
   "id": "1347ce3a-1c31-422d-b721-89196470a46f",
   "metadata": {},
   "outputs": [
    {
     "data": {
      "text/plain": [
       "(32, 12)"
      ]
     },
     "execution_count": 5,
     "metadata": {},
     "output_type": "execute_result"
    }
   ],
   "source": [
    "# Result after swapping the value of x : \n",
    "x,y"
   ]
  },
  {
   "cell_type": "code",
   "execution_count": null,
   "id": "0bebff52-ce13-4a20-8c24-c17c098a2bfa",
   "metadata": {},
   "outputs": [],
   "source": []
  },
  {
   "cell_type": "markdown",
   "id": "4f665843-d583-411c-b506-645725ad512f",
   "metadata": {},
   "source": [
    " 2. Create a program that calculates the area of a rectangle. Take the length and width as inputs from the user and store them in variables. Calculate and display the area."
   ]
  },
  {
   "cell_type": "code",
   "execution_count": 6,
   "id": "591488fa-84c4-4d58-9f8c-51c93daa09e9",
   "metadata": {},
   "outputs": [
    {
     "name": "stdin",
     "output_type": "stream",
     "text": [
      "Enter the length of rectangle :  12\n",
      "Enter the width of rectangle :  5\n"
     ]
    },
    {
     "name": "stdout",
     "output_type": "stream",
     "text": [
      "Area of rectangle is :  60\n"
     ]
    }
   ],
   "source": [
    "length= int(input(\"Enter the length of rectangle : \"))\n",
    "width = int(input(\"Enter the width of rectangle : \"))\n",
    "Area = length * width\n",
    "print(\"Area of rectangle is : \" , Area)"
   ]
  },
  {
   "cell_type": "code",
   "execution_count": null,
   "id": "8bf11260-4723-4d43-941f-4d988452a9b4",
   "metadata": {},
   "outputs": [],
   "source": []
  },
  {
   "cell_type": "markdown",
   "id": "d6538573-93c5-4865-95a0-d73e882766ca",
   "metadata": {},
   "source": [
    " 3. Write a Python program that converts temperature from Celsius to Fahrenheit. Take the temperature in Celsius as input, store it in a\\ variable, convert it to Fahrenheit, and display the result."
   ]
  },
  {
   "cell_type": "code",
   "execution_count": 8,
   "id": "142d8436-17fa-4377-bc9a-46aeb3a28413",
   "metadata": {},
   "outputs": [
    {
     "name": "stdin",
     "output_type": "stream",
     "text": [
      "Enter the temperature into celcius 19\n"
     ]
    },
    {
     "name": "stdout",
     "output_type": "stream",
     "text": [
      "Temperature in Fahrenheit is :  66.2\n"
     ]
    }
   ],
   "source": [
    "temp_celcius = int(input(\"Enter the temperature into celcius: \"))\n",
    "temp_fahrenheit = (temp_celcius * (9/5))+32\n",
    "print(\"Temperature in Fahrenheit is : \" , temp_fahrenheit);"
   ]
  },
  {
   "cell_type": "code",
   "execution_count": null,
   "id": "362d8f9a-3abd-486c-bfc6-9a710ed7089f",
   "metadata": {},
   "outputs": [],
   "source": []
  },
  {
   "cell_type": "markdown",
   "id": "7c3a8125-a63e-4b67-824e-cf6edf9d2500",
   "metadata": {},
   "source": [
    "# String Based Question"
   ]
  },
  {
   "cell_type": "markdown",
   "id": "5ac0d44f-84bf-4df3-9a1d-aefa9b140dd4",
   "metadata": {},
   "source": [
    "1. Write a Python program that takes a string as input and prints the\n",
    "length of the string."
   ]
  },
  {
   "cell_type": "code",
   "execution_count": 9,
   "id": "ba9a702f-924c-402b-b895-23677a3638c3",
   "metadata": {},
   "outputs": [
    {
     "name": "stdin",
     "output_type": "stream",
     "text": [
      "Enter the string:  Rohit\n"
     ]
    },
    {
     "name": "stdout",
     "output_type": "stream",
     "text": [
      "Length of string is :  5\n"
     ]
    }
   ],
   "source": [
    "str_ = input(\"Enter the string: \")\n",
    "str_len=len(str_)\n",
    "print(\"Length of string is : \", str_len)"
   ]
  },
  {
   "cell_type": "code",
   "execution_count": null,
   "id": "edb8c622-6522-4332-9c9a-a060008b6edd",
   "metadata": {},
   "outputs": [],
   "source": []
  },
  {
   "cell_type": "markdown",
   "id": "de8ff69d-5344-44dd-88ff-0be264df9d5d",
   "metadata": {},
   "source": [
    "2. Create a program that takes a sentence from the user and counts the\n",
    "number of vowels (a, e, i, o, u) in the string."
   ]
  },
  {
   "cell_type": "code",
   "execution_count": 19,
   "id": "422e3df1-8634-47d5-989a-aacc224849c9",
   "metadata": {},
   "outputs": [
    {
     "name": "stdin",
     "output_type": "stream",
     "text": [
      "Enter your sentence :  Hello everyone how are you all ?\n"
     ]
    },
    {
     "data": {
      "text/plain": [
       "12"
      ]
     },
     "execution_count": 19,
     "metadata": {},
     "output_type": "execute_result"
    }
   ],
   "source": [
    "str_1= input(\"Enter your sentence : \")\n",
    "vowel_count = str_1.count('a')+str_1.count('e')+str_1.count('i')+str_1.count('o')+str_1.count('u');\n",
    "vowel_count\n",
    "\n"
   ]
  },
  {
   "cell_type": "raw",
   "id": "36b77865-133e-4f01-b74a-b911e97c9401",
   "metadata": {},
   "source": []
  },
  {
   "cell_type": "markdown",
   "id": "b786c3c6-0641-42c4-a2e5-6b9e6940fe83",
   "metadata": {},
   "source": [
    "3 . Given a string, reverse the order of characters using string slicing and\n",
    "print the reversed string."
   ]
  },
  {
   "cell_type": "code",
   "execution_count": 24,
   "id": "1d9b0b43-912a-4b6f-be5f-7c7af930ee6d",
   "metadata": {},
   "outputs": [],
   "source": [
    "str_2 = 'pwskills';\n",
    "str_2[: : -1]\n",
    "reversed_str=str_2[: : -1]"
   ]
  },
  {
   "cell_type": "code",
   "execution_count": 26,
   "id": "396781a5-e6ba-48bf-a7cc-e11782372511",
   "metadata": {},
   "outputs": [
    {
     "name": "stdout",
     "output_type": "stream",
     "text": [
      "Reversed string is :  sllikswp\n"
     ]
    }
   ],
   "source": [
    "print(\"Reversed string is : \",reversed_str)"
   ]
  },
  {
   "cell_type": "code",
   "execution_count": null,
   "id": "4c8a8861-e071-4df7-9015-190e4b511df8",
   "metadata": {},
   "outputs": [],
   "source": []
  },
  {
   "cell_type": "markdown",
   "id": "2c2142a5-da14-479a-ba90-3667bf041255",
   "metadata": {},
   "source": [
    "4. Write a program that takes a string as input and checks if it is a\n",
    "palindrome (reads the same forwards and backwards)."
   ]
  },
  {
   "cell_type": "code",
   "execution_count": 30,
   "id": "17a21030-4a25-4418-97be-bb10ecf89139",
   "metadata": {},
   "outputs": [
    {
     "name": "stdin",
     "output_type": "stream",
     "text": [
      "Enter the string :  Hello\n"
     ]
    },
    {
     "name": "stdout",
     "output_type": "stream",
     "text": [
      "not a palindrone\n"
     ]
    }
   ],
   "source": [
    "str_3 = input(\"Enter the string : \")\n",
    "if str_3 == str_3[::-1]:\n",
    "    print(\"It's a palindrone\")\n",
    "else:\n",
    "    print(\"not a palindrone\")"
   ]
  },
  {
   "cell_type": "code",
   "execution_count": null,
   "id": "e024e685-e2af-44d3-81f6-3e4a84ad50a7",
   "metadata": {},
   "outputs": [],
   "source": []
  },
  {
   "cell_type": "markdown",
   "id": "d2b6554b-2bcd-4d02-9eb7-6205aa6ef707",
   "metadata": {},
   "source": [
    "5. Create a program that takes a string as input and removes all the\n",
    "spaces from it. Print the modified string without spaces.\n"
   ]
  },
  {
   "cell_type": "code",
   "execution_count": 33,
   "id": "0ec7da63-2756-47d7-ad8f-9f35241005ee",
   "metadata": {},
   "outputs": [
    {
     "name": "stdin",
     "output_type": "stream",
     "text": [
      "Enter the string        Hello Everyone\n"
     ]
    },
    {
     "name": "stdout",
     "output_type": "stream",
     "text": [
      "New modified string is :  Hello Everyone\n"
     ]
    }
   ],
   "source": [
    "str_4 = input(\"Enter the string\")\n",
    "modified_str = str_4.strip()   \n",
    "print(\"New modified string is : \",modified_str)"
   ]
  },
  {
   "cell_type": "code",
   "execution_count": null,
   "id": "5b547446-18ef-4f5d-9c95-39aeb8549c9e",
   "metadata": {},
   "outputs": [],
   "source": []
  }
 ],
 "metadata": {
  "kernelspec": {
   "display_name": "Python 3 (ipykernel)",
   "language": "python",
   "name": "python3"
  },
  "language_info": {
   "codemirror_mode": {
    "name": "ipython",
    "version": 3
   },
   "file_extension": ".py",
   "mimetype": "text/x-python",
   "name": "python",
   "nbconvert_exporter": "python",
   "pygments_lexer": "ipython3",
   "version": "3.10.8"
  }
 },
 "nbformat": 4,
 "nbformat_minor": 5
}
